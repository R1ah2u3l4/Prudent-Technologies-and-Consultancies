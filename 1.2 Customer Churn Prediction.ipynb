{
 "cells": [
  {
   "cell_type": "markdown",
   "id": "1b9d858b-e16b-4750-9bd0-2fe95313fa84",
   "metadata": {},
   "source": [
    "### 1.2 CUSTOMER CHURN PREDICTION "
   ]
  },
  {
   "cell_type": "markdown",
   "id": "4e22df68-360f-44f2-96c7-234468665679",
   "metadata": {},
   "source": [
    "Problem Statement : Build a Predictive model to estimate the likelihood of customer churn for a telecommunication company\n",
    "                    The model should consider factors such as customer demographics, Usage patterns, Billing history, and Customer \n",
    "                    service Interactions"
   ]
  },
  {
   "cell_type": "markdown",
   "id": "faebc8a6-e467-44fa-b62f-6d6e07dde914",
   "metadata": {},
   "source": [
    "Business Objective: Minimize the Customer churn rates,\n",
    "Businesss Objective challenging factors  : By identifying some external factors like Customer behaviour, Service usage,\n",
    "                                           and customer demographs, Improving Customer Retention, and optimize marketing strategies"
   ]
  },
  {
   "cell_type": "markdown",
   "id": "718370c4-92ac-4d6e-8f3e-45a1f14fa5a4",
   "metadata": {},
   "source": [
    "Business Constraints : Maximize the Data Privacy and Compliance, Customer Satisfaction "
   ]
  },
  {
   "cell_type": "markdown",
   "id": "a692e0bc-44e8-4700-863a-c3b52cfe7b17",
   "metadata": {},
   "source": [
    "### Data Description"
   ]
  },
  {
   "cell_type": "markdown",
   "id": "43c05f3e-ad81-4445-b60a-c1970d3d6e3a",
   "metadata": {},
   "source": [
    "This datset contains 21 records in that 20 columns are dependent variables and one independent variable"
   ]
  },
  {
   "cell_type": "markdown",
   "id": "d0d64d76-a32e-4dce-8362-17cc081bf753",
   "metadata": {},
   "source": [
    "### Project Management for CRISP-ML(Q) "
   ]
  },
  {
   "cell_type": "markdown",
   "id": "9c15ea5a-3d30-45e7-aa80-b08460e700f4",
   "metadata": {},
   "source": [
    "1.Business and Data Understanding\n",
    "2. Data preparation or Data Pre-processing\n",
    "3. Model Building\n",
    "4. Model Evaluation\n",
    "5. Model Deployment\n",
    "6. Monitoring and maintainence"
   ]
  },
  {
   "cell_type": "markdown",
   "id": "5221b3aa-0447-4f4c-b454-3bb49432edc8",
   "metadata": {},
   "source": [
    "### Data Understanding"
   ]
  },
  {
   "cell_type": "raw",
   "id": "0ccfb277-4227-405b-802b-31ee69915286",
   "metadata": {},
   "source": [
    "## Classification models\n",
    "Churn — Whether the customer churned or not (Yes or No)\n",
    "Services Each Customer Has to Sign Up\n",
    "\n",
    "PhoneService — Whether the customer has a phone service or not (Yes or No)\n",
    "MultipleLines — Whether the customer has multiple lines or not (Yes, No, No phone service)\n",
    "InternetService — A type of internet service the customer has (DSL, Fiber Optic, No)\n",
    "OnlineSecurity — Whether the customer has online security or not (Yes, No, No Internet Service)\n",
    "OnlineBackup — Whether the customer has online backup or not (Yes, No, No Internet Service)\n",
    "DeviceProtection — Whether the customer has device protection or not (Yes, No, No Internet Service)\n",
    "TechSupport — Whether the customer has tech support or not (Yes, No, No Internet Service)\n",
    "StreamingTV—Whether the customer has a streaming TV (Yes, No, No Internet Service)\n",
    "StreamingMovies — Whether the customer has a streaming movie (Yes, No, No Internet Service)\n",
    "Customer Account Information\n",
    "\n",
    "Tenure — How long customer has stayed in the company\n",
    "Contract — The type of contract the customer has (Month-to-Month, One year, Two years)\n",
    "PaperlessBilling — Whether the customer has a paperless billing (Yes, No)\n",
    "PaymentMethod — payment method used by the customer (Electronic check, Mailed check, Bank transfer (automatic), Credit card (automatic))\n",
    "MonthlyCharges — Amount charged to the customer monthly\n",
    "TotalCharges — The total amount charged to the customer\n",
    "Customer Demographic Info\n",
    "\n",
    "CustomerID — Unique value for each customer\n",
    "gender — The type of gender each customer (Female, Male)\n",
    "SeniorCitizen — Whether the customer is a senior citizen (Yes, No)\n",
    "Partner — Whether the customer has a partner or not (Yes, No)\n",
    "Dependents — Whether the customer has a dependent or not (Yes, No)"
   ]
  },
  {
   "cell_type": "code",
   "execution_count": 1,
   "id": "1c73c904-775f-4445-8ec9-40e14dc2f816",
   "metadata": {},
   "outputs": [],
   "source": [
    "## Import the required packagess\n",
    "\n",
    "import pandas as pd\n",
    "import numpy as np\n",
    "import matplotlib.pyplot as plt\n",
    "%matplotlib inline\n",
    "import seaborn as sns\n",
    "import io"
   ]
  },
  {
   "cell_type": "code",
   "execution_count": 2,
   "id": "7a773123-ab2e-4029-a821-082707059bfc",
   "metadata": {},
   "outputs": [
    {
     "name": "stdout",
     "output_type": "stream",
     "text": [
      "C:\\Users\\hp\\Desktop\\1.2 Customer churn\n"
     ]
    }
   ],
   "source": [
    "%cd \"C:\\Users\\hp\\Desktop\\1.2 Customer churn\""
   ]
  },
  {
   "cell_type": "code",
   "execution_count": 3,
   "id": "1c650803-4456-4e9d-b4ec-9712ebcc90f3",
   "metadata": {},
   "outputs": [],
   "source": [
    "df_churn = pd.read_csv(\"WA_Fn-UseC_-Telco-Customer-Churn.csv\")"
   ]
  },
  {
   "cell_type": "code",
   "execution_count": 4,
   "id": "eedb346a-e1e0-4c74-a190-67ae4306c763",
   "metadata": {},
   "outputs": [
    {
     "data": {
      "text/html": [
       "<div>\n",
       "<style scoped>\n",
       "    .dataframe tbody tr th:only-of-type {\n",
       "        vertical-align: middle;\n",
       "    }\n",
       "\n",
       "    .dataframe tbody tr th {\n",
       "        vertical-align: top;\n",
       "    }\n",
       "\n",
       "    .dataframe thead th {\n",
       "        text-align: right;\n",
       "    }\n",
       "</style>\n",
       "<table border=\"1\" class=\"dataframe\">\n",
       "  <thead>\n",
       "    <tr style=\"text-align: right;\">\n",
       "      <th></th>\n",
       "      <th>customerID</th>\n",
       "      <th>gender</th>\n",
       "      <th>SeniorCitizen</th>\n",
       "      <th>Partner</th>\n",
       "      <th>Dependents</th>\n",
       "      <th>tenure</th>\n",
       "      <th>PhoneService</th>\n",
       "      <th>MultipleLines</th>\n",
       "      <th>InternetService</th>\n",
       "      <th>OnlineSecurity</th>\n",
       "      <th>...</th>\n",
       "      <th>DeviceProtection</th>\n",
       "      <th>TechSupport</th>\n",
       "      <th>StreamingTV</th>\n",
       "      <th>StreamingMovies</th>\n",
       "      <th>Contract</th>\n",
       "      <th>PaperlessBilling</th>\n",
       "      <th>PaymentMethod</th>\n",
       "      <th>MonthlyCharges</th>\n",
       "      <th>TotalCharges</th>\n",
       "      <th>Churn</th>\n",
       "    </tr>\n",
       "  </thead>\n",
       "  <tbody>\n",
       "    <tr>\n",
       "      <th>0</th>\n",
       "      <td>7590-VHVEG</td>\n",
       "      <td>Female</td>\n",
       "      <td>0</td>\n",
       "      <td>Yes</td>\n",
       "      <td>No</td>\n",
       "      <td>1</td>\n",
       "      <td>No</td>\n",
       "      <td>No phone service</td>\n",
       "      <td>DSL</td>\n",
       "      <td>No</td>\n",
       "      <td>...</td>\n",
       "      <td>No</td>\n",
       "      <td>No</td>\n",
       "      <td>No</td>\n",
       "      <td>No</td>\n",
       "      <td>Month-to-month</td>\n",
       "      <td>Yes</td>\n",
       "      <td>Electronic check</td>\n",
       "      <td>29.85</td>\n",
       "      <td>29.85</td>\n",
       "      <td>No</td>\n",
       "    </tr>\n",
       "    <tr>\n",
       "      <th>1</th>\n",
       "      <td>5575-GNVDE</td>\n",
       "      <td>Male</td>\n",
       "      <td>0</td>\n",
       "      <td>No</td>\n",
       "      <td>No</td>\n",
       "      <td>34</td>\n",
       "      <td>Yes</td>\n",
       "      <td>No</td>\n",
       "      <td>DSL</td>\n",
       "      <td>Yes</td>\n",
       "      <td>...</td>\n",
       "      <td>Yes</td>\n",
       "      <td>No</td>\n",
       "      <td>No</td>\n",
       "      <td>No</td>\n",
       "      <td>One year</td>\n",
       "      <td>No</td>\n",
       "      <td>Mailed check</td>\n",
       "      <td>56.95</td>\n",
       "      <td>1889.5</td>\n",
       "      <td>No</td>\n",
       "    </tr>\n",
       "    <tr>\n",
       "      <th>2</th>\n",
       "      <td>3668-QPYBK</td>\n",
       "      <td>Male</td>\n",
       "      <td>0</td>\n",
       "      <td>No</td>\n",
       "      <td>No</td>\n",
       "      <td>2</td>\n",
       "      <td>Yes</td>\n",
       "      <td>No</td>\n",
       "      <td>DSL</td>\n",
       "      <td>Yes</td>\n",
       "      <td>...</td>\n",
       "      <td>No</td>\n",
       "      <td>No</td>\n",
       "      <td>No</td>\n",
       "      <td>No</td>\n",
       "      <td>Month-to-month</td>\n",
       "      <td>Yes</td>\n",
       "      <td>Mailed check</td>\n",
       "      <td>53.85</td>\n",
       "      <td>108.15</td>\n",
       "      <td>Yes</td>\n",
       "    </tr>\n",
       "    <tr>\n",
       "      <th>3</th>\n",
       "      <td>7795-CFOCW</td>\n",
       "      <td>Male</td>\n",
       "      <td>0</td>\n",
       "      <td>No</td>\n",
       "      <td>No</td>\n",
       "      <td>45</td>\n",
       "      <td>No</td>\n",
       "      <td>No phone service</td>\n",
       "      <td>DSL</td>\n",
       "      <td>Yes</td>\n",
       "      <td>...</td>\n",
       "      <td>Yes</td>\n",
       "      <td>Yes</td>\n",
       "      <td>No</td>\n",
       "      <td>No</td>\n",
       "      <td>One year</td>\n",
       "      <td>No</td>\n",
       "      <td>Bank transfer (automatic)</td>\n",
       "      <td>42.30</td>\n",
       "      <td>1840.75</td>\n",
       "      <td>No</td>\n",
       "    </tr>\n",
       "    <tr>\n",
       "      <th>4</th>\n",
       "      <td>9237-HQITU</td>\n",
       "      <td>Female</td>\n",
       "      <td>0</td>\n",
       "      <td>No</td>\n",
       "      <td>No</td>\n",
       "      <td>2</td>\n",
       "      <td>Yes</td>\n",
       "      <td>No</td>\n",
       "      <td>Fiber optic</td>\n",
       "      <td>No</td>\n",
       "      <td>...</td>\n",
       "      <td>No</td>\n",
       "      <td>No</td>\n",
       "      <td>No</td>\n",
       "      <td>No</td>\n",
       "      <td>Month-to-month</td>\n",
       "      <td>Yes</td>\n",
       "      <td>Electronic check</td>\n",
       "      <td>70.70</td>\n",
       "      <td>151.65</td>\n",
       "      <td>Yes</td>\n",
       "    </tr>\n",
       "    <tr>\n",
       "      <th>...</th>\n",
       "      <td>...</td>\n",
       "      <td>...</td>\n",
       "      <td>...</td>\n",
       "      <td>...</td>\n",
       "      <td>...</td>\n",
       "      <td>...</td>\n",
       "      <td>...</td>\n",
       "      <td>...</td>\n",
       "      <td>...</td>\n",
       "      <td>...</td>\n",
       "      <td>...</td>\n",
       "      <td>...</td>\n",
       "      <td>...</td>\n",
       "      <td>...</td>\n",
       "      <td>...</td>\n",
       "      <td>...</td>\n",
       "      <td>...</td>\n",
       "      <td>...</td>\n",
       "      <td>...</td>\n",
       "      <td>...</td>\n",
       "      <td>...</td>\n",
       "    </tr>\n",
       "    <tr>\n",
       "      <th>7038</th>\n",
       "      <td>6840-RESVB</td>\n",
       "      <td>Male</td>\n",
       "      <td>0</td>\n",
       "      <td>Yes</td>\n",
       "      <td>Yes</td>\n",
       "      <td>24</td>\n",
       "      <td>Yes</td>\n",
       "      <td>Yes</td>\n",
       "      <td>DSL</td>\n",
       "      <td>Yes</td>\n",
       "      <td>...</td>\n",
       "      <td>Yes</td>\n",
       "      <td>Yes</td>\n",
       "      <td>Yes</td>\n",
       "      <td>Yes</td>\n",
       "      <td>One year</td>\n",
       "      <td>Yes</td>\n",
       "      <td>Mailed check</td>\n",
       "      <td>84.80</td>\n",
       "      <td>1990.5</td>\n",
       "      <td>No</td>\n",
       "    </tr>\n",
       "    <tr>\n",
       "      <th>7039</th>\n",
       "      <td>2234-XADUH</td>\n",
       "      <td>Female</td>\n",
       "      <td>0</td>\n",
       "      <td>Yes</td>\n",
       "      <td>Yes</td>\n",
       "      <td>72</td>\n",
       "      <td>Yes</td>\n",
       "      <td>Yes</td>\n",
       "      <td>Fiber optic</td>\n",
       "      <td>No</td>\n",
       "      <td>...</td>\n",
       "      <td>Yes</td>\n",
       "      <td>No</td>\n",
       "      <td>Yes</td>\n",
       "      <td>Yes</td>\n",
       "      <td>One year</td>\n",
       "      <td>Yes</td>\n",
       "      <td>Credit card (automatic)</td>\n",
       "      <td>103.20</td>\n",
       "      <td>7362.9</td>\n",
       "      <td>No</td>\n",
       "    </tr>\n",
       "    <tr>\n",
       "      <th>7040</th>\n",
       "      <td>4801-JZAZL</td>\n",
       "      <td>Female</td>\n",
       "      <td>0</td>\n",
       "      <td>Yes</td>\n",
       "      <td>Yes</td>\n",
       "      <td>11</td>\n",
       "      <td>No</td>\n",
       "      <td>No phone service</td>\n",
       "      <td>DSL</td>\n",
       "      <td>Yes</td>\n",
       "      <td>...</td>\n",
       "      <td>No</td>\n",
       "      <td>No</td>\n",
       "      <td>No</td>\n",
       "      <td>No</td>\n",
       "      <td>Month-to-month</td>\n",
       "      <td>Yes</td>\n",
       "      <td>Electronic check</td>\n",
       "      <td>29.60</td>\n",
       "      <td>346.45</td>\n",
       "      <td>No</td>\n",
       "    </tr>\n",
       "    <tr>\n",
       "      <th>7041</th>\n",
       "      <td>8361-LTMKD</td>\n",
       "      <td>Male</td>\n",
       "      <td>1</td>\n",
       "      <td>Yes</td>\n",
       "      <td>No</td>\n",
       "      <td>4</td>\n",
       "      <td>Yes</td>\n",
       "      <td>Yes</td>\n",
       "      <td>Fiber optic</td>\n",
       "      <td>No</td>\n",
       "      <td>...</td>\n",
       "      <td>No</td>\n",
       "      <td>No</td>\n",
       "      <td>No</td>\n",
       "      <td>No</td>\n",
       "      <td>Month-to-month</td>\n",
       "      <td>Yes</td>\n",
       "      <td>Mailed check</td>\n",
       "      <td>74.40</td>\n",
       "      <td>306.6</td>\n",
       "      <td>Yes</td>\n",
       "    </tr>\n",
       "    <tr>\n",
       "      <th>7042</th>\n",
       "      <td>3186-AJIEK</td>\n",
       "      <td>Male</td>\n",
       "      <td>0</td>\n",
       "      <td>No</td>\n",
       "      <td>No</td>\n",
       "      <td>66</td>\n",
       "      <td>Yes</td>\n",
       "      <td>No</td>\n",
       "      <td>Fiber optic</td>\n",
       "      <td>Yes</td>\n",
       "      <td>...</td>\n",
       "      <td>Yes</td>\n",
       "      <td>Yes</td>\n",
       "      <td>Yes</td>\n",
       "      <td>Yes</td>\n",
       "      <td>Two year</td>\n",
       "      <td>Yes</td>\n",
       "      <td>Bank transfer (automatic)</td>\n",
       "      <td>105.65</td>\n",
       "      <td>6844.5</td>\n",
       "      <td>No</td>\n",
       "    </tr>\n",
       "  </tbody>\n",
       "</table>\n",
       "<p>7043 rows × 21 columns</p>\n",
       "</div>"
      ],
      "text/plain": [
       "      customerID  gender  SeniorCitizen Partner Dependents  tenure  \\\n",
       "0     7590-VHVEG  Female              0     Yes         No       1   \n",
       "1     5575-GNVDE    Male              0      No         No      34   \n",
       "2     3668-QPYBK    Male              0      No         No       2   \n",
       "3     7795-CFOCW    Male              0      No         No      45   \n",
       "4     9237-HQITU  Female              0      No         No       2   \n",
       "...          ...     ...            ...     ...        ...     ...   \n",
       "7038  6840-RESVB    Male              0     Yes        Yes      24   \n",
       "7039  2234-XADUH  Female              0     Yes        Yes      72   \n",
       "7040  4801-JZAZL  Female              0     Yes        Yes      11   \n",
       "7041  8361-LTMKD    Male              1     Yes         No       4   \n",
       "7042  3186-AJIEK    Male              0      No         No      66   \n",
       "\n",
       "     PhoneService     MultipleLines InternetService OnlineSecurity  ...  \\\n",
       "0              No  No phone service             DSL             No  ...   \n",
       "1             Yes                No             DSL            Yes  ...   \n",
       "2             Yes                No             DSL            Yes  ...   \n",
       "3              No  No phone service             DSL            Yes  ...   \n",
       "4             Yes                No     Fiber optic             No  ...   \n",
       "...           ...               ...             ...            ...  ...   \n",
       "7038          Yes               Yes             DSL            Yes  ...   \n",
       "7039          Yes               Yes     Fiber optic             No  ...   \n",
       "7040           No  No phone service             DSL            Yes  ...   \n",
       "7041          Yes               Yes     Fiber optic             No  ...   \n",
       "7042          Yes                No     Fiber optic            Yes  ...   \n",
       "\n",
       "     DeviceProtection TechSupport StreamingTV StreamingMovies        Contract  \\\n",
       "0                  No          No          No              No  Month-to-month   \n",
       "1                 Yes          No          No              No        One year   \n",
       "2                  No          No          No              No  Month-to-month   \n",
       "3                 Yes         Yes          No              No        One year   \n",
       "4                  No          No          No              No  Month-to-month   \n",
       "...               ...         ...         ...             ...             ...   \n",
       "7038              Yes         Yes         Yes             Yes        One year   \n",
       "7039              Yes          No         Yes             Yes        One year   \n",
       "7040               No          No          No              No  Month-to-month   \n",
       "7041               No          No          No              No  Month-to-month   \n",
       "7042              Yes         Yes         Yes             Yes        Two year   \n",
       "\n",
       "     PaperlessBilling              PaymentMethod MonthlyCharges  TotalCharges  \\\n",
       "0                 Yes           Electronic check          29.85         29.85   \n",
       "1                  No               Mailed check          56.95        1889.5   \n",
       "2                 Yes               Mailed check          53.85        108.15   \n",
       "3                  No  Bank transfer (automatic)          42.30       1840.75   \n",
       "4                 Yes           Electronic check          70.70        151.65   \n",
       "...               ...                        ...            ...           ...   \n",
       "7038              Yes               Mailed check          84.80        1990.5   \n",
       "7039              Yes    Credit card (automatic)         103.20        7362.9   \n",
       "7040              Yes           Electronic check          29.60        346.45   \n",
       "7041              Yes               Mailed check          74.40         306.6   \n",
       "7042              Yes  Bank transfer (automatic)         105.65        6844.5   \n",
       "\n",
       "     Churn  \n",
       "0       No  \n",
       "1       No  \n",
       "2      Yes  \n",
       "3       No  \n",
       "4      Yes  \n",
       "...    ...  \n",
       "7038    No  \n",
       "7039    No  \n",
       "7040    No  \n",
       "7041   Yes  \n",
       "7042    No  \n",
       "\n",
       "[7043 rows x 21 columns]"
      ]
     },
     "execution_count": 4,
     "metadata": {},
     "output_type": "execute_result"
    }
   ],
   "source": [
    "df_churn"
   ]
  },
  {
   "cell_type": "code",
   "execution_count": 5,
   "id": "0e876135-4050-439a-acd3-9c335dd81abe",
   "metadata": {},
   "outputs": [
    {
     "name": "stdout",
     "output_type": "stream",
     "text": [
      "<class 'pandas.core.frame.DataFrame'>\n",
      "RangeIndex: 7043 entries, 0 to 7042\n",
      "Data columns (total 21 columns):\n",
      " #   Column            Non-Null Count  Dtype  \n",
      "---  ------            --------------  -----  \n",
      " 0   customerID        7043 non-null   object \n",
      " 1   gender            7043 non-null   object \n",
      " 2   SeniorCitizen     7043 non-null   int64  \n",
      " 3   Partner           7043 non-null   object \n",
      " 4   Dependents        7043 non-null   object \n",
      " 5   tenure            7043 non-null   int64  \n",
      " 6   PhoneService      7043 non-null   object \n",
      " 7   MultipleLines     7043 non-null   object \n",
      " 8   InternetService   7043 non-null   object \n",
      " 9   OnlineSecurity    7043 non-null   object \n",
      " 10  OnlineBackup      7043 non-null   object \n",
      " 11  DeviceProtection  7043 non-null   object \n",
      " 12  TechSupport       7043 non-null   object \n",
      " 13  StreamingTV       7043 non-null   object \n",
      " 14  StreamingMovies   7043 non-null   object \n",
      " 15  Contract          7043 non-null   object \n",
      " 16  PaperlessBilling  7043 non-null   object \n",
      " 17  PaymentMethod     7043 non-null   object \n",
      " 18  MonthlyCharges    7043 non-null   float64\n",
      " 19  TotalCharges      7043 non-null   object \n",
      " 20  Churn             7043 non-null   object \n",
      "dtypes: float64(1), int64(2), object(18)\n",
      "memory usage: 1.1+ MB\n"
     ]
    }
   ],
   "source": [
    "df_churn.info()    ### Info will give the complete details of dataframe"
   ]
  },
  {
   "cell_type": "code",
   "execution_count": 6,
   "id": "7a8e69e6-145a-4328-ac0c-33beb46b0191",
   "metadata": {},
   "outputs": [
    {
     "data": {
      "text/plain": [
       "(7043, 21)"
      ]
     },
     "execution_count": 6,
     "metadata": {},
     "output_type": "execute_result"
    }
   ],
   "source": [
    "df_churn.shape"
   ]
  },
  {
   "cell_type": "code",
   "execution_count": 7,
   "id": "b62405f1-aff6-4c0a-a8bf-b5a9bea8610e",
   "metadata": {},
   "outputs": [
    {
     "data": {
      "text/html": [
       "<div>\n",
       "<style scoped>\n",
       "    .dataframe tbody tr th:only-of-type {\n",
       "        vertical-align: middle;\n",
       "    }\n",
       "\n",
       "    .dataframe tbody tr th {\n",
       "        vertical-align: top;\n",
       "    }\n",
       "\n",
       "    .dataframe thead th {\n",
       "        text-align: right;\n",
       "    }\n",
       "</style>\n",
       "<table border=\"1\" class=\"dataframe\">\n",
       "  <thead>\n",
       "    <tr style=\"text-align: right;\">\n",
       "      <th></th>\n",
       "      <th>customerID</th>\n",
       "      <th>gender</th>\n",
       "      <th>SeniorCitizen</th>\n",
       "      <th>Partner</th>\n",
       "      <th>Dependents</th>\n",
       "      <th>tenure</th>\n",
       "      <th>PhoneService</th>\n",
       "      <th>MultipleLines</th>\n",
       "      <th>InternetService</th>\n",
       "      <th>OnlineSecurity</th>\n",
       "      <th>...</th>\n",
       "      <th>DeviceProtection</th>\n",
       "      <th>TechSupport</th>\n",
       "      <th>StreamingTV</th>\n",
       "      <th>StreamingMovies</th>\n",
       "      <th>Contract</th>\n",
       "      <th>PaperlessBilling</th>\n",
       "      <th>PaymentMethod</th>\n",
       "      <th>MonthlyCharges</th>\n",
       "      <th>TotalCharges</th>\n",
       "      <th>Churn</th>\n",
       "    </tr>\n",
       "  </thead>\n",
       "  <tbody>\n",
       "    <tr>\n",
       "      <th>0</th>\n",
       "      <td>7590-VHVEG</td>\n",
       "      <td>Female</td>\n",
       "      <td>0</td>\n",
       "      <td>Yes</td>\n",
       "      <td>No</td>\n",
       "      <td>1</td>\n",
       "      <td>No</td>\n",
       "      <td>No phone service</td>\n",
       "      <td>DSL</td>\n",
       "      <td>No</td>\n",
       "      <td>...</td>\n",
       "      <td>No</td>\n",
       "      <td>No</td>\n",
       "      <td>No</td>\n",
       "      <td>No</td>\n",
       "      <td>Month-to-month</td>\n",
       "      <td>Yes</td>\n",
       "      <td>Electronic check</td>\n",
       "      <td>29.85</td>\n",
       "      <td>29.85</td>\n",
       "      <td>No</td>\n",
       "    </tr>\n",
       "    <tr>\n",
       "      <th>1</th>\n",
       "      <td>5575-GNVDE</td>\n",
       "      <td>Male</td>\n",
       "      <td>0</td>\n",
       "      <td>No</td>\n",
       "      <td>No</td>\n",
       "      <td>34</td>\n",
       "      <td>Yes</td>\n",
       "      <td>No</td>\n",
       "      <td>DSL</td>\n",
       "      <td>Yes</td>\n",
       "      <td>...</td>\n",
       "      <td>Yes</td>\n",
       "      <td>No</td>\n",
       "      <td>No</td>\n",
       "      <td>No</td>\n",
       "      <td>One year</td>\n",
       "      <td>No</td>\n",
       "      <td>Mailed check</td>\n",
       "      <td>56.95</td>\n",
       "      <td>1889.5</td>\n",
       "      <td>No</td>\n",
       "    </tr>\n",
       "    <tr>\n",
       "      <th>2</th>\n",
       "      <td>3668-QPYBK</td>\n",
       "      <td>Male</td>\n",
       "      <td>0</td>\n",
       "      <td>No</td>\n",
       "      <td>No</td>\n",
       "      <td>2</td>\n",
       "      <td>Yes</td>\n",
       "      <td>No</td>\n",
       "      <td>DSL</td>\n",
       "      <td>Yes</td>\n",
       "      <td>...</td>\n",
       "      <td>No</td>\n",
       "      <td>No</td>\n",
       "      <td>No</td>\n",
       "      <td>No</td>\n",
       "      <td>Month-to-month</td>\n",
       "      <td>Yes</td>\n",
       "      <td>Mailed check</td>\n",
       "      <td>53.85</td>\n",
       "      <td>108.15</td>\n",
       "      <td>Yes</td>\n",
       "    </tr>\n",
       "    <tr>\n",
       "      <th>3</th>\n",
       "      <td>7795-CFOCW</td>\n",
       "      <td>Male</td>\n",
       "      <td>0</td>\n",
       "      <td>No</td>\n",
       "      <td>No</td>\n",
       "      <td>45</td>\n",
       "      <td>No</td>\n",
       "      <td>No phone service</td>\n",
       "      <td>DSL</td>\n",
       "      <td>Yes</td>\n",
       "      <td>...</td>\n",
       "      <td>Yes</td>\n",
       "      <td>Yes</td>\n",
       "      <td>No</td>\n",
       "      <td>No</td>\n",
       "      <td>One year</td>\n",
       "      <td>No</td>\n",
       "      <td>Bank transfer (automatic)</td>\n",
       "      <td>42.30</td>\n",
       "      <td>1840.75</td>\n",
       "      <td>No</td>\n",
       "    </tr>\n",
       "    <tr>\n",
       "      <th>4</th>\n",
       "      <td>9237-HQITU</td>\n",
       "      <td>Female</td>\n",
       "      <td>0</td>\n",
       "      <td>No</td>\n",
       "      <td>No</td>\n",
       "      <td>2</td>\n",
       "      <td>Yes</td>\n",
       "      <td>No</td>\n",
       "      <td>Fiber optic</td>\n",
       "      <td>No</td>\n",
       "      <td>...</td>\n",
       "      <td>No</td>\n",
       "      <td>No</td>\n",
       "      <td>No</td>\n",
       "      <td>No</td>\n",
       "      <td>Month-to-month</td>\n",
       "      <td>Yes</td>\n",
       "      <td>Electronic check</td>\n",
       "      <td>70.70</td>\n",
       "      <td>151.65</td>\n",
       "      <td>Yes</td>\n",
       "    </tr>\n",
       "  </tbody>\n",
       "</table>\n",
       "<p>5 rows × 21 columns</p>\n",
       "</div>"
      ],
      "text/plain": [
       "   customerID  gender  SeniorCitizen Partner Dependents  tenure PhoneService  \\\n",
       "0  7590-VHVEG  Female              0     Yes         No       1           No   \n",
       "1  5575-GNVDE    Male              0      No         No      34          Yes   \n",
       "2  3668-QPYBK    Male              0      No         No       2          Yes   \n",
       "3  7795-CFOCW    Male              0      No         No      45           No   \n",
       "4  9237-HQITU  Female              0      No         No       2          Yes   \n",
       "\n",
       "      MultipleLines InternetService OnlineSecurity  ... DeviceProtection  \\\n",
       "0  No phone service             DSL             No  ...               No   \n",
       "1                No             DSL            Yes  ...              Yes   \n",
       "2                No             DSL            Yes  ...               No   \n",
       "3  No phone service             DSL            Yes  ...              Yes   \n",
       "4                No     Fiber optic             No  ...               No   \n",
       "\n",
       "  TechSupport StreamingTV StreamingMovies        Contract PaperlessBilling  \\\n",
       "0          No          No              No  Month-to-month              Yes   \n",
       "1          No          No              No        One year               No   \n",
       "2          No          No              No  Month-to-month              Yes   \n",
       "3         Yes          No              No        One year               No   \n",
       "4          No          No              No  Month-to-month              Yes   \n",
       "\n",
       "               PaymentMethod MonthlyCharges  TotalCharges Churn  \n",
       "0           Electronic check          29.85         29.85    No  \n",
       "1               Mailed check          56.95        1889.5    No  \n",
       "2               Mailed check          53.85        108.15   Yes  \n",
       "3  Bank transfer (automatic)          42.30       1840.75    No  \n",
       "4           Electronic check          70.70        151.65   Yes  \n",
       "\n",
       "[5 rows x 21 columns]"
      ]
     },
     "execution_count": 7,
     "metadata": {},
     "output_type": "execute_result"
    }
   ],
   "source": [
    "df_churn.head()   # It gives first five records "
   ]
  },
  {
   "cell_type": "code",
   "execution_count": 8,
   "id": "983b0ce6-e250-4bb1-aa9f-efb8e9caf8d1",
   "metadata": {},
   "outputs": [
    {
     "data": {
      "text/plain": [
       "Index(['customerID', 'gender', 'SeniorCitizen', 'Partner', 'Dependents',\n",
       "       'tenure', 'PhoneService', 'MultipleLines', 'InternetService',\n",
       "       'OnlineSecurity', 'OnlineBackup', 'DeviceProtection', 'TechSupport',\n",
       "       'StreamingTV', 'StreamingMovies', 'Contract', 'PaperlessBilling',\n",
       "       'PaymentMethod', 'MonthlyCharges', 'TotalCharges', 'Churn'],\n",
       "      dtype='object')"
      ]
     },
     "execution_count": 8,
     "metadata": {},
     "output_type": "execute_result"
    }
   ],
   "source": [
    "df_churn.columns ## It gives the column labels of data frame"
   ]
  },
  {
   "cell_type": "code",
   "execution_count": 9,
   "id": "743e98fc-db4d-4856-8cce-4ac67f29b979",
   "metadata": {},
   "outputs": [
    {
     "data": {
      "text/plain": [
       "<bound method NDFrame.describe of 0         29.85\n",
       "1        1889.5\n",
       "2        108.15\n",
       "3       1840.75\n",
       "4        151.65\n",
       "         ...   \n",
       "7038     1990.5\n",
       "7039     7362.9\n",
       "7040     346.45\n",
       "7041      306.6\n",
       "7042     6844.5\n",
       "Name: TotalCharges, Length: 7043, dtype: object>"
      ]
     },
     "execution_count": 9,
     "metadata": {},
     "output_type": "execute_result"
    }
   ],
   "source": [
    "## Use the describe function  to give me the statistical summary of dataframe\n",
    "df_churn.TotalCharges.describe  ##Describe Function used to generate descriptive statistics of dataframe"
   ]
  },
  {
   "cell_type": "code",
   "execution_count": 10,
   "id": "2954a8dd-f3f2-49b0-99c5-19ac7fe8743b",
   "metadata": {},
   "outputs": [
    {
     "data": {
      "text/plain": [
       "<bound method NDFrame.describe of 0        1\n",
       "1       34\n",
       "2        2\n",
       "3       45\n",
       "4        2\n",
       "        ..\n",
       "7038    24\n",
       "7039    72\n",
       "7040    11\n",
       "7041     4\n",
       "7042    66\n",
       "Name: tenure, Length: 7043, dtype: int64>"
      ]
     },
     "execution_count": 10,
     "metadata": {},
     "output_type": "execute_result"
    }
   ],
   "source": [
    "## Similarly check the desc function of statistical summary for tenure column\n",
    "df_churn.tenure.describe"
   ]
  },
  {
   "cell_type": "code",
   "execution_count": 11,
   "id": "5408ff04-6ee6-4bf0-9930-fd6b7cb3d480",
   "metadata": {},
   "outputs": [
    {
     "data": {
      "text/plain": [
       "<bound method NDFrame.describe of 0        29.85\n",
       "1        56.95\n",
       "2        53.85\n",
       "3        42.30\n",
       "4        70.70\n",
       "         ...  \n",
       "7038     84.80\n",
       "7039    103.20\n",
       "7040     29.60\n",
       "7041     74.40\n",
       "7042    105.65\n",
       "Name: MonthlyCharges, Length: 7043, dtype: float64>"
      ]
     },
     "execution_count": 11,
     "metadata": {},
     "output_type": "execute_result"
    }
   ],
   "source": [
    "## Similarly check the desc function of statistical summary for tenure column\n",
    "df_churn.MonthlyCharges.describe"
   ]
  },
  {
   "cell_type": "code",
   "execution_count": 12,
   "id": "253e01ab-a176-48f7-a239-c784fea727f1",
   "metadata": {},
   "outputs": [],
   "source": [
    "## Change the Total charges data type to float\n",
    "df_churn.TotalCharges = pd.to_numeric(df_churn.TotalCharges, errors=\"coerce\")"
   ]
  },
  {
   "cell_type": "code",
   "execution_count": 13,
   "id": "24b212d1-7bb2-4528-a0a0-13680f00f64f",
   "metadata": {},
   "outputs": [],
   "source": [
    "## Drop the null values\n",
    "df_churn = df_churn.dropna()"
   ]
  },
  {
   "cell_type": "code",
   "execution_count": 14,
   "id": "e23571b4-2021-4802-b331-8957aee2e524",
   "metadata": {},
   "outputs": [
    {
     "data": {
      "text/plain": [
       "customerID          0\n",
       "gender              0\n",
       "SeniorCitizen       0\n",
       "Partner             0\n",
       "Dependents          0\n",
       "tenure              0\n",
       "PhoneService        0\n",
       "MultipleLines       0\n",
       "InternetService     0\n",
       "OnlineSecurity      0\n",
       "OnlineBackup        0\n",
       "DeviceProtection    0\n",
       "TechSupport         0\n",
       "StreamingTV         0\n",
       "StreamingMovies     0\n",
       "Contract            0\n",
       "PaperlessBilling    0\n",
       "PaymentMethod       0\n",
       "MonthlyCharges      0\n",
       "TotalCharges        0\n",
       "Churn               0\n",
       "dtype: int64"
      ]
     },
     "execution_count": 14,
     "metadata": {},
     "output_type": "execute_result"
    }
   ],
   "source": [
    "## Check for missing values\n",
    "df_churn.isna().sum()"
   ]
  },
  {
   "cell_type": "code",
   "execution_count": 15,
   "id": "21868300-0f36-4148-a2b4-55d9f3f30167",
   "metadata": {},
   "outputs": [
    {
     "name": "stdout",
     "output_type": "stream",
     "text": [
      "<class 'pandas.core.frame.DataFrame'>\n",
      "Index: 7032 entries, 0 to 7042\n",
      "Data columns (total 21 columns):\n",
      " #   Column            Non-Null Count  Dtype  \n",
      "---  ------            --------------  -----  \n",
      " 0   customerID        7032 non-null   object \n",
      " 1   gender            7032 non-null   object \n",
      " 2   SeniorCitizen     7032 non-null   int64  \n",
      " 3   Partner           7032 non-null   object \n",
      " 4   Dependents        7032 non-null   object \n",
      " 5   tenure            7032 non-null   int64  \n",
      " 6   PhoneService      7032 non-null   object \n",
      " 7   MultipleLines     7032 non-null   object \n",
      " 8   InternetService   7032 non-null   object \n",
      " 9   OnlineSecurity    7032 non-null   object \n",
      " 10  OnlineBackup      7032 non-null   object \n",
      " 11  DeviceProtection  7032 non-null   object \n",
      " 12  TechSupport       7032 non-null   object \n",
      " 13  StreamingTV       7032 non-null   object \n",
      " 14  StreamingMovies   7032 non-null   object \n",
      " 15  Contract          7032 non-null   object \n",
      " 16  PaperlessBilling  7032 non-null   object \n",
      " 17  PaymentMethod     7032 non-null   object \n",
      " 18  MonthlyCharges    7032 non-null   float64\n",
      " 19  TotalCharges      7032 non-null   float64\n",
      " 20  Churn             7032 non-null   object \n",
      "dtypes: float64(2), int64(2), object(17)\n",
      "memory usage: 1.2+ MB\n"
     ]
    }
   ],
   "source": [
    "### Check the info for datafrmae whether nulls has removed or not\n",
    "df_churn.info()"
   ]
  },
  {
   "cell_type": "markdown",
   "id": "7592ccb2-9451-4d1a-8071-4b139c610bef",
   "metadata": {},
   "source": [
    "### EXPLORATORY DATA ANALYSIS (EDA)"
   ]
  },
  {
   "cell_type": "code",
   "execution_count": 16,
   "id": "128917a2-ecb5-46bc-a6f9-5d152bef670e",
   "metadata": {},
   "outputs": [
    {
     "name": "stderr",
     "output_type": "stream",
     "text": [
      "C:\\Users\\hp\\ana3\\Lib\\site-packages\\seaborn\\_oldcore.py:1119: FutureWarning: use_inf_as_na option is deprecated and will be removed in a future version. Convert inf values to NaN before operating instead.\n",
      "  with pd.option_context('mode.use_inf_as_na', True):\n",
      "C:\\Users\\hp\\ana3\\Lib\\site-packages\\seaborn\\_oldcore.py:1119: FutureWarning: use_inf_as_na option is deprecated and will be removed in a future version. Convert inf values to NaN before operating instead.\n",
      "  with pd.option_context('mode.use_inf_as_na', True):\n"
     ]
    },
    {
     "data": {
      "text/plain": [
       "<Figure size 3000x1500 with 0 Axes>"
      ]
     },
     "metadata": {},
     "output_type": "display_data"
    },
    {
     "data": {
      "image/png": "[encoded data removed]",
      "text/plain": [
       "<Figure size 640x480 with 3 Axes>"
      ]
     },
     "metadata": {},
     "output_type": "display_data"
    }
   ],
   "source": [
    "plt.figure(figsize=(30,15))\n",
    "fog, ax = plt.subplots(3,1)\n",
    "sns.histplot(df_churn.tenure, ax=ax[0])                        \n",
    "sns.boxplot(df_churn.tenure, orient=\"h\", ax=ax[1])              \n",
    "sns.kdeplot(df_churn.tenure,ax=ax[2])                           \n",
    "plt.show()"
   ]
  },
  {
   "cell_type": "code",
   "execution_count": 17,
   "id": "56a42938-9d46-4e97-b752-62baf912966f",
   "metadata": {},
   "outputs": [],
   "source": [
    "## Histogram \n",
    "#Distribution of the shape is right skewed for Tenure\n",
    " #High Frequency of customers has low tenure i.e approximately closure to zero but the new customers are joined recently \n",
    "\n",
    "## Boxplot\n",
    "#The median value for tenure column is not equally distributed by whiskers but the median value is changed \n",
    "#For IQR range the spans approximately ranges from (10-60) months that 45% of data lies within the range\n",
    "#There are nooutliers, relatively most of data falls under mid way\n",
    "\n",
    "#Density Plot (kde)\n",
    "#The kde plot had as  curved view of tenure distribution indicating that pattern is bimodal in nature\n",
    "#If you consider peaks and valleys form begining of cycle is around 5 months and second smaller peak at 70 months i.e group of new and long tenured customers"
   ]
  },
  {
   "cell_type": "code",
   "execution_count": 18,
   "id": "63b9350d-aae7-4424-8c3a-811ec83aa76d",
   "metadata": {
    "scrolled": true
   },
   "outputs": [
    {
     "data": {
      "text/plain": [
       "<Axes: ylabel='Frequency'>"
      ]
     },
     "execution_count": 18,
     "metadata": {},
     "output_type": "execute_result"
    },
    {
     "data": {
      "image/png": "[encoded data removed]",
      "text/plain": [
       "<Figure size 640x480 with 1 Axes>"
      ]
     },
     "metadata": {},
     "output_type": "display_data"
    }
   ],
   "source": [
    "df_churn.TotalCharges.plot(kind = \"hist\")"
   ]
  },
  {
   "cell_type": "code",
   "execution_count": 19,
   "id": "712117c8-14d1-41e5-b862-29dcc55431a7",
   "metadata": {},
   "outputs": [],
   "source": [
    "## 1.High Frequency at low values \n",
    "# First bin is created near to zero i.e fixed bin has highest frequency, indicates large no. of observations with less values\n",
    "# It means significant proportion values are lower in datset\n",
    "#2. Gradual Decline in frequency increases when values are less common in data\n",
    "\n",
    "\n",
    "## IN business case scenarios the customer lifetime value suggests many of customers has low lifetime,with some or few has higher values\n",
    "## When it comes to transaction it has most less transaction amounts with fewer high-value transactions\n",
    "##Finally for total charges billed for customers has declined with lower amounts only some of them have higher "
   ]
  },
  {
   "cell_type": "code",
   "execution_count": 20,
   "id": "efe5600e-ae6c-4473-b9a1-44fa90cd66f6",
   "metadata": {},
   "outputs": [
    {
     "data": {
      "text/plain": [
       "<Axes: ylabel='count'>"
      ]
     },
     "execution_count": 20,
     "metadata": {},
     "output_type": "execute_result"
    },
    {
     "data": {
      "image/png": "[encoded data removed]",
      "text/plain": [
       "<Figure size 640x480 with 1 Axes>"
      ]
     },
     "metadata": {},
     "output_type": "display_data"
    }
   ],
   "source": [
    "df_churn.Churn.value_counts().plot(kind = \"pie\", autopct = \"%.2f%%\")"
   ]
  },
  {
   "cell_type": "markdown",
   "id": "85bf986c-0f2a-46af-9782-3e9def80ab48",
   "metadata": {},
   "source": [
    "From this pie-chart we can observe that the percentage of the churn is approximately 27% so that i will compare this with all other independent columns\n",
    "this size of churn rate is the percentage of customers who stopped service and large churned suggests high churn rate this will be problematic so in this case the level of customers in groups can be divided and segmented "
   ]
  },
  {
   "cell_type": "code",
   "execution_count": 21,
   "id": "74ab90f0-d5d7-4b70-a261-85b200f69fb4",
   "metadata": {},
   "outputs": [
    {
     "data": {
      "text/plain": [
       "0"
      ]
     },
     "execution_count": 21,
     "metadata": {},
     "output_type": "execute_result"
    }
   ],
   "source": [
    "df_churn.Churn.isnull().sum()   ## No missing values"
   ]
  },
  {
   "cell_type": "code",
   "execution_count": 22,
   "id": "54007686-cc17-4086-8dd5-154f1851e877",
   "metadata": {},
   "outputs": [
    {
     "data": {
      "text/plain": [
       "<Axes: ylabel='count'>"
      ]
     },
     "execution_count": 22,
     "metadata": {},
     "output_type": "execute_result"
    },
    {
     "data": {
      "image/png": "[encoded data removed]",
      "text/plain": [
       "<Figure size 640x480 with 1 Axes>"
      ]
     },
     "metadata": {},
     "output_type": "display_data"
    }
   ],
   "source": [
    "df_churn.gender.value_counts().plot(kind = \"pie\", autopct = \"%.2f%%\")"
   ]
  },
  {
   "cell_type": "markdown",
   "id": "04db87ca-feac-4984-9189-f8330ea977da",
   "metadata": {},
   "source": [
    "From this chart we can anlyse the Male and Female are approximately same "
   ]
  },
  {
   "cell_type": "code",
   "execution_count": 23,
   "id": "332cffcf-9ff6-443e-a441-7487d66c78c2",
   "metadata": {},
   "outputs": [
    {
     "data": {
      "text/plain": [
       "<Axes: ylabel='count'>"
      ]
     },
     "execution_count": 23,
     "metadata": {},
     "output_type": "execute_result"
    },
    {
     "data": {
      "image/png": "[encoded data removed]",
      "text/plain": [
       "<Figure size 640x480 with 1 Axes>"
      ]
     },
     "metadata": {},
     "output_type": "display_data"
    }
   ],
   "source": [
    "df_churn.Dependents.value_counts().plot(kind = \"pie\", autopct = \"%.2f%%\")"
   ]
  },
  {
   "cell_type": "markdown",
   "id": "69e4ed65-d810-4bf3-928d-c3b9ad2fc710",
   "metadata": {},
   "source": [
    "Here the marginal rate of dependents column has approximately 30% of churn rate"
   ]
  },
  {
   "cell_type": "code",
   "execution_count": 24,
   "id": "beec3f26-a50e-4bc5-8fc2-32f41b54e905",
   "metadata": {},
   "outputs": [
    {
     "data": {
      "text/plain": [
       "<Axes: xlabel='Churn'>"
      ]
     },
     "execution_count": 24,
     "metadata": {},
     "output_type": "execute_result"
    },
    {
     "data": {
      "image/png": "[encoded data removed]",
      "text/plain": [
       "<Figure size 640x480 with 1 Axes>"
      ]
     },
     "metadata": {},
     "output_type": "display_data"
    }
   ],
   "source": [
    "## Cross Tabulation & stacked bar chart -- Churn & gender , churn & contract\n",
    "pd.crosstab(df_churn.Churn, df_churn.gender).plot(kind = \"bar\", stacked = True)"
   ]
  },
  {
   "cell_type": "code",
   "execution_count": 25,
   "id": "d9184c0a-13c4-4fd5-828b-c5e031d1e7b8",
   "metadata": {},
   "outputs": [],
   "source": [
    "## For stacked bar interpretation we are comparing two groups \n",
    "# A lower bar represents no. of non-churned customers i,e (2500 for both male and female)\n",
    "# A higher stacked bar indicates represents no.of churned customers(male has approximately 900 and female 1000)\n",
    "\n",
    "## BY considering business point of view the gender bias group significantly has hugher churn rate that is major concerns should be solved\n",
    "## Interactions effects might be influenced by other factors like contract type"
   ]
  },
  {
   "cell_type": "code",
   "execution_count": 26,
   "id": "3849ce63-18af-4be0-b99b-c4a231cd9e98",
   "metadata": {},
   "outputs": [
    {
     "data": {
      "text/plain": [
       "<Axes: xlabel='Churn'>"
      ]
     },
     "execution_count": 26,
     "metadata": {},
     "output_type": "execute_result"
    },
    {
     "data": {
      "image/png": "[encoded data removed]",
      "text/plain": [
       "<Figure size 640x480 with 1 Axes>"
      ]
     },
     "metadata": {},
     "output_type": "display_data"
    }
   ],
   "source": [
    "## Cross Tabulation for churn and contract\n",
    "pd.crosstab(df_churn.Churn, df_churn.Contract).plot(kind = \"bar\", stacked = True)"
   ]
  },
  {
   "cell_type": "code",
   "execution_count": 27,
   "id": "0e3e27c3-1cfc-4a89-a9f9-4ed96d758d29",
   "metadata": {},
   "outputs": [],
   "source": [
    "### do the Groupby() -- mean of following -- \n",
    "## Tenure & Gender\n",
    "##Tenure & Contract\n",
    "## Total charges & Internet Service\n",
    "## Total Charges & Payment method"
   ]
  },
  {
   "cell_type": "code",
   "execution_count": 28,
   "id": "567ee50a-5ae4-4874-a954-7fb677b1e881",
   "metadata": {},
   "outputs": [
    {
     "data": {
      "text/plain": [
       "gender\n",
       "Female    32.290841\n",
       "Male      32.550296\n",
       "Name: tenure, dtype: float64"
      ]
     },
     "execution_count": 28,
     "metadata": {},
     "output_type": "execute_result"
    }
   ],
   "source": [
    "df_churn.tenure.groupby(df_churn.gender).mean()"
   ]
  },
  {
   "cell_type": "markdown",
   "id": "170f158a-da55-42b5-ad2f-df86d506d35b",
   "metadata": {},
   "source": [
    "Here Mean is equal for both male and female "
   ]
  },
  {
   "cell_type": "code",
   "execution_count": 29,
   "id": "b9874304-f469-4346-9052-1923ed44a1a8",
   "metadata": {},
   "outputs": [
    {
     "data": {
      "text/plain": [
       "Contract\n",
       "Month-to-month    18.036645\n",
       "One year          42.073370\n",
       "Two year          57.071810\n",
       "Name: tenure, dtype: float64"
      ]
     },
     "execution_count": 29,
     "metadata": {},
     "output_type": "execute_result"
    }
   ],
   "source": [
    "df_churn.tenure.groupby(df_churn.Contract).mean()"
   ]
  },
  {
   "cell_type": "code",
   "execution_count": 30,
   "id": "c81f2885-4d1d-4d61-b4c9-2076062acf73",
   "metadata": {},
   "outputs": [
    {
     "data": {
      "text/plain": [
       "InternetService\n",
       "DSL            2119.789259\n",
       "Fiber optic    3205.304570\n",
       "No              665.220329\n",
       "Name: TotalCharges, dtype: float64"
      ]
     },
     "execution_count": 30,
     "metadata": {},
     "output_type": "execute_result"
    }
   ],
   "source": [
    "df_churn.TotalCharges.groupby(df_churn.InternetService).mean()"
   ]
  },
  {
   "cell_type": "code",
   "execution_count": 31,
   "id": "a3203d76-39f7-4a79-8185-d097befd92cd",
   "metadata": {},
   "outputs": [
    {
     "data": {
      "text/plain": [
       "PaymentMethod\n",
       "Bank transfer (automatic)    3079.299546\n",
       "Credit card (automatic)      3071.396022\n",
       "Electronic check             2090.868182\n",
       "Mailed check                 1054.483915\n",
       "Name: TotalCharges, dtype: float64"
      ]
     },
     "execution_count": 31,
     "metadata": {},
     "output_type": "execute_result"
    }
   ],
   "source": [
    "df_churn.TotalCharges.groupby(df_churn.PaymentMethod).mean()"
   ]
  },
  {
   "cell_type": "markdown",
   "id": "0645e846-32f2-47df-a5b0-e971ee5c9705",
   "metadata": {},
   "source": [
    "### HYPOTHESIS TESTING"
   ]
  },
  {
   "cell_type": "markdown",
   "id": "b88ecdfc-da84-4b72-8a9e-aa9682c6f34e",
   "metadata": {},
   "source": [
    "### Test Null Average tenure of Churn Yes/No Equal"
   ]
  },
  {
   "cell_type": "code",
   "execution_count": 32,
   "id": "14d3ba6d-802c-4c45-a3c2-803a6e03698e",
   "metadata": {},
   "outputs": [
    {
     "data": {
      "text/plain": [
       "Churn\n",
       "No     37.65\n",
       "Yes    17.98\n",
       "Name: tenure, dtype: float64"
      ]
     },
     "execution_count": 32,
     "metadata": {},
     "output_type": "execute_result"
    }
   ],
   "source": [
    "np.round(df_churn.tenure.groupby(df_churn.Churn).mean(), 2)"
   ]
  },
  {
   "cell_type": "code",
   "execution_count": 33,
   "id": "d35d63ce-6acf-43af-8f76-c89572c4d9bc",
   "metadata": {},
   "outputs": [
    {
     "data": {
      "text/plain": [
       "Churn\n",
       "No     579.70\n",
       "Yes    381.46\n",
       "Name: tenure, dtype: float64"
      ]
     },
     "execution_count": 33,
     "metadata": {},
     "output_type": "execute_result"
    }
   ],
   "source": [
    "np.round(df_churn.tenure.groupby(df_churn.Churn).var(), 2)"
   ]
  },
  {
   "cell_type": "code",
   "execution_count": 34,
   "id": "201f30ce-90d2-4361-930a-6ed5aabd085c",
   "metadata": {},
   "outputs": [],
   "source": [
    "no = df_churn[df_churn.Churn == \"No\"]\n",
    "yes = df_churn[df_churn.Churn == \"Yes\"]"
   ]
  },
  {
   "cell_type": "code",
   "execution_count": 35,
   "id": "f4295693-2849-4dad-8f2d-1695e441e2a4",
   "metadata": {},
   "outputs": [],
   "source": [
    "from scipy.stats import ttest_ind"
   ]
  },
  {
   "cell_type": "code",
   "execution_count": 36,
   "id": "76a85d53-e55d-43b5-a989-625d05b653bd",
   "metadata": {},
   "outputs": [
    {
     "data": {
      "text/plain": [
       "TtestResult(statistic=34.97187009750348, pvalue=2.3470747188949523e-234, df=4045.509715421308)"
      ]
     },
     "execution_count": 36,
     "metadata": {},
     "output_type": "execute_result"
    }
   ],
   "source": [
    "ttest_ind(no.tenure, yes.tenure, equal_var=False) #since pvalue=2.3470747188949523e-234 is less than 0.05, Hence Reject NUll"
   ]
  },
  {
   "cell_type": "code",
   "execution_count": 37,
   "id": "d093bd7f-bf18-4552-8561-e1461b3cd888",
   "metadata": {},
   "outputs": [
    {
     "data": {
      "text/plain": [
       "Churn\n",
       "No     2555.34\n",
       "Yes    1531.80\n",
       "Name: TotalCharges, dtype: float64"
      ]
     },
     "execution_count": 37,
     "metadata": {},
     "output_type": "execute_result"
    }
   ],
   "source": [
    "## Test Null Average Total Charges of Churn Yes/No Equal\n",
    "np.round(df_churn.TotalCharges.groupby(df_churn.Churn).mean(),2)"
   ]
  },
  {
   "cell_type": "code",
   "execution_count": 38,
   "id": "26cd4695-ad90-48e5-953f-7bebac8d77d6",
   "metadata": {},
   "outputs": [
    {
     "data": {
      "text/plain": [
       "Churn\n",
       "No     5426369.84\n",
       "Yes    3575211.60\n",
       "Name: TotalCharges, dtype: float64"
      ]
     },
     "execution_count": 38,
     "metadata": {},
     "output_type": "execute_result"
    }
   ],
   "source": [
    "np.round(df_churn.TotalCharges.groupby(df_churn.Churn).var(),2)"
   ]
  },
  {
   "cell_type": "code",
   "execution_count": 39,
   "id": "515dbed6-3b6a-49b5-838b-5ec7861f54e7",
   "metadata": {},
   "outputs": [
    {
     "data": {
      "text/plain": [
       "TtestResult(statistic=18.80076821738761, pvalue=1.1524944112838114e-75, df=4042.931054911744)"
      ]
     },
     "execution_count": 39,
     "metadata": {},
     "output_type": "execute_result"
    }
   ],
   "source": [
    "ttest_ind(no.TotalCharges, yes.TotalCharges, equal_var=False) #Since pvalue=1.1524944112838114e-75 is less than 0.05, Reject NUll"
   ]
  },
  {
   "cell_type": "code",
   "execution_count": 40,
   "id": "335f19ec-f8fc-427b-a603-e20a0fbac144",
   "metadata": {},
   "outputs": [
    {
     "data": {
      "text/plain": [
       "PaymentMethod\n",
       "Bank transfer (automatic)    43.71\n",
       "Credit card (automatic)      43.30\n",
       "Electronic check             25.17\n",
       "Mailed check                 21.94\n",
       "Name: tenure, dtype: float64"
      ]
     },
     "execution_count": 40,
     "metadata": {},
     "output_type": "execute_result"
    }
   ],
   "source": [
    "## Test Null Average Tenure of different payment method equal\n",
    "np.round(df_churn.tenure.groupby(df_churn.PaymentMethod).mean(),2)"
   ]
  },
  {
   "cell_type": "code",
   "execution_count": 41,
   "id": "8d632194-cf63-437a-b86c-d3b1e4e020f5",
   "metadata": {},
   "outputs": [
    {
     "data": {
      "text/plain": [
       "PaymentMethod\n",
       "Bank transfer (automatic)    536.36\n",
       "Credit card (automatic)      543.86\n",
       "Electronic check             500.97\n",
       "Mailed check                 450.08\n",
       "Name: tenure, dtype: float64"
      ]
     },
     "execution_count": 41,
     "metadata": {},
     "output_type": "execute_result"
    }
   ],
   "source": [
    "np.round(df_churn.tenure.groupby(df_churn.PaymentMethod).var(),2)"
   ]
  },
  {
   "cell_type": "code",
   "execution_count": 42,
   "id": "d7c7d887-6b89-43e0-a79f-3b6e0325650b",
   "metadata": {},
   "outputs": [],
   "source": [
    "banktransfer = df_churn[df_churn.PaymentMethod == \"Bank transfer (automatic)\"]\n",
    "creditcard = df_churn[df_churn.PaymentMethod == \"Credit card (automatic)\"]\n",
    "electroniccheck = df_churn[df_churn.PaymentMethod == \"Electronic check\"]\n",
    "mailedcheck = df_churn[df_churn.PaymentMethod == \"Mailed check\"]"
   ]
  },
  {
   "cell_type": "code",
   "execution_count": 43,
   "id": "f9377bc6-6884-4ff3-9bc8-7d413aad429e",
   "metadata": {},
   "outputs": [],
   "source": [
    "from scipy.stats import f_oneway"
   ]
  },
  {
   "cell_type": "code",
   "execution_count": 44,
   "id": "91cfcbd4-c353-4b8e-a17e-c79b32131fb3",
   "metadata": {},
   "outputs": [
    {
     "data": {
      "text/plain": [
       "F_onewayResult(statistic=445.6300438001573, pvalue=4.666987312809702e-265)"
      ]
     },
     "execution_count": 44,
     "metadata": {},
     "output_type": "execute_result"
    }
   ],
   "source": [
    "f_oneway(banktransfer.tenure, creditcard.tenure, electroniccheck.tenure, mailedcheck.tenure)\n",
    "#Since pvalue=4.666987312809702e-265 is less than 0.05 then Reject Null"
   ]
  },
  {
   "cell_type": "markdown",
   "id": "633b9a5f-025b-4e7a-9be9-8a25b78a3657",
   "metadata": {},
   "source": [
    "### Test Null average Total charges of different Payment method is equal"
   ]
  },
  {
   "cell_type": "code",
   "execution_count": 45,
   "id": "0ffdbca8-1f02-4da0-af25-9f741e6b23ef",
   "metadata": {},
   "outputs": [
    {
     "data": {
      "text/plain": [
       "PaymentMethod\n",
       "Bank transfer (automatic)    3079.299546\n",
       "Credit card (automatic)      3071.396022\n",
       "Electronic check             2090.868182\n",
       "Mailed check                 1054.483915\n",
       "Name: TotalCharges, dtype: float64"
      ]
     },
     "execution_count": 45,
     "metadata": {},
     "output_type": "execute_result"
    }
   ],
   "source": [
    "df_churn.TotalCharges.groupby(df_churn.PaymentMethod).mean()"
   ]
  },
  {
   "cell_type": "code",
   "execution_count": 46,
   "id": "3bbef837-3205-43ab-a12c-8b433d278c29",
   "metadata": {},
   "outputs": [
    {
     "data": {
      "text/plain": [
       "F_onewayResult(statistic=338.3944981925856, pvalue=1.8118924997726824e-203)"
      ]
     },
     "execution_count": 46,
     "metadata": {},
     "output_type": "execute_result"
    }
   ],
   "source": [
    "f_oneway(banktransfer.TotalCharges, creditcard.TotalCharges, creditcard.TotalCharges, mailedcheck.TotalCharges)"
   ]
  },
  {
   "cell_type": "markdown",
   "id": "aca62f62-7ba6-47fa-a54c-5cc9a499bc9c",
   "metadata": {},
   "source": [
    "#### Test Null NO Association b/w Churn and Contract"
   ]
  },
  {
   "cell_type": "code",
   "execution_count": 47,
   "id": "caee7429-73dd-486e-bf60-07be424ecdc6",
   "metadata": {},
   "outputs": [],
   "source": [
    "### Both are Categorical so we do Chi_square test\n",
    "from scipy.stats import chi2_contingency"
   ]
  },
  {
   "cell_type": "code",
   "execution_count": 48,
   "id": "ae303bf6-50db-425d-b9c4-ade8d07392c6",
   "metadata": {},
   "outputs": [
    {
     "data": {
      "text/plain": [
       "Chi2ContingencyResult(statistic=1179.5458287339447, pvalue=7.326182186264635e-257, dof=2, expected_freq=array([[2845.08319113, 1080.76450512, 1237.15230375],\n",
       "       [1029.91680887,  391.23549488,  447.84769625]]))"
      ]
     },
     "execution_count": 48,
     "metadata": {},
     "output_type": "execute_result"
    }
   ],
   "source": [
    "chi2_contingency(pd.crosstab(df_churn.Churn, df_churn.Contract))\n",
    "## Since pvalue = 7.326182186264635e-257 is less than 0.05 then Reject Null\n",
    "## Alternate Hypothesis is true, that there is relation b/w churn and contract"
   ]
  },
  {
   "cell_type": "markdown",
   "id": "775bae40-9e21-4606-a67d-3ce1ed5974b9",
   "metadata": {},
   "source": [
    "#### Test Null No Association b/w Churn & Payment method"
   ]
  },
  {
   "cell_type": "code",
   "execution_count": 49,
   "id": "f9b74134-3b12-4c70-9e98-3935fad4d2cb",
   "metadata": {},
   "outputs": [
    {
     "data": {
      "text/plain": [
       "Chi2ContingencyResult(statistic=645.4299001234639, pvalue=1.4263098511062525e-139, dof=3, expected_freq=array([[1132.15955631, 1116.74104096, 1736.41851536, 1177.68088737],\n",
       "       [ 409.84044369,  404.25895904,  628.58148464,  426.31911263]]))"
      ]
     },
     "execution_count": 49,
     "metadata": {},
     "output_type": "execute_result"
    }
   ],
   "source": [
    "chi2_contingency(pd.crosstab(df_churn.Churn, df_churn.PaymentMethod))\n",
    "## since pvalue=1.4263098511062525e-139 is less than 0.05, then Reject Null\n",
    "## Alternate Hypothesis is true that there is relation b/w churn & payment method"
   ]
  },
  {
   "cell_type": "markdown",
   "id": "6c2f1eea-fd9e-4d78-9443-e0c30a1d1f8a",
   "metadata": {},
   "source": [
    " #### Test Null No Association b/w Churn & TechSupport "
   ]
  },
  {
   "cell_type": "code",
   "execution_count": 50,
   "id": "a812895d-8b37-4c57-95ad-c53774456c69",
   "metadata": {},
   "outputs": [
    {
     "data": {
      "text/plain": [
       "Chi2ContingencyResult(statistic=824.9255643875022, pvalue=7.407807748843288e-180, dof=2, expected_freq=array([[2549.19453925, 1116.00682594, 1497.79863481],\n",
       "       [ 922.80546075,  403.99317406,  542.20136519]]))"
      ]
     },
     "execution_count": 50,
     "metadata": {},
     "output_type": "execute_result"
    }
   ],
   "source": [
    "chi2_contingency(pd.crosstab(df_churn.Churn, df_churn.TechSupport))\n",
    "## Since pvalue=7.407807748843288e-180 is less than 0.05 then Reject NUll\n",
    "## Alternate Hypothesis is true that there is relation b/w churn & Techsuppport"
   ]
  },
  {
   "cell_type": "code",
   "execution_count": 51,
   "id": "c1f3e296-ffa9-4667-95e8-fccbbd9f1a5e",
   "metadata": {},
   "outputs": [
    {
     "data": {
      "text/plain": [
       "Index(['customerID', 'gender', 'SeniorCitizen', 'Partner', 'Dependents',\n",
       "       'tenure', 'PhoneService', 'MultipleLines', 'InternetService',\n",
       "       'OnlineSecurity', 'OnlineBackup', 'DeviceProtection', 'TechSupport',\n",
       "       'StreamingTV', 'StreamingMovies', 'Contract', 'PaperlessBilling',\n",
       "       'PaymentMethod', 'MonthlyCharges', 'TotalCharges', 'Churn'],\n",
       "      dtype='object')"
      ]
     },
     "execution_count": 51,
     "metadata": {},
     "output_type": "execute_result"
    }
   ],
   "source": [
    "df_churn.columns"
   ]
  },
  {
   "cell_type": "code",
   "execution_count": 52,
   "id": "89dacdb6-2c92-45e0-b89f-ff8f4d6462a5",
   "metadata": {},
   "outputs": [],
   "source": [
    "### seperating the numeric columns and obj cols\n",
    "num_cols = df_churn[['tenure', 'MonthlyCharges', 'TotalCharges']]\n",
    "obj_cols = df_churn[['gender', 'SeniorCitizen', 'Partner', 'Dependents', 'PhoneService', 'MultipleLines', 'InternetService',\n",
    "                     'OnlineSecurity', 'OnlineBackup', 'DeviceProtection', 'TechSupport',\n",
    "                     'StreamingTV', 'StreamingMovies', 'Contract', 'PaperlessBilling', 'PaymentMethod', 'Churn']]"
   ]
  },
  {
   "cell_type": "code",
   "execution_count": 53,
   "id": "06a608fc-1301-423f-9b4a-46b406102b87",
   "metadata": {},
   "outputs": [
    {
     "data": {
      "text/html": [
       "<div>\n",
       "<style scoped>\n",
       "    .dataframe tbody tr th:only-of-type {\n",
       "        vertical-align: middle;\n",
       "    }\n",
       "\n",
       "    .dataframe tbody tr th {\n",
       "        vertical-align: top;\n",
       "    }\n",
       "\n",
       "    .dataframe thead th {\n",
       "        text-align: right;\n",
       "    }\n",
       "</style>\n",
       "<table border=\"1\" class=\"dataframe\">\n",
       "  <thead>\n",
       "    <tr style=\"text-align: right;\">\n",
       "      <th></th>\n",
       "      <th>tenure</th>\n",
       "      <th>MonthlyCharges</th>\n",
       "      <th>TotalCharges</th>\n",
       "    </tr>\n",
       "  </thead>\n",
       "  <tbody>\n",
       "    <tr>\n",
       "      <th>0</th>\n",
       "      <td>1</td>\n",
       "      <td>29.85</td>\n",
       "      <td>29.85</td>\n",
       "    </tr>\n",
       "    <tr>\n",
       "      <th>1</th>\n",
       "      <td>34</td>\n",
       "      <td>56.95</td>\n",
       "      <td>1889.50</td>\n",
       "    </tr>\n",
       "    <tr>\n",
       "      <th>2</th>\n",
       "      <td>2</td>\n",
       "      <td>53.85</td>\n",
       "      <td>108.15</td>\n",
       "    </tr>\n",
       "    <tr>\n",
       "      <th>3</th>\n",
       "      <td>45</td>\n",
       "      <td>42.30</td>\n",
       "      <td>1840.75</td>\n",
       "    </tr>\n",
       "    <tr>\n",
       "      <th>4</th>\n",
       "      <td>2</td>\n",
       "      <td>70.70</td>\n",
       "      <td>151.65</td>\n",
       "    </tr>\n",
       "    <tr>\n",
       "      <th>...</th>\n",
       "      <td>...</td>\n",
       "      <td>...</td>\n",
       "      <td>...</td>\n",
       "    </tr>\n",
       "    <tr>\n",
       "      <th>7038</th>\n",
       "      <td>24</td>\n",
       "      <td>84.80</td>\n",
       "      <td>1990.50</td>\n",
       "    </tr>\n",
       "    <tr>\n",
       "      <th>7039</th>\n",
       "      <td>72</td>\n",
       "      <td>103.20</td>\n",
       "      <td>7362.90</td>\n",
       "    </tr>\n",
       "    <tr>\n",
       "      <th>7040</th>\n",
       "      <td>11</td>\n",
       "      <td>29.60</td>\n",
       "      <td>346.45</td>\n",
       "    </tr>\n",
       "    <tr>\n",
       "      <th>7041</th>\n",
       "      <td>4</td>\n",
       "      <td>74.40</td>\n",
       "      <td>306.60</td>\n",
       "    </tr>\n",
       "    <tr>\n",
       "      <th>7042</th>\n",
       "      <td>66</td>\n",
       "      <td>105.65</td>\n",
       "      <td>6844.50</td>\n",
       "    </tr>\n",
       "  </tbody>\n",
       "</table>\n",
       "<p>7032 rows × 3 columns</p>\n",
       "</div>"
      ],
      "text/plain": [
       "      tenure  MonthlyCharges  TotalCharges\n",
       "0          1           29.85         29.85\n",
       "1         34           56.95       1889.50\n",
       "2          2           53.85        108.15\n",
       "3         45           42.30       1840.75\n",
       "4          2           70.70        151.65\n",
       "...      ...             ...           ...\n",
       "7038      24           84.80       1990.50\n",
       "7039      72          103.20       7362.90\n",
       "7040      11           29.60        346.45\n",
       "7041       4           74.40        306.60\n",
       "7042      66          105.65       6844.50\n",
       "\n",
       "[7032 rows x 3 columns]"
      ]
     },
     "execution_count": 53,
     "metadata": {},
     "output_type": "execute_result"
    }
   ],
   "source": [
    "num_cols"
   ]
  },
  {
   "cell_type": "code",
   "execution_count": 54,
   "id": "fa386aaf-4d11-4223-8ca6-49763abbbcc1",
   "metadata": {},
   "outputs": [
    {
     "data": {
      "text/html": [
       "<div>\n",
       "<style scoped>\n",
       "    .dataframe tbody tr th:only-of-type {\n",
       "        vertical-align: middle;\n",
       "    }\n",
       "\n",
       "    .dataframe tbody tr th {\n",
       "        vertical-align: top;\n",
       "    }\n",
       "\n",
       "    .dataframe thead th {\n",
       "        text-align: right;\n",
       "    }\n",
       "</style>\n",
       "<table border=\"1\" class=\"dataframe\">\n",
       "  <thead>\n",
       "    <tr style=\"text-align: right;\">\n",
       "      <th></th>\n",
       "      <th>tenure</th>\n",
       "      <th>MonthlyCharges</th>\n",
       "      <th>TotalCharges</th>\n",
       "    </tr>\n",
       "  </thead>\n",
       "  <tbody>\n",
       "    <tr>\n",
       "      <th>tenure</th>\n",
       "      <td>1.000000</td>\n",
       "      <td>0.246862</td>\n",
       "      <td>0.825880</td>\n",
       "    </tr>\n",
       "    <tr>\n",
       "      <th>MonthlyCharges</th>\n",
       "      <td>0.246862</td>\n",
       "      <td>1.000000</td>\n",
       "      <td>0.651065</td>\n",
       "    </tr>\n",
       "    <tr>\n",
       "      <th>TotalCharges</th>\n",
       "      <td>0.825880</td>\n",
       "      <td>0.651065</td>\n",
       "      <td>1.000000</td>\n",
       "    </tr>\n",
       "  </tbody>\n",
       "</table>\n",
       "</div>"
      ],
      "text/plain": [
       "                  tenure  MonthlyCharges  TotalCharges\n",
       "tenure          1.000000        0.246862      0.825880\n",
       "MonthlyCharges  0.246862        1.000000      0.651065\n",
       "TotalCharges    0.825880        0.651065      1.000000"
      ]
     },
     "execution_count": 54,
     "metadata": {},
     "output_type": "execute_result"
    }
   ],
   "source": [
    "### Check the correlation fr num cols\n",
    "num_cols.corr()"
   ]
  },
  {
   "cell_type": "code",
   "execution_count": 55,
   "id": "7438d77b-c8cf-4848-a32d-3683e58b229c",
   "metadata": {},
   "outputs": [
    {
     "data": {
      "text/plain": [
       "Index(['gender', 'SeniorCitizen', 'Partner', 'Dependents', 'PhoneService',\n",
       "       'MultipleLines', 'InternetService', 'OnlineSecurity', 'OnlineBackup',\n",
       "       'DeviceProtection', 'TechSupport', 'StreamingTV', 'StreamingMovies',\n",
       "       'Contract', 'PaperlessBilling', 'PaymentMethod', 'Churn'],\n",
       "      dtype='object')"
      ]
     },
     "execution_count": 55,
     "metadata": {},
     "output_type": "execute_result"
    }
   ],
   "source": [
    "obj_cols.columns"
   ]
  },
  {
   "cell_type": "code",
   "execution_count": 56,
   "id": "e74297c0-1f3e-4db4-9876-6343a1f1ff05",
   "metadata": {},
   "outputs": [],
   "source": [
    "obj_cols_dummy = pd.get_dummies(obj_cols, columns=['gender', 'SeniorCitizen', 'Partner', 'Dependents', 'PhoneService',\n",
    "       'MultipleLines', 'InternetService', 'OnlineSecurity', 'OnlineBackup',\n",
    "       'DeviceProtection', 'TechSupport', 'StreamingTV', 'StreamingMovies',\n",
    "       'Contract', 'PaperlessBilling', 'PaymentMethod'])"
   ]
  },
  {
   "cell_type": "code",
   "execution_count": 57,
   "id": "163895b3-e45c-4b23-85b0-ab5b92935dd2",
   "metadata": {},
   "outputs": [],
   "source": [
    "df_churn_final = pd.concat([num_cols, obj_cols_dummy], axis=1)"
   ]
  },
  {
   "cell_type": "code",
   "execution_count": 58,
   "id": "8c9c3726-6213-47c9-8cf2-826a9c868e74",
   "metadata": {},
   "outputs": [
    {
     "data": {
      "text/html": [
       "<div>\n",
       "<style scoped>\n",
       "    .dataframe tbody tr th:only-of-type {\n",
       "        vertical-align: middle;\n",
       "    }\n",
       "\n",
       "    .dataframe tbody tr th {\n",
       "        vertical-align: top;\n",
       "    }\n",
       "\n",
       "    .dataframe thead th {\n",
       "        text-align: right;\n",
       "    }\n",
       "</style>\n",
       "<table border=\"1\" class=\"dataframe\">\n",
       "  <thead>\n",
       "    <tr style=\"text-align: right;\">\n",
       "      <th></th>\n",
       "      <th>tenure</th>\n",
       "      <th>MonthlyCharges</th>\n",
       "      <th>TotalCharges</th>\n",
       "      <th>Churn</th>\n",
       "      <th>gender_Female</th>\n",
       "      <th>gender_Male</th>\n",
       "      <th>SeniorCitizen_0</th>\n",
       "      <th>SeniorCitizen_1</th>\n",
       "      <th>Partner_No</th>\n",
       "      <th>Partner_Yes</th>\n",
       "      <th>...</th>\n",
       "      <th>StreamingMovies_Yes</th>\n",
       "      <th>Contract_Month-to-month</th>\n",
       "      <th>Contract_One year</th>\n",
       "      <th>Contract_Two year</th>\n",
       "      <th>PaperlessBilling_No</th>\n",
       "      <th>PaperlessBilling_Yes</th>\n",
       "      <th>PaymentMethod_Bank transfer (automatic)</th>\n",
       "      <th>PaymentMethod_Credit card (automatic)</th>\n",
       "      <th>PaymentMethod_Electronic check</th>\n",
       "      <th>PaymentMethod_Mailed check</th>\n",
       "    </tr>\n",
       "  </thead>\n",
       "  <tbody>\n",
       "    <tr>\n",
       "      <th>0</th>\n",
       "      <td>1</td>\n",
       "      <td>29.85</td>\n",
       "      <td>29.85</td>\n",
       "      <td>No</td>\n",
       "      <td>True</td>\n",
       "      <td>False</td>\n",
       "      <td>True</td>\n",
       "      <td>False</td>\n",
       "      <td>False</td>\n",
       "      <td>True</td>\n",
       "      <td>...</td>\n",
       "      <td>False</td>\n",
       "      <td>True</td>\n",
       "      <td>False</td>\n",
       "      <td>False</td>\n",
       "      <td>False</td>\n",
       "      <td>True</td>\n",
       "      <td>False</td>\n",
       "      <td>False</td>\n",
       "      <td>True</td>\n",
       "      <td>False</td>\n",
       "    </tr>\n",
       "    <tr>\n",
       "      <th>1</th>\n",
       "      <td>34</td>\n",
       "      <td>56.95</td>\n",
       "      <td>1889.50</td>\n",
       "      <td>No</td>\n",
       "      <td>False</td>\n",
       "      <td>True</td>\n",
       "      <td>True</td>\n",
       "      <td>False</td>\n",
       "      <td>True</td>\n",
       "      <td>False</td>\n",
       "      <td>...</td>\n",
       "      <td>False</td>\n",
       "      <td>False</td>\n",
       "      <td>True</td>\n",
       "      <td>False</td>\n",
       "      <td>True</td>\n",
       "      <td>False</td>\n",
       "      <td>False</td>\n",
       "      <td>False</td>\n",
       "      <td>False</td>\n",
       "      <td>True</td>\n",
       "    </tr>\n",
       "    <tr>\n",
       "      <th>2</th>\n",
       "      <td>2</td>\n",
       "      <td>53.85</td>\n",
       "      <td>108.15</td>\n",
       "      <td>Yes</td>\n",
       "      <td>False</td>\n",
       "      <td>True</td>\n",
       "      <td>True</td>\n",
       "      <td>False</td>\n",
       "      <td>True</td>\n",
       "      <td>False</td>\n",
       "      <td>...</td>\n",
       "      <td>False</td>\n",
       "      <td>True</td>\n",
       "      <td>False</td>\n",
       "      <td>False</td>\n",
       "      <td>False</td>\n",
       "      <td>True</td>\n",
       "      <td>False</td>\n",
       "      <td>False</td>\n",
       "      <td>False</td>\n",
       "      <td>True</td>\n",
       "    </tr>\n",
       "    <tr>\n",
       "      <th>3</th>\n",
       "      <td>45</td>\n",
       "      <td>42.30</td>\n",
       "      <td>1840.75</td>\n",
       "      <td>No</td>\n",
       "      <td>False</td>\n",
       "      <td>True</td>\n",
       "      <td>True</td>\n",
       "      <td>False</td>\n",
       "      <td>True</td>\n",
       "      <td>False</td>\n",
       "      <td>...</td>\n",
       "      <td>False</td>\n",
       "      <td>False</td>\n",
       "      <td>True</td>\n",
       "      <td>False</td>\n",
       "      <td>True</td>\n",
       "      <td>False</td>\n",
       "      <td>True</td>\n",
       "      <td>False</td>\n",
       "      <td>False</td>\n",
       "      <td>False</td>\n",
       "    </tr>\n",
       "    <tr>\n",
       "      <th>4</th>\n",
       "      <td>2</td>\n",
       "      <td>70.70</td>\n",
       "      <td>151.65</td>\n",
       "      <td>Yes</td>\n",
       "      <td>True</td>\n",
       "      <td>False</td>\n",
       "      <td>True</td>\n",
       "      <td>False</td>\n",
       "      <td>True</td>\n",
       "      <td>False</td>\n",
       "      <td>...</td>\n",
       "      <td>False</td>\n",
       "      <td>True</td>\n",
       "      <td>False</td>\n",
       "      <td>False</td>\n",
       "      <td>False</td>\n",
       "      <td>True</td>\n",
       "      <td>False</td>\n",
       "      <td>False</td>\n",
       "      <td>True</td>\n",
       "      <td>False</td>\n",
       "    </tr>\n",
       "    <tr>\n",
       "      <th>...</th>\n",
       "      <td>...</td>\n",
       "      <td>...</td>\n",
       "      <td>...</td>\n",
       "      <td>...</td>\n",
       "      <td>...</td>\n",
       "      <td>...</td>\n",
       "      <td>...</td>\n",
       "      <td>...</td>\n",
       "      <td>...</td>\n",
       "      <td>...</td>\n",
       "      <td>...</td>\n",
       "      <td>...</td>\n",
       "      <td>...</td>\n",
       "      <td>...</td>\n",
       "      <td>...</td>\n",
       "      <td>...</td>\n",
       "      <td>...</td>\n",
       "      <td>...</td>\n",
       "      <td>...</td>\n",
       "      <td>...</td>\n",
       "      <td>...</td>\n",
       "    </tr>\n",
       "    <tr>\n",
       "      <th>7038</th>\n",
       "      <td>24</td>\n",
       "      <td>84.80</td>\n",
       "      <td>1990.50</td>\n",
       "      <td>No</td>\n",
       "      <td>False</td>\n",
       "      <td>True</td>\n",
       "      <td>True</td>\n",
       "      <td>False</td>\n",
       "      <td>False</td>\n",
       "      <td>True</td>\n",
       "      <td>...</td>\n",
       "      <td>True</td>\n",
       "      <td>False</td>\n",
       "      <td>True</td>\n",
       "      <td>False</td>\n",
       "      <td>False</td>\n",
       "      <td>True</td>\n",
       "      <td>False</td>\n",
       "      <td>False</td>\n",
       "      <td>False</td>\n",
       "      <td>True</td>\n",
       "    </tr>\n",
       "    <tr>\n",
       "      <th>7039</th>\n",
       "      <td>72</td>\n",
       "      <td>103.20</td>\n",
       "      <td>7362.90</td>\n",
       "      <td>No</td>\n",
       "      <td>True</td>\n",
       "      <td>False</td>\n",
       "      <td>True</td>\n",
       "      <td>False</td>\n",
       "      <td>False</td>\n",
       "      <td>True</td>\n",
       "      <td>...</td>\n",
       "      <td>True</td>\n",
       "      <td>False</td>\n",
       "      <td>True</td>\n",
       "      <td>False</td>\n",
       "      <td>False</td>\n",
       "      <td>True</td>\n",
       "      <td>False</td>\n",
       "      <td>True</td>\n",
       "      <td>False</td>\n",
       "      <td>False</td>\n",
       "    </tr>\n",
       "    <tr>\n",
       "      <th>7040</th>\n",
       "      <td>11</td>\n",
       "      <td>29.60</td>\n",
       "      <td>346.45</td>\n",
       "      <td>No</td>\n",
       "      <td>True</td>\n",
       "      <td>False</td>\n",
       "      <td>True</td>\n",
       "      <td>False</td>\n",
       "      <td>False</td>\n",
       "      <td>True</td>\n",
       "      <td>...</td>\n",
       "      <td>False</td>\n",
       "      <td>True</td>\n",
       "      <td>False</td>\n",
       "      <td>False</td>\n",
       "      <td>False</td>\n",
       "      <td>True</td>\n",
       "      <td>False</td>\n",
       "      <td>False</td>\n",
       "      <td>True</td>\n",
       "      <td>False</td>\n",
       "    </tr>\n",
       "    <tr>\n",
       "      <th>7041</th>\n",
       "      <td>4</td>\n",
       "      <td>74.40</td>\n",
       "      <td>306.60</td>\n",
       "      <td>Yes</td>\n",
       "      <td>False</td>\n",
       "      <td>True</td>\n",
       "      <td>False</td>\n",
       "      <td>True</td>\n",
       "      <td>False</td>\n",
       "      <td>True</td>\n",
       "      <td>...</td>\n",
       "      <td>False</td>\n",
       "      <td>True</td>\n",
       "      <td>False</td>\n",
       "      <td>False</td>\n",
       "      <td>False</td>\n",
       "      <td>True</td>\n",
       "      <td>False</td>\n",
       "      <td>False</td>\n",
       "      <td>False</td>\n",
       "      <td>True</td>\n",
       "    </tr>\n",
       "    <tr>\n",
       "      <th>7042</th>\n",
       "      <td>66</td>\n",
       "      <td>105.65</td>\n",
       "      <td>6844.50</td>\n",
       "      <td>No</td>\n",
       "      <td>False</td>\n",
       "      <td>True</td>\n",
       "      <td>True</td>\n",
       "      <td>False</td>\n",
       "      <td>True</td>\n",
       "      <td>False</td>\n",
       "      <td>...</td>\n",
       "      <td>True</td>\n",
       "      <td>False</td>\n",
       "      <td>False</td>\n",
       "      <td>True</td>\n",
       "      <td>False</td>\n",
       "      <td>True</td>\n",
       "      <td>True</td>\n",
       "      <td>False</td>\n",
       "      <td>False</td>\n",
       "      <td>False</td>\n",
       "    </tr>\n",
       "  </tbody>\n",
       "</table>\n",
       "<p>7032 rows × 47 columns</p>\n",
       "</div>"
      ],
      "text/plain": [
       "      tenure  MonthlyCharges  TotalCharges Churn  gender_Female  gender_Male  \\\n",
       "0          1           29.85         29.85    No           True        False   \n",
       "1         34           56.95       1889.50    No          False         True   \n",
       "2          2           53.85        108.15   Yes          False         True   \n",
       "3         45           42.30       1840.75    No          False         True   \n",
       "4          2           70.70        151.65   Yes           True        False   \n",
       "...      ...             ...           ...   ...            ...          ...   \n",
       "7038      24           84.80       1990.50    No          False         True   \n",
       "7039      72          103.20       7362.90    No           True        False   \n",
       "7040      11           29.60        346.45    No           True        False   \n",
       "7041       4           74.40        306.60   Yes          False         True   \n",
       "7042      66          105.65       6844.50    No          False         True   \n",
       "\n",
       "      SeniorCitizen_0  SeniorCitizen_1  Partner_No  Partner_Yes  ...  \\\n",
       "0                True            False       False         True  ...   \n",
       "1                True            False        True        False  ...   \n",
       "2                True            False        True        False  ...   \n",
       "3                True            False        True        False  ...   \n",
       "4                True            False        True        False  ...   \n",
       "...               ...              ...         ...          ...  ...   \n",
       "7038             True            False       False         True  ...   \n",
       "7039             True            False       False         True  ...   \n",
       "7040             True            False       False         True  ...   \n",
       "7041            False             True       False         True  ...   \n",
       "7042             True            False        True        False  ...   \n",
       "\n",
       "      StreamingMovies_Yes  Contract_Month-to-month  Contract_One year  \\\n",
       "0                   False                     True              False   \n",
       "1                   False                    False               True   \n",
       "2                   False                     True              False   \n",
       "3                   False                    False               True   \n",
       "4                   False                     True              False   \n",
       "...                   ...                      ...                ...   \n",
       "7038                 True                    False               True   \n",
       "7039                 True                    False               True   \n",
       "7040                False                     True              False   \n",
       "7041                False                     True              False   \n",
       "7042                 True                    False              False   \n",
       "\n",
       "      Contract_Two year  PaperlessBilling_No  PaperlessBilling_Yes  \\\n",
       "0                 False                False                  True   \n",
       "1                 False                 True                 False   \n",
       "2                 False                False                  True   \n",
       "3                 False                 True                 False   \n",
       "4                 False                False                  True   \n",
       "...                 ...                  ...                   ...   \n",
       "7038              False                False                  True   \n",
       "7039              False                False                  True   \n",
       "7040              False                False                  True   \n",
       "7041              False                False                  True   \n",
       "7042               True                False                  True   \n",
       "\n",
       "      PaymentMethod_Bank transfer (automatic)  \\\n",
       "0                                       False   \n",
       "1                                       False   \n",
       "2                                       False   \n",
       "3                                        True   \n",
       "4                                       False   \n",
       "...                                       ...   \n",
       "7038                                    False   \n",
       "7039                                    False   \n",
       "7040                                    False   \n",
       "7041                                    False   \n",
       "7042                                     True   \n",
       "\n",
       "      PaymentMethod_Credit card (automatic)  PaymentMethod_Electronic check  \\\n",
       "0                                     False                            True   \n",
       "1                                     False                           False   \n",
       "2                                     False                           False   \n",
       "3                                     False                           False   \n",
       "4                                     False                            True   \n",
       "...                                     ...                             ...   \n",
       "7038                                  False                           False   \n",
       "7039                                   True                           False   \n",
       "7040                                  False                            True   \n",
       "7041                                  False                           False   \n",
       "7042                                  False                           False   \n",
       "\n",
       "      PaymentMethod_Mailed check  \n",
       "0                          False  \n",
       "1                           True  \n",
       "2                           True  \n",
       "3                          False  \n",
       "4                          False  \n",
       "...                          ...  \n",
       "7038                        True  \n",
       "7039                       False  \n",
       "7040                       False  \n",
       "7041                        True  \n",
       "7042                       False  \n",
       "\n",
       "[7032 rows x 47 columns]"
      ]
     },
     "execution_count": 58,
     "metadata": {},
     "output_type": "execute_result"
    }
   ],
   "source": [
    "df_churn_final"
   ]
  },
  {
   "cell_type": "markdown",
   "id": "813f605d-a22b-4888-b349-ccf961989b41",
   "metadata": {},
   "source": [
    "### Data Sepertaion "
   ]
  },
  {
   "cell_type": "code",
   "execution_count": 59,
   "id": "2c765c25-03dc-447f-9c1c-7c6dab3b8a94",
   "metadata": {},
   "outputs": [
    {
     "data": {
      "text/html": [
       "<div>\n",
       "<style scoped>\n",
       "    .dataframe tbody tr th:only-of-type {\n",
       "        vertical-align: middle;\n",
       "    }\n",
       "\n",
       "    .dataframe tbody tr th {\n",
       "        vertical-align: top;\n",
       "    }\n",
       "\n",
       "    .dataframe thead th {\n",
       "        text-align: right;\n",
       "    }\n",
       "</style>\n",
       "<table border=\"1\" class=\"dataframe\">\n",
       "  <thead>\n",
       "    <tr style=\"text-align: right;\">\n",
       "      <th></th>\n",
       "      <th>tenure</th>\n",
       "      <th>MonthlyCharges</th>\n",
       "      <th>TotalCharges</th>\n",
       "      <th>gender_Female</th>\n",
       "      <th>gender_Male</th>\n",
       "      <th>SeniorCitizen_0</th>\n",
       "      <th>SeniorCitizen_1</th>\n",
       "      <th>Partner_No</th>\n",
       "      <th>Partner_Yes</th>\n",
       "      <th>Dependents_No</th>\n",
       "      <th>...</th>\n",
       "      <th>StreamingMovies_Yes</th>\n",
       "      <th>Contract_Month-to-month</th>\n",
       "      <th>Contract_One year</th>\n",
       "      <th>Contract_Two year</th>\n",
       "      <th>PaperlessBilling_No</th>\n",
       "      <th>PaperlessBilling_Yes</th>\n",
       "      <th>PaymentMethod_Bank transfer (automatic)</th>\n",
       "      <th>PaymentMethod_Credit card (automatic)</th>\n",
       "      <th>PaymentMethod_Electronic check</th>\n",
       "      <th>PaymentMethod_Mailed check</th>\n",
       "    </tr>\n",
       "  </thead>\n",
       "  <tbody>\n",
       "    <tr>\n",
       "      <th>0</th>\n",
       "      <td>1</td>\n",
       "      <td>29.85</td>\n",
       "      <td>29.85</td>\n",
       "      <td>True</td>\n",
       "      <td>False</td>\n",
       "      <td>True</td>\n",
       "      <td>False</td>\n",
       "      <td>False</td>\n",
       "      <td>True</td>\n",
       "      <td>True</td>\n",
       "      <td>...</td>\n",
       "      <td>False</td>\n",
       "      <td>True</td>\n",
       "      <td>False</td>\n",
       "      <td>False</td>\n",
       "      <td>False</td>\n",
       "      <td>True</td>\n",
       "      <td>False</td>\n",
       "      <td>False</td>\n",
       "      <td>True</td>\n",
       "      <td>False</td>\n",
       "    </tr>\n",
       "    <tr>\n",
       "      <th>1</th>\n",
       "      <td>34</td>\n",
       "      <td>56.95</td>\n",
       "      <td>1889.50</td>\n",
       "      <td>False</td>\n",
       "      <td>True</td>\n",
       "      <td>True</td>\n",
       "      <td>False</td>\n",
       "      <td>True</td>\n",
       "      <td>False</td>\n",
       "      <td>True</td>\n",
       "      <td>...</td>\n",
       "      <td>False</td>\n",
       "      <td>False</td>\n",
       "      <td>True</td>\n",
       "      <td>False</td>\n",
       "      <td>True</td>\n",
       "      <td>False</td>\n",
       "      <td>False</td>\n",
       "      <td>False</td>\n",
       "      <td>False</td>\n",
       "      <td>True</td>\n",
       "    </tr>\n",
       "    <tr>\n",
       "      <th>2</th>\n",
       "      <td>2</td>\n",
       "      <td>53.85</td>\n",
       "      <td>108.15</td>\n",
       "      <td>False</td>\n",
       "      <td>True</td>\n",
       "      <td>True</td>\n",
       "      <td>False</td>\n",
       "      <td>True</td>\n",
       "      <td>False</td>\n",
       "      <td>True</td>\n",
       "      <td>...</td>\n",
       "      <td>False</td>\n",
       "      <td>True</td>\n",
       "      <td>False</td>\n",
       "      <td>False</td>\n",
       "      <td>False</td>\n",
       "      <td>True</td>\n",
       "      <td>False</td>\n",
       "      <td>False</td>\n",
       "      <td>False</td>\n",
       "      <td>True</td>\n",
       "    </tr>\n",
       "    <tr>\n",
       "      <th>3</th>\n",
       "      <td>45</td>\n",
       "      <td>42.30</td>\n",
       "      <td>1840.75</td>\n",
       "      <td>False</td>\n",
       "      <td>True</td>\n",
       "      <td>True</td>\n",
       "      <td>False</td>\n",
       "      <td>True</td>\n",
       "      <td>False</td>\n",
       "      <td>True</td>\n",
       "      <td>...</td>\n",
       "      <td>False</td>\n",
       "      <td>False</td>\n",
       "      <td>True</td>\n",
       "      <td>False</td>\n",
       "      <td>True</td>\n",
       "      <td>False</td>\n",
       "      <td>True</td>\n",
       "      <td>False</td>\n",
       "      <td>False</td>\n",
       "      <td>False</td>\n",
       "    </tr>\n",
       "    <tr>\n",
       "      <th>4</th>\n",
       "      <td>2</td>\n",
       "      <td>70.70</td>\n",
       "      <td>151.65</td>\n",
       "      <td>True</td>\n",
       "      <td>False</td>\n",
       "      <td>True</td>\n",
       "      <td>False</td>\n",
       "      <td>True</td>\n",
       "      <td>False</td>\n",
       "      <td>True</td>\n",
       "      <td>...</td>\n",
       "      <td>False</td>\n",
       "      <td>True</td>\n",
       "      <td>False</td>\n",
       "      <td>False</td>\n",
       "      <td>False</td>\n",
       "      <td>True</td>\n",
       "      <td>False</td>\n",
       "      <td>False</td>\n",
       "      <td>True</td>\n",
       "      <td>False</td>\n",
       "    </tr>\n",
       "    <tr>\n",
       "      <th>...</th>\n",
       "      <td>...</td>\n",
       "      <td>...</td>\n",
       "      <td>...</td>\n",
       "      <td>...</td>\n",
       "      <td>...</td>\n",
       "      <td>...</td>\n",
       "      <td>...</td>\n",
       "      <td>...</td>\n",
       "      <td>...</td>\n",
       "      <td>...</td>\n",
       "      <td>...</td>\n",
       "      <td>...</td>\n",
       "      <td>...</td>\n",
       "      <td>...</td>\n",
       "      <td>...</td>\n",
       "      <td>...</td>\n",
       "      <td>...</td>\n",
       "      <td>...</td>\n",
       "      <td>...</td>\n",
       "      <td>...</td>\n",
       "      <td>...</td>\n",
       "    </tr>\n",
       "    <tr>\n",
       "      <th>7038</th>\n",
       "      <td>24</td>\n",
       "      <td>84.80</td>\n",
       "      <td>1990.50</td>\n",
       "      <td>False</td>\n",
       "      <td>True</td>\n",
       "      <td>True</td>\n",
       "      <td>False</td>\n",
       "      <td>False</td>\n",
       "      <td>True</td>\n",
       "      <td>False</td>\n",
       "      <td>...</td>\n",
       "      <td>True</td>\n",
       "      <td>False</td>\n",
       "      <td>True</td>\n",
       "      <td>False</td>\n",
       "      <td>False</td>\n",
       "      <td>True</td>\n",
       "      <td>False</td>\n",
       "      <td>False</td>\n",
       "      <td>False</td>\n",
       "      <td>True</td>\n",
       "    </tr>\n",
       "    <tr>\n",
       "      <th>7039</th>\n",
       "      <td>72</td>\n",
       "      <td>103.20</td>\n",
       "      <td>7362.90</td>\n",
       "      <td>True</td>\n",
       "      <td>False</td>\n",
       "      <td>True</td>\n",
       "      <td>False</td>\n",
       "      <td>False</td>\n",
       "      <td>True</td>\n",
       "      <td>False</td>\n",
       "      <td>...</td>\n",
       "      <td>True</td>\n",
       "      <td>False</td>\n",
       "      <td>True</td>\n",
       "      <td>False</td>\n",
       "      <td>False</td>\n",
       "      <td>True</td>\n",
       "      <td>False</td>\n",
       "      <td>True</td>\n",
       "      <td>False</td>\n",
       "      <td>False</td>\n",
       "    </tr>\n",
       "    <tr>\n",
       "      <th>7040</th>\n",
       "      <td>11</td>\n",
       "      <td>29.60</td>\n",
       "      <td>346.45</td>\n",
       "      <td>True</td>\n",
       "      <td>False</td>\n",
       "      <td>True</td>\n",
       "      <td>False</td>\n",
       "      <td>False</td>\n",
       "      <td>True</td>\n",
       "      <td>False</td>\n",
       "      <td>...</td>\n",
       "      <td>False</td>\n",
       "      <td>True</td>\n",
       "      <td>False</td>\n",
       "      <td>False</td>\n",
       "      <td>False</td>\n",
       "      <td>True</td>\n",
       "      <td>False</td>\n",
       "      <td>False</td>\n",
       "      <td>True</td>\n",
       "      <td>False</td>\n",
       "    </tr>\n",
       "    <tr>\n",
       "      <th>7041</th>\n",
       "      <td>4</td>\n",
       "      <td>74.40</td>\n",
       "      <td>306.60</td>\n",
       "      <td>False</td>\n",
       "      <td>True</td>\n",
       "      <td>False</td>\n",
       "      <td>True</td>\n",
       "      <td>False</td>\n",
       "      <td>True</td>\n",
       "      <td>True</td>\n",
       "      <td>...</td>\n",
       "      <td>False</td>\n",
       "      <td>True</td>\n",
       "      <td>False</td>\n",
       "      <td>False</td>\n",
       "      <td>False</td>\n",
       "      <td>True</td>\n",
       "      <td>False</td>\n",
       "      <td>False</td>\n",
       "      <td>False</td>\n",
       "      <td>True</td>\n",
       "    </tr>\n",
       "    <tr>\n",
       "      <th>7042</th>\n",
       "      <td>66</td>\n",
       "      <td>105.65</td>\n",
       "      <td>6844.50</td>\n",
       "      <td>False</td>\n",
       "      <td>True</td>\n",
       "      <td>True</td>\n",
       "      <td>False</td>\n",
       "      <td>True</td>\n",
       "      <td>False</td>\n",
       "      <td>True</td>\n",
       "      <td>...</td>\n",
       "      <td>True</td>\n",
       "      <td>False</td>\n",
       "      <td>False</td>\n",
       "      <td>True</td>\n",
       "      <td>False</td>\n",
       "      <td>True</td>\n",
       "      <td>True</td>\n",
       "      <td>False</td>\n",
       "      <td>False</td>\n",
       "      <td>False</td>\n",
       "    </tr>\n",
       "  </tbody>\n",
       "</table>\n",
       "<p>7032 rows × 46 columns</p>\n",
       "</div>"
      ],
      "text/plain": [
       "      tenure  MonthlyCharges  TotalCharges  gender_Female  gender_Male  \\\n",
       "0          1           29.85         29.85           True        False   \n",
       "1         34           56.95       1889.50          False         True   \n",
       "2          2           53.85        108.15          False         True   \n",
       "3         45           42.30       1840.75          False         True   \n",
       "4          2           70.70        151.65           True        False   \n",
       "...      ...             ...           ...            ...          ...   \n",
       "7038      24           84.80       1990.50          False         True   \n",
       "7039      72          103.20       7362.90           True        False   \n",
       "7040      11           29.60        346.45           True        False   \n",
       "7041       4           74.40        306.60          False         True   \n",
       "7042      66          105.65       6844.50          False         True   \n",
       "\n",
       "      SeniorCitizen_0  SeniorCitizen_1  Partner_No  Partner_Yes  \\\n",
       "0                True            False       False         True   \n",
       "1                True            False        True        False   \n",
       "2                True            False        True        False   \n",
       "3                True            False        True        False   \n",
       "4                True            False        True        False   \n",
       "...               ...              ...         ...          ...   \n",
       "7038             True            False       False         True   \n",
       "7039             True            False       False         True   \n",
       "7040             True            False       False         True   \n",
       "7041            False             True       False         True   \n",
       "7042             True            False        True        False   \n",
       "\n",
       "      Dependents_No  ...  StreamingMovies_Yes  Contract_Month-to-month  \\\n",
       "0              True  ...                False                     True   \n",
       "1              True  ...                False                    False   \n",
       "2              True  ...                False                     True   \n",
       "3              True  ...                False                    False   \n",
       "4              True  ...                False                     True   \n",
       "...             ...  ...                  ...                      ...   \n",
       "7038          False  ...                 True                    False   \n",
       "7039          False  ...                 True                    False   \n",
       "7040          False  ...                False                     True   \n",
       "7041           True  ...                False                     True   \n",
       "7042           True  ...                 True                    False   \n",
       "\n",
       "      Contract_One year  Contract_Two year  PaperlessBilling_No  \\\n",
       "0                 False              False                False   \n",
       "1                  True              False                 True   \n",
       "2                 False              False                False   \n",
       "3                  True              False                 True   \n",
       "4                 False              False                False   \n",
       "...                 ...                ...                  ...   \n",
       "7038               True              False                False   \n",
       "7039               True              False                False   \n",
       "7040              False              False                False   \n",
       "7041              False              False                False   \n",
       "7042              False               True                False   \n",
       "\n",
       "      PaperlessBilling_Yes  PaymentMethod_Bank transfer (automatic)  \\\n",
       "0                     True                                    False   \n",
       "1                    False                                    False   \n",
       "2                     True                                    False   \n",
       "3                    False                                     True   \n",
       "4                     True                                    False   \n",
       "...                    ...                                      ...   \n",
       "7038                  True                                    False   \n",
       "7039                  True                                    False   \n",
       "7040                  True                                    False   \n",
       "7041                  True                                    False   \n",
       "7042                  True                                     True   \n",
       "\n",
       "      PaymentMethod_Credit card (automatic)  PaymentMethod_Electronic check  \\\n",
       "0                                     False                            True   \n",
       "1                                     False                           False   \n",
       "2                                     False                           False   \n",
       "3                                     False                           False   \n",
       "4                                     False                            True   \n",
       "...                                     ...                             ...   \n",
       "7038                                  False                           False   \n",
       "7039                                   True                           False   \n",
       "7040                                  False                            True   \n",
       "7041                                  False                           False   \n",
       "7042                                  False                           False   \n",
       "\n",
       "      PaymentMethod_Mailed check  \n",
       "0                          False  \n",
       "1                           True  \n",
       "2                           True  \n",
       "3                          False  \n",
       "4                          False  \n",
       "...                          ...  \n",
       "7038                        True  \n",
       "7039                       False  \n",
       "7040                       False  \n",
       "7041                        True  \n",
       "7042                       False  \n",
       "\n",
       "[7032 rows x 46 columns]"
      ]
     },
     "execution_count": 59,
     "metadata": {},
     "output_type": "execute_result"
    }
   ],
   "source": [
    "X = df_churn_final.drop('Churn', axis=1)\n",
    "X"
   ]
  },
  {
   "cell_type": "code",
   "execution_count": 60,
   "id": "6b99e25f-6aea-4cf5-a644-1ddb1c820ab2",
   "metadata": {},
   "outputs": [
    {
     "data": {
      "text/plain": [
       "0        No\n",
       "1        No\n",
       "2       Yes\n",
       "3        No\n",
       "4       Yes\n",
       "       ... \n",
       "7038     No\n",
       "7039     No\n",
       "7040     No\n",
       "7041    Yes\n",
       "7042     No\n",
       "Name: Churn, Length: 7032, dtype: object"
      ]
     },
     "execution_count": 60,
     "metadata": {},
     "output_type": "execute_result"
    }
   ],
   "source": [
    "y = df_churn_final.Churn\n",
    "y"
   ]
  },
  {
   "cell_type": "markdown",
   "id": "a1819c0a-90d1-4897-9255-c9d50201af55",
   "metadata": {},
   "source": [
    "### Encoding"
   ]
  },
  {
   "cell_type": "code",
   "execution_count": 61,
   "id": "9e7e5fca-8ff1-44ae-9deb-871025fa18ed",
   "metadata": {},
   "outputs": [],
   "source": [
    "from sklearn.preprocessing import LabelEncoder"
   ]
  },
  {
   "cell_type": "code",
   "execution_count": 62,
   "id": "b51d1005-6ad5-4ee7-955a-929892a499d3",
   "metadata": {},
   "outputs": [],
   "source": [
    "y = LabelEncoder().fit_transform(y)  # Target Variable"
   ]
  },
  {
   "cell_type": "code",
   "execution_count": 63,
   "id": "53c95145-02b8-4b66-9f88-fcb11fc4a9c8",
   "metadata": {},
   "outputs": [
    {
     "data": {
      "text/plain": [
       "array([0, 0, 1, ..., 0, 1, 0])"
      ]
     },
     "execution_count": 63,
     "metadata": {},
     "output_type": "execute_result"
    }
   ],
   "source": [
    "y"
   ]
  },
  {
   "cell_type": "markdown",
   "id": "863fb2fe-fd6b-4d0e-8170-ce282cd64394",
   "metadata": {},
   "source": [
    "#### Check the Imbalanceness"
   ]
  },
  {
   "cell_type": "code",
   "execution_count": 64,
   "id": "67bd233e-4090-4b12-8186-1a2ce459a814",
   "metadata": {},
   "outputs": [
    {
     "data": {
      "text/plain": [
       "<Axes: xlabel='Churn'>"
      ]
     },
     "execution_count": 64,
     "metadata": {},
     "output_type": "execute_result"
    },
    {
     "data": {
      "image/png": "[encoded data removed]",
      "text/plain": [
       "<Figure size 640x480 with 1 Axes>"
      ]
     },
     "metadata": {},
     "output_type": "display_data"
    }
   ],
   "source": [
    "df_churn.Churn.value_counts().plot(kind = \"bar\")"
   ]
  },
  {
   "cell_type": "markdown",
   "id": "ab2e45e3-9f04-43cf-a4ff-ef1190794c3f",
   "metadata": {},
   "source": [
    "### Model Buidling"
   ]
  },
  {
   "cell_type": "markdown",
   "id": "62c7676f-9df3-4733-8d19-73d327a3de09",
   "metadata": {},
   "source": [
    "####  Logistic Regression"
   ]
  },
  {
   "cell_type": "code",
   "execution_count": 65,
   "id": "feb3e313-dc0c-4a49-8786-b1d65acae367",
   "metadata": {},
   "outputs": [],
   "source": [
    "from sklearn.linear_model import LogisticRegression"
   ]
  },
  {
   "cell_type": "code",
   "execution_count": 66,
   "id": "22a2d957-c751-417e-8f85-2563c1474439",
   "metadata": {},
   "outputs": [],
   "source": [
    "logreg = LogisticRegression(max_iter=1000)"
   ]
  },
  {
   "cell_type": "code",
   "execution_count": 67,
   "id": "91d5dba8-6a99-44a4-833c-044ac6ac2b06",
   "metadata": {},
   "outputs": [
    {
     "data": {
      "text/html": [
       "<style>#sk-container-id-1 {color: black;background-color: white;}#sk-container-id-1 pre{padding: 0;}#sk-container-id-1 div.sk-toggleable {background-color: white;}#sk-container-id-1 label.sk-toggleable__label {cursor: pointer;display: block;width: 100%;margin-bottom: 0;padding: 0.3em;box-sizing: border-box;text-align: center;}#sk-container-id-1 label.sk-toggleable__label-arrow:before {content: \"▸\";float: left;margin-right: 0.25em;color: #696969;}#sk-container-id-1 label.sk-toggleable__label-arrow:hover:before {color: black;}#sk-container-id-1 div.sk-estimator:hover label.sk-toggleable__label-arrow:before {color: black;}#sk-container-id-1 div.sk-toggleable__content {max-height: 0;max-width: 0;overflow: hidden;text-align: left;background-color: #f0f8ff;}#sk-container-id-1 div.sk-toggleable__content pre {margin: 0.2em;color: black;border-radius: 0.25em;background-color: #f0f8ff;}#sk-container-id-1 input.sk-toggleable__control:checked~div.sk-toggleable__content {max-height: 200px;max-width: 100%;overflow: auto;}#sk-container-id-1 input.sk-toggleable__control:checked~label.sk-toggleable__label-arrow:before {content: \"▾\";}#sk-container-id-1 div.sk-estimator input.sk-toggleable__control:checked~label.sk-toggleable__label {background-color: #d4ebff;}#sk-container-id-1 div.sk-label input.sk-toggleable__control:checked~label.sk-toggleable__label {background-color: #d4ebff;}#sk-container-id-1 input.sk-hidden--visually {border: 0;clip: rect(1px 1px 1px 1px);clip: rect(1px, 1px, 1px, 1px);height: 1px;margin: -1px;overflow: hidden;padding: 0;position: absolute;width: 1px;}#sk-container-id-1 div.sk-estimator {font-family: monospace;background-color: #f0f8ff;border: 1px dotted black;border-radius: 0.25em;box-sizing: border-box;margin-bottom: 0.5em;}#sk-container-id-1 div.sk-estimator:hover {background-color: #d4ebff;}#sk-container-id-1 div.sk-parallel-item::after {content: \"\";width: 100%;border-bottom: 1px solid gray;flex-grow: 1;}#sk-container-id-1 div.sk-label:hover label.sk-toggleable__label {background-color: #d4ebff;}#sk-container-id-1 div.sk-serial::before {content: \"\";position: absolute;border-left: 1px solid gray;box-sizing: border-box;top: 0;bottom: 0;left: 50%;z-index: 0;}#sk-container-id-1 div.sk-serial {display: flex;flex-direction: column;align-items: center;background-color: white;padding-right: 0.2em;padding-left: 0.2em;position: relative;}#sk-container-id-1 div.sk-item {position: relative;z-index: 1;}#sk-container-id-1 div.sk-parallel {display: flex;align-items: stretch;justify-content: center;background-color: white;position: relative;}#sk-container-id-1 div.sk-item::before, #sk-container-id-1 div.sk-parallel-item::before {content: \"\";position: absolute;border-left: 1px solid gray;box-sizing: border-box;top: 0;bottom: 0;left: 50%;z-index: -1;}#sk-container-id-1 div.sk-parallel-item {display: flex;flex-direction: column;z-index: 1;position: relative;background-color: white;}#sk-container-id-1 div.sk-parallel-item:first-child::after {align-self: flex-end;width: 50%;}#sk-container-id-1 div.sk-parallel-item:last-child::after {align-self: flex-start;width: 50%;}#sk-container-id-1 div.sk-parallel-item:only-child::after {width: 0;}#sk-container-id-1 div.sk-dashed-wrapped {border: 1px dashed gray;margin: 0 0.4em 0.5em 0.4em;box-sizing: border-box;padding-bottom: 0.4em;background-color: white;}#sk-container-id-1 div.sk-label label {font-family: monospace;font-weight: bold;display: inline-block;line-height: 1.2em;}#sk-container-id-1 div.sk-label-container {text-align: center;}#sk-container-id-1 div.sk-container {/* jupyter's `normalize.less` sets `[hidden] { display: none; }` but bootstrap.min.css set `[hidden] { display: none !important; }` so we also need the `!important` here to be able to override the default hidden behavior on the sphinx rendered scikit-learn.org. See: https://github.com/scikit-learn/scikit-learn/issues/21755 */display: inline-block !important;position: relative;}#sk-container-id-1 div.sk-text-repr-fallback {display: none;}</style><div id=\"sk-container-id-1\" class=\"sk-top-container\"><div class=\"sk-text-repr-fallback\"><pre>LogisticRegression(max_iter=1000)</pre><b>In a Jupyter environment, please rerun this cell to show the HTML representation or trust the notebook. <br />On GitHub, the HTML representation is unable to render, please try loading this page with nbviewer.org.</b></div><div class=\"sk-container\" hidden><div class=\"sk-item\"><div class=\"sk-estimator sk-toggleable\"><input class=\"sk-toggleable__control sk-hidden--visually\" id=\"sk-estimator-id-1\" type=\"checkbox\" checked><label for=\"sk-estimator-id-1\" class=\"sk-toggleable__label sk-toggleable__label-arrow\">LogisticRegression</label><div class=\"sk-toggleable__content\"><pre>LogisticRegression(max_iter=1000)</pre></div></div></div></div></div>"
      ],
      "text/plain": [
       "LogisticRegression(max_iter=1000)"
      ]
     },
     "execution_count": 67,
     "metadata": {},
     "output_type": "execute_result"
    }
   ],
   "source": [
    "logreg"
   ]
  },
  {
   "cell_type": "code",
   "execution_count": 68,
   "id": "59735485-461d-43d8-9cc9-a0ec9c88a0db",
   "metadata": {},
   "outputs": [],
   "source": [
    "logreg_model = logreg.fit(X,y)\n",
    "## Convergence warning means -- All coeffiecients (Beta's) are not calculated"
   ]
  },
  {
   "cell_type": "code",
   "execution_count": 69,
   "id": "7268b771-eac6-466e-bcde-d44d5929e57a",
   "metadata": {},
   "outputs": [
    {
     "data": {
      "text/plain": [
       "0.8063139931740614"
      ]
     },
     "execution_count": 69,
     "metadata": {},
     "output_type": "execute_result"
    }
   ],
   "source": [
    "logreg_model.score(X,y)"
   ]
  },
  {
   "cell_type": "code",
   "execution_count": 70,
   "id": "2f09ee2d-220b-4e1e-a441-3ecaf367ab26",
   "metadata": {},
   "outputs": [],
   "source": [
    "log_pred = logreg_model.predict(X)"
   ]
  },
  {
   "cell_type": "code",
   "execution_count": 71,
   "id": "2df6cc59-7e65-4ab9-bb92-58756e2cbfe0",
   "metadata": {},
   "outputs": [
    {
     "data": {
      "text/plain": [
       "array([1, 0, 0, ..., 0, 1, 0])"
      ]
     },
     "execution_count": 71,
     "metadata": {},
     "output_type": "execute_result"
    }
   ],
   "source": [
    "log_pred"
   ]
  },
  {
   "cell_type": "code",
   "execution_count": 72,
   "id": "7935f72d-5b20-4a44-8fbd-dcc06336acf6",
   "metadata": {},
   "outputs": [
    {
     "data": {
      "text/html": [
       "<div>\n",
       "<style scoped>\n",
       "    .dataframe tbody tr th:only-of-type {\n",
       "        vertical-align: middle;\n",
       "    }\n",
       "\n",
       "    .dataframe tbody tr th {\n",
       "        vertical-align: top;\n",
       "    }\n",
       "\n",
       "    .dataframe thead th {\n",
       "        text-align: right;\n",
       "    }\n",
       "</style>\n",
       "<table border=\"1\" class=\"dataframe\">\n",
       "  <thead>\n",
       "    <tr style=\"text-align: right;\">\n",
       "      <th>col_0</th>\n",
       "      <th>0</th>\n",
       "      <th>1</th>\n",
       "    </tr>\n",
       "    <tr>\n",
       "      <th>row_0</th>\n",
       "      <th></th>\n",
       "      <th></th>\n",
       "    </tr>\n",
       "  </thead>\n",
       "  <tbody>\n",
       "    <tr>\n",
       "      <th>0</th>\n",
       "      <td>4624</td>\n",
       "      <td>539</td>\n",
       "    </tr>\n",
       "    <tr>\n",
       "      <th>1</th>\n",
       "      <td>823</td>\n",
       "      <td>1046</td>\n",
       "    </tr>\n",
       "  </tbody>\n",
       "</table>\n",
       "</div>"
      ],
      "text/plain": [
       "col_0     0     1\n",
       "row_0            \n",
       "0      4624   539\n",
       "1       823  1046"
      ]
     },
     "execution_count": 72,
     "metadata": {},
     "output_type": "execute_result"
    }
   ],
   "source": [
    "pd.crosstab(y, log_pred)  ## Confusion Matrix"
   ]
  },
  {
   "cell_type": "code",
   "execution_count": 73,
   "id": "59d775a4-b266-4609-a976-b9b28e8582b8",
   "metadata": {},
   "outputs": [
    {
     "data": {
      "text/plain": [
       "0.8063139931740614"
      ]
     },
     "execution_count": 73,
     "metadata": {},
     "output_type": "execute_result"
    }
   ],
   "source": [
    "(4624+1046)/(4624+539+823+1046) ## Verifying form the crosstabulation to check the classes imbalanecd or not"
   ]
  },
  {
   "cell_type": "code",
   "execution_count": 74,
   "id": "57b39410-c3dd-45ec-baf3-b5374f1d9462",
   "metadata": {},
   "outputs": [],
   "source": [
    "from sklearn.metrics import classification_report, RocCurveDisplay"
   ]
  },
  {
   "cell_type": "code",
   "execution_count": 75,
   "id": "1f8e7a8f-eead-4ba9-8eb9-682e72a3541b",
   "metadata": {},
   "outputs": [
    {
     "name": "stdout",
     "output_type": "stream",
     "text": [
      "              precision    recall  f1-score   support\n",
      "\n",
      "           0       0.85      0.90      0.87      5163\n",
      "           1       0.66      0.56      0.61      1869\n",
      "\n",
      "    accuracy                           0.81      7032\n",
      "   macro avg       0.75      0.73      0.74      7032\n",
      "weighted avg       0.80      0.81      0.80      7032\n",
      "\n"
     ]
    }
   ],
   "source": [
    "## Confusion matrix\n",
    "print(classification_report(y,log_pred))"
   ]
  },
  {
   "cell_type": "code",
   "execution_count": 76,
   "id": "c3ff40e6-6170-4705-a1d9-d5bb36229b77",
   "metadata": {},
   "outputs": [],
   "source": [
    "## from this for churn category-1 precision is 66% out of this 34% of customer has not churned\n",
    "## If you observe from recall for category for 44% customers are churn\n",
    "\n",
    "## From business scenarios False negatives  - 44% recall i.e model might miss some of customers who are about to churn\\\n",
    "## False Positives - Unnecsessary actions \n",
    "## Overall if i sumup with the model misses some churned customed that can happen but by exploring the advanced techniques toimprove recall \n",
    "  # to adjust the models are targeting at hgh risk to reduce the churn rate effeciency"
   ]
  },
  {
   "cell_type": "code",
   "execution_count": 77,
   "id": "287c123e-5450-4997-9b46-5406e2dbb594",
   "metadata": {},
   "outputs": [
    {
     "data": {
      "text/plain": [
       "<sklearn.metrics._plot.roc_curve.RocCurveDisplay at 0x1cd9c516010>"
      ]
     },
     "execution_count": 77,
     "metadata": {},
     "output_type": "execute_result"
    },
    {
     "data": {
      "image/png": "[encoded data removed]",
      "text/plain": [
       "<Figure size 640x480 with 1 Axes>"
      ]
     },
     "metadata": {},
     "output_type": "display_data"
    }
   ],
   "source": [
    "RocCurveDisplay.from_predictions(y,log_pred)"
   ]
  },
  {
   "cell_type": "code",
   "execution_count": 78,
   "id": "8488e3c6-a4b4-4293-beb9-0176ec79d7a0",
   "metadata": {},
   "outputs": [],
   "source": [
    "df_churn.to_excel(\"churn.xlsx\")"
   ]
  },
  {
   "cell_type": "code",
   "execution_count": 79,
   "id": "c8937c04-a072-475e-b971-c97c126fa8fa",
   "metadata": {},
   "outputs": [
    {
     "data": {
      "text/html": [
       "<div>\n",
       "<style scoped>\n",
       "    .dataframe tbody tr th:only-of-type {\n",
       "        vertical-align: middle;\n",
       "    }\n",
       "\n",
       "    .dataframe tbody tr th {\n",
       "        vertical-align: top;\n",
       "    }\n",
       "\n",
       "    .dataframe thead th {\n",
       "        text-align: right;\n",
       "    }\n",
       "</style>\n",
       "<table border=\"1\" class=\"dataframe\">\n",
       "  <thead>\n",
       "    <tr style=\"text-align: right;\">\n",
       "      <th></th>\n",
       "      <th>tenure</th>\n",
       "      <th>MonthlyCharges</th>\n",
       "      <th>TotalCharges</th>\n",
       "    </tr>\n",
       "  </thead>\n",
       "  <tbody>\n",
       "    <tr>\n",
       "      <th>0</th>\n",
       "      <td>1</td>\n",
       "      <td>29.85</td>\n",
       "      <td>29.85</td>\n",
       "    </tr>\n",
       "    <tr>\n",
       "      <th>1</th>\n",
       "      <td>34</td>\n",
       "      <td>56.95</td>\n",
       "      <td>1889.50</td>\n",
       "    </tr>\n",
       "    <tr>\n",
       "      <th>2</th>\n",
       "      <td>2</td>\n",
       "      <td>53.85</td>\n",
       "      <td>108.15</td>\n",
       "    </tr>\n",
       "    <tr>\n",
       "      <th>3</th>\n",
       "      <td>45</td>\n",
       "      <td>42.30</td>\n",
       "      <td>1840.75</td>\n",
       "    </tr>\n",
       "    <tr>\n",
       "      <th>4</th>\n",
       "      <td>2</td>\n",
       "      <td>70.70</td>\n",
       "      <td>151.65</td>\n",
       "    </tr>\n",
       "  </tbody>\n",
       "</table>\n",
       "</div>"
      ],
      "text/plain": [
       "   tenure  MonthlyCharges  TotalCharges\n",
       "0       1           29.85         29.85\n",
       "1      34           56.95       1889.50\n",
       "2       2           53.85        108.15\n",
       "3      45           42.30       1840.75\n",
       "4       2           70.70        151.65"
      ]
     },
     "execution_count": 79,
     "metadata": {},
     "output_type": "execute_result"
    }
   ],
   "source": [
    "num_cols.head()"
   ]
  },
  {
   "cell_type": "code",
   "execution_count": 80,
   "id": "4e602776-7b37-4fe1-bbaa-d99a4686f914",
   "metadata": {
    "scrolled": true
   },
   "outputs": [
    {
     "data": {
      "text/html": [
       "<div>\n",
       "<style scoped>\n",
       "    .dataframe tbody tr th:only-of-type {\n",
       "        vertical-align: middle;\n",
       "    }\n",
       "\n",
       "    .dataframe tbody tr th {\n",
       "        vertical-align: top;\n",
       "    }\n",
       "\n",
       "    .dataframe thead th {\n",
       "        text-align: right;\n",
       "    }\n",
       "</style>\n",
       "<table border=\"1\" class=\"dataframe\">\n",
       "  <thead>\n",
       "    <tr style=\"text-align: right;\">\n",
       "      <th></th>\n",
       "      <th>tenure</th>\n",
       "      <th>MonthlyCharges</th>\n",
       "      <th>TotalCharges</th>\n",
       "    </tr>\n",
       "  </thead>\n",
       "  <tbody>\n",
       "    <tr>\n",
       "      <th>0</th>\n",
       "      <td>1</td>\n",
       "      <td>29.85</td>\n",
       "      <td>29.85</td>\n",
       "    </tr>\n",
       "    <tr>\n",
       "      <th>1</th>\n",
       "      <td>34</td>\n",
       "      <td>56.95</td>\n",
       "      <td>1889.50</td>\n",
       "    </tr>\n",
       "    <tr>\n",
       "      <th>2</th>\n",
       "      <td>2</td>\n",
       "      <td>53.85</td>\n",
       "      <td>108.15</td>\n",
       "    </tr>\n",
       "    <tr>\n",
       "      <th>3</th>\n",
       "      <td>45</td>\n",
       "      <td>42.30</td>\n",
       "      <td>1840.75</td>\n",
       "    </tr>\n",
       "    <tr>\n",
       "      <th>4</th>\n",
       "      <td>2</td>\n",
       "      <td>70.70</td>\n",
       "      <td>151.65</td>\n",
       "    </tr>\n",
       "    <tr>\n",
       "      <th>...</th>\n",
       "      <td>...</td>\n",
       "      <td>...</td>\n",
       "      <td>...</td>\n",
       "    </tr>\n",
       "    <tr>\n",
       "      <th>7038</th>\n",
       "      <td>24</td>\n",
       "      <td>84.80</td>\n",
       "      <td>1990.50</td>\n",
       "    </tr>\n",
       "    <tr>\n",
       "      <th>7039</th>\n",
       "      <td>72</td>\n",
       "      <td>103.20</td>\n",
       "      <td>7362.90</td>\n",
       "    </tr>\n",
       "    <tr>\n",
       "      <th>7040</th>\n",
       "      <td>11</td>\n",
       "      <td>29.60</td>\n",
       "      <td>346.45</td>\n",
       "    </tr>\n",
       "    <tr>\n",
       "      <th>7041</th>\n",
       "      <td>4</td>\n",
       "      <td>74.40</td>\n",
       "      <td>306.60</td>\n",
       "    </tr>\n",
       "    <tr>\n",
       "      <th>7042</th>\n",
       "      <td>66</td>\n",
       "      <td>105.65</td>\n",
       "      <td>6844.50</td>\n",
       "    </tr>\n",
       "  </tbody>\n",
       "</table>\n",
       "<p>7032 rows × 3 columns</p>\n",
       "</div>"
      ],
      "text/plain": [
       "      tenure  MonthlyCharges  TotalCharges\n",
       "0          1           29.85         29.85\n",
       "1         34           56.95       1889.50\n",
       "2          2           53.85        108.15\n",
       "3         45           42.30       1840.75\n",
       "4          2           70.70        151.65\n",
       "...      ...             ...           ...\n",
       "7038      24           84.80       1990.50\n",
       "7039      72          103.20       7362.90\n",
       "7040      11           29.60        346.45\n",
       "7041       4           74.40        306.60\n",
       "7042      66          105.65       6844.50\n",
       "\n",
       "[7032 rows x 3 columns]"
      ]
     },
     "execution_count": 80,
     "metadata": {},
     "output_type": "execute_result"
    }
   ],
   "source": [
    "X2 = num_cols\n",
    "X2"
   ]
  },
  {
   "cell_type": "code",
   "execution_count": 81,
   "id": "a601995a-53d8-4de2-9e39-eee35bfbaa49",
   "metadata": {},
   "outputs": [
    {
     "data": {
      "text/html": [
       "<style>#sk-container-id-2 {color: black;background-color: white;}#sk-container-id-2 pre{padding: 0;}#sk-container-id-2 div.sk-toggleable {background-color: white;}#sk-container-id-2 label.sk-toggleable__label {cursor: pointer;display: block;width: 100%;margin-bottom: 0;padding: 0.3em;box-sizing: border-box;text-align: center;}#sk-container-id-2 label.sk-toggleable__label-arrow:before {content: \"▸\";float: left;margin-right: 0.25em;color: #696969;}#sk-container-id-2 label.sk-toggleable__label-arrow:hover:before {color: black;}#sk-container-id-2 div.sk-estimator:hover label.sk-toggleable__label-arrow:before {color: black;}#sk-container-id-2 div.sk-toggleable__content {max-height: 0;max-width: 0;overflow: hidden;text-align: left;background-color: #f0f8ff;}#sk-container-id-2 div.sk-toggleable__content pre {margin: 0.2em;color: black;border-radius: 0.25em;background-color: #f0f8ff;}#sk-container-id-2 input.sk-toggleable__control:checked~div.sk-toggleable__content {max-height: 200px;max-width: 100%;overflow: auto;}#sk-container-id-2 input.sk-toggleable__control:checked~label.sk-toggleable__label-arrow:before {content: \"▾\";}#sk-container-id-2 div.sk-estimator input.sk-toggleable__control:checked~label.sk-toggleable__label {background-color: #d4ebff;}#sk-container-id-2 div.sk-label input.sk-toggleable__control:checked~label.sk-toggleable__label {background-color: #d4ebff;}#sk-container-id-2 input.sk-hidden--visually {border: 0;clip: rect(1px 1px 1px 1px);clip: rect(1px, 1px, 1px, 1px);height: 1px;margin: -1px;overflow: hidden;padding: 0;position: absolute;width: 1px;}#sk-container-id-2 div.sk-estimator {font-family: monospace;background-color: #f0f8ff;border: 1px dotted black;border-radius: 0.25em;box-sizing: border-box;margin-bottom: 0.5em;}#sk-container-id-2 div.sk-estimator:hover {background-color: #d4ebff;}#sk-container-id-2 div.sk-parallel-item::after {content: \"\";width: 100%;border-bottom: 1px solid gray;flex-grow: 1;}#sk-container-id-2 div.sk-label:hover label.sk-toggleable__label {background-color: #d4ebff;}#sk-container-id-2 div.sk-serial::before {content: \"\";position: absolute;border-left: 1px solid gray;box-sizing: border-box;top: 0;bottom: 0;left: 50%;z-index: 0;}#sk-container-id-2 div.sk-serial {display: flex;flex-direction: column;align-items: center;background-color: white;padding-right: 0.2em;padding-left: 0.2em;position: relative;}#sk-container-id-2 div.sk-item {position: relative;z-index: 1;}#sk-container-id-2 div.sk-parallel {display: flex;align-items: stretch;justify-content: center;background-color: white;position: relative;}#sk-container-id-2 div.sk-item::before, #sk-container-id-2 div.sk-parallel-item::before {content: \"\";position: absolute;border-left: 1px solid gray;box-sizing: border-box;top: 0;bottom: 0;left: 50%;z-index: -1;}#sk-container-id-2 div.sk-parallel-item {display: flex;flex-direction: column;z-index: 1;position: relative;background-color: white;}#sk-container-id-2 div.sk-parallel-item:first-child::after {align-self: flex-end;width: 50%;}#sk-container-id-2 div.sk-parallel-item:last-child::after {align-self: flex-start;width: 50%;}#sk-container-id-2 div.sk-parallel-item:only-child::after {width: 0;}#sk-container-id-2 div.sk-dashed-wrapped {border: 1px dashed gray;margin: 0 0.4em 0.5em 0.4em;box-sizing: border-box;padding-bottom: 0.4em;background-color: white;}#sk-container-id-2 div.sk-label label {font-family: monospace;font-weight: bold;display: inline-block;line-height: 1.2em;}#sk-container-id-2 div.sk-label-container {text-align: center;}#sk-container-id-2 div.sk-container {/* jupyter's `normalize.less` sets `[hidden] { display: none; }` but bootstrap.min.css set `[hidden] { display: none !important; }` so we also need the `!important` here to be able to override the default hidden behavior on the sphinx rendered scikit-learn.org. See: https://github.com/scikit-learn/scikit-learn/issues/21755 */display: inline-block !important;position: relative;}#sk-container-id-2 div.sk-text-repr-fallback {display: none;}</style><div id=\"sk-container-id-2\" class=\"sk-top-container\"><div class=\"sk-text-repr-fallback\"><pre>LogisticRegression()</pre><b>In a Jupyter environment, please rerun this cell to show the HTML representation or trust the notebook. <br />On GitHub, the HTML representation is unable to render, please try loading this page with nbviewer.org.</b></div><div class=\"sk-container\" hidden><div class=\"sk-item\"><div class=\"sk-estimator sk-toggleable\"><input class=\"sk-toggleable__control sk-hidden--visually\" id=\"sk-estimator-id-2\" type=\"checkbox\" checked><label for=\"sk-estimator-id-2\" class=\"sk-toggleable__label sk-toggleable__label-arrow\">LogisticRegression</label><div class=\"sk-toggleable__content\"><pre>LogisticRegression()</pre></div></div></div></div></div>"
      ],
      "text/plain": [
       "LogisticRegression()"
      ]
     },
     "execution_count": 81,
     "metadata": {},
     "output_type": "execute_result"
    }
   ],
   "source": [
    "logit = LogisticRegression()\n",
    "logit"
   ]
  },
  {
   "cell_type": "code",
   "execution_count": 82,
   "id": "32096d04-e832-484f-a879-3eae161738f7",
   "metadata": {},
   "outputs": [
    {
     "data": {
      "text/html": [
       "<style>#sk-container-id-3 {color: black;background-color: white;}#sk-container-id-3 pre{padding: 0;}#sk-container-id-3 div.sk-toggleable {background-color: white;}#sk-container-id-3 label.sk-toggleable__label {cursor: pointer;display: block;width: 100%;margin-bottom: 0;padding: 0.3em;box-sizing: border-box;text-align: center;}#sk-container-id-3 label.sk-toggleable__label-arrow:before {content: \"▸\";float: left;margin-right: 0.25em;color: #696969;}#sk-container-id-3 label.sk-toggleable__label-arrow:hover:before {color: black;}#sk-container-id-3 div.sk-estimator:hover label.sk-toggleable__label-arrow:before {color: black;}#sk-container-id-3 div.sk-toggleable__content {max-height: 0;max-width: 0;overflow: hidden;text-align: left;background-color: #f0f8ff;}#sk-container-id-3 div.sk-toggleable__content pre {margin: 0.2em;color: black;border-radius: 0.25em;background-color: #f0f8ff;}#sk-container-id-3 input.sk-toggleable__control:checked~div.sk-toggleable__content {max-height: 200px;max-width: 100%;overflow: auto;}#sk-container-id-3 input.sk-toggleable__control:checked~label.sk-toggleable__label-arrow:before {content: \"▾\";}#sk-container-id-3 div.sk-estimator input.sk-toggleable__control:checked~label.sk-toggleable__label {background-color: #d4ebff;}#sk-container-id-3 div.sk-label input.sk-toggleable__control:checked~label.sk-toggleable__label {background-color: #d4ebff;}#sk-container-id-3 input.sk-hidden--visually {border: 0;clip: rect(1px 1px 1px 1px);clip: rect(1px, 1px, 1px, 1px);height: 1px;margin: -1px;overflow: hidden;padding: 0;position: absolute;width: 1px;}#sk-container-id-3 div.sk-estimator {font-family: monospace;background-color: #f0f8ff;border: 1px dotted black;border-radius: 0.25em;box-sizing: border-box;margin-bottom: 0.5em;}#sk-container-id-3 div.sk-estimator:hover {background-color: #d4ebff;}#sk-container-id-3 div.sk-parallel-item::after {content: \"\";width: 100%;border-bottom: 1px solid gray;flex-grow: 1;}#sk-container-id-3 div.sk-label:hover label.sk-toggleable__label {background-color: #d4ebff;}#sk-container-id-3 div.sk-serial::before {content: \"\";position: absolute;border-left: 1px solid gray;box-sizing: border-box;top: 0;bottom: 0;left: 50%;z-index: 0;}#sk-container-id-3 div.sk-serial {display: flex;flex-direction: column;align-items: center;background-color: white;padding-right: 0.2em;padding-left: 0.2em;position: relative;}#sk-container-id-3 div.sk-item {position: relative;z-index: 1;}#sk-container-id-3 div.sk-parallel {display: flex;align-items: stretch;justify-content: center;background-color: white;position: relative;}#sk-container-id-3 div.sk-item::before, #sk-container-id-3 div.sk-parallel-item::before {content: \"\";position: absolute;border-left: 1px solid gray;box-sizing: border-box;top: 0;bottom: 0;left: 50%;z-index: -1;}#sk-container-id-3 div.sk-parallel-item {display: flex;flex-direction: column;z-index: 1;position: relative;background-color: white;}#sk-container-id-3 div.sk-parallel-item:first-child::after {align-self: flex-end;width: 50%;}#sk-container-id-3 div.sk-parallel-item:last-child::after {align-self: flex-start;width: 50%;}#sk-container-id-3 div.sk-parallel-item:only-child::after {width: 0;}#sk-container-id-3 div.sk-dashed-wrapped {border: 1px dashed gray;margin: 0 0.4em 0.5em 0.4em;box-sizing: border-box;padding-bottom: 0.4em;background-color: white;}#sk-container-id-3 div.sk-label label {font-family: monospace;font-weight: bold;display: inline-block;line-height: 1.2em;}#sk-container-id-3 div.sk-label-container {text-align: center;}#sk-container-id-3 div.sk-container {/* jupyter's `normalize.less` sets `[hidden] { display: none; }` but bootstrap.min.css set `[hidden] { display: none !important; }` so we also need the `!important` here to be able to override the default hidden behavior on the sphinx rendered scikit-learn.org. See: https://github.com/scikit-learn/scikit-learn/issues/21755 */display: inline-block !important;position: relative;}#sk-container-id-3 div.sk-text-repr-fallback {display: none;}</style><div id=\"sk-container-id-3\" class=\"sk-top-container\"><div class=\"sk-text-repr-fallback\"><pre>LogisticRegression()</pre><b>In a Jupyter environment, please rerun this cell to show the HTML representation or trust the notebook. <br />On GitHub, the HTML representation is unable to render, please try loading this page with nbviewer.org.</b></div><div class=\"sk-container\" hidden><div class=\"sk-item\"><div class=\"sk-estimator sk-toggleable\"><input class=\"sk-toggleable__control sk-hidden--visually\" id=\"sk-estimator-id-3\" type=\"checkbox\" checked><label for=\"sk-estimator-id-3\" class=\"sk-toggleable__label sk-toggleable__label-arrow\">LogisticRegression</label><div class=\"sk-toggleable__content\"><pre>LogisticRegression()</pre></div></div></div></div></div>"
      ],
      "text/plain": [
       "LogisticRegression()"
      ]
     },
     "execution_count": 82,
     "metadata": {},
     "output_type": "execute_result"
    }
   ],
   "source": [
    "logreg1 = logit.fit(X2,y)\n",
    "logreg1"
   ]
  },
  {
   "cell_type": "code",
   "execution_count": 83,
   "id": "f07d6c81-4340-421a-8c57-3d8571c3dfde",
   "metadata": {},
   "outputs": [
    {
     "data": {
      "text/plain": [
       "0.7849829351535836"
      ]
     },
     "execution_count": 83,
     "metadata": {},
     "output_type": "execute_result"
    }
   ],
   "source": [
    "logreg1.score(X2,y)"
   ]
  },
  {
   "cell_type": "code",
   "execution_count": 84,
   "id": "f65c4779-dc5f-4f39-8135-2a926176283a",
   "metadata": {},
   "outputs": [
    {
     "data": {
      "text/plain": [
       "array([-1.59884834])"
      ]
     },
     "execution_count": 84,
     "metadata": {},
     "output_type": "execute_result"
    }
   ],
   "source": [
    "logreg1.intercept_"
   ]
  },
  {
   "cell_type": "code",
   "execution_count": 85,
   "id": "b451c8c4-b962-4dd6-9d97-0a388aad1f39",
   "metadata": {},
   "outputs": [
    {
     "data": {
      "text/plain": [
       "array([[-0.06711264,  0.03019993,  0.00014507]])"
      ]
     },
     "execution_count": 85,
     "metadata": {},
     "output_type": "execute_result"
    }
   ],
   "source": [
    "logreg1.coef_"
   ]
  },
  {
   "cell_type": "code",
   "execution_count": 86,
   "id": "dd7604ed-242d-4e0b-ba99-3c4a6d16d6df",
   "metadata": {},
   "outputs": [
    {
     "data": {
      "text/plain": [
       "array([-0.11677285])"
      ]
     },
     "execution_count": 86,
     "metadata": {},
     "output_type": "execute_result"
    }
   ],
   "source": [
    "logreg.intercept_"
   ]
  },
  {
   "cell_type": "markdown",
   "id": "f73176a8-d112-4f62-9f05-4c7d15bdf15e",
   "metadata": {},
   "source": [
    "### Decision Tree Classifier"
   ]
  },
  {
   "cell_type": "code",
   "execution_count": 87,
   "id": "253be107-6cd7-4213-b497-4ace8437a178",
   "metadata": {},
   "outputs": [],
   "source": [
    "from sklearn.tree import DecisionTreeClassifier"
   ]
  },
  {
   "cell_type": "code",
   "execution_count": 88,
   "id": "94f59fef-a1e5-4d34-bc26-71da8007ecf0",
   "metadata": {},
   "outputs": [
    {
     "data": {
      "text/html": [
       "<style>#sk-container-id-4 {color: black;background-color: white;}#sk-container-id-4 pre{padding: 0;}#sk-container-id-4 div.sk-toggleable {background-color: white;}#sk-container-id-4 label.sk-toggleable__label {cursor: pointer;display: block;width: 100%;margin-bottom: 0;padding: 0.3em;box-sizing: border-box;text-align: center;}#sk-container-id-4 label.sk-toggleable__label-arrow:before {content: \"▸\";float: left;margin-right: 0.25em;color: #696969;}#sk-container-id-4 label.sk-toggleable__label-arrow:hover:before {color: black;}#sk-container-id-4 div.sk-estimator:hover label.sk-toggleable__label-arrow:before {color: black;}#sk-container-id-4 div.sk-toggleable__content {max-height: 0;max-width: 0;overflow: hidden;text-align: left;background-color: #f0f8ff;}#sk-container-id-4 div.sk-toggleable__content pre {margin: 0.2em;color: black;border-radius: 0.25em;background-color: #f0f8ff;}#sk-container-id-4 input.sk-toggleable__control:checked~div.sk-toggleable__content {max-height: 200px;max-width: 100%;overflow: auto;}#sk-container-id-4 input.sk-toggleable__control:checked~label.sk-toggleable__label-arrow:before {content: \"▾\";}#sk-container-id-4 div.sk-estimator input.sk-toggleable__control:checked~label.sk-toggleable__label {background-color: #d4ebff;}#sk-container-id-4 div.sk-label input.sk-toggleable__control:checked~label.sk-toggleable__label {background-color: #d4ebff;}#sk-container-id-4 input.sk-hidden--visually {border: 0;clip: rect(1px 1px 1px 1px);clip: rect(1px, 1px, 1px, 1px);height: 1px;margin: -1px;overflow: hidden;padding: 0;position: absolute;width: 1px;}#sk-container-id-4 div.sk-estimator {font-family: monospace;background-color: #f0f8ff;border: 1px dotted black;border-radius: 0.25em;box-sizing: border-box;margin-bottom: 0.5em;}#sk-container-id-4 div.sk-estimator:hover {background-color: #d4ebff;}#sk-container-id-4 div.sk-parallel-item::after {content: \"\";width: 100%;border-bottom: 1px solid gray;flex-grow: 1;}#sk-container-id-4 div.sk-label:hover label.sk-toggleable__label {background-color: #d4ebff;}#sk-container-id-4 div.sk-serial::before {content: \"\";position: absolute;border-left: 1px solid gray;box-sizing: border-box;top: 0;bottom: 0;left: 50%;z-index: 0;}#sk-container-id-4 div.sk-serial {display: flex;flex-direction: column;align-items: center;background-color: white;padding-right: 0.2em;padding-left: 0.2em;position: relative;}#sk-container-id-4 div.sk-item {position: relative;z-index: 1;}#sk-container-id-4 div.sk-parallel {display: flex;align-items: stretch;justify-content: center;background-color: white;position: relative;}#sk-container-id-4 div.sk-item::before, #sk-container-id-4 div.sk-parallel-item::before {content: \"\";position: absolute;border-left: 1px solid gray;box-sizing: border-box;top: 0;bottom: 0;left: 50%;z-index: -1;}#sk-container-id-4 div.sk-parallel-item {display: flex;flex-direction: column;z-index: 1;position: relative;background-color: white;}#sk-container-id-4 div.sk-parallel-item:first-child::after {align-self: flex-end;width: 50%;}#sk-container-id-4 div.sk-parallel-item:last-child::after {align-self: flex-start;width: 50%;}#sk-container-id-4 div.sk-parallel-item:only-child::after {width: 0;}#sk-container-id-4 div.sk-dashed-wrapped {border: 1px dashed gray;margin: 0 0.4em 0.5em 0.4em;box-sizing: border-box;padding-bottom: 0.4em;background-color: white;}#sk-container-id-4 div.sk-label label {font-family: monospace;font-weight: bold;display: inline-block;line-height: 1.2em;}#sk-container-id-4 div.sk-label-container {text-align: center;}#sk-container-id-4 div.sk-container {/* jupyter's `normalize.less` sets `[hidden] { display: none; }` but bootstrap.min.css set `[hidden] { display: none !important; }` so we also need the `!important` here to be able to override the default hidden behavior on the sphinx rendered scikit-learn.org. See: https://github.com/scikit-learn/scikit-learn/issues/21755 */display: inline-block !important;position: relative;}#sk-container-id-4 div.sk-text-repr-fallback {display: none;}</style><div id=\"sk-container-id-4\" class=\"sk-top-container\"><div class=\"sk-text-repr-fallback\"><pre>DecisionTreeClassifier(max_depth=8)</pre><b>In a Jupyter environment, please rerun this cell to show the HTML representation or trust the notebook. <br />On GitHub, the HTML representation is unable to render, please try loading this page with nbviewer.org.</b></div><div class=\"sk-container\" hidden><div class=\"sk-item\"><div class=\"sk-estimator sk-toggleable\"><input class=\"sk-toggleable__control sk-hidden--visually\" id=\"sk-estimator-id-4\" type=\"checkbox\" checked><label for=\"sk-estimator-id-4\" class=\"sk-toggleable__label sk-toggleable__label-arrow\">DecisionTreeClassifier</label><div class=\"sk-toggleable__content\"><pre>DecisionTreeClassifier(max_depth=8)</pre></div></div></div></div></div>"
      ],
      "text/plain": [
       "DecisionTreeClassifier(max_depth=8)"
      ]
     },
     "execution_count": 88,
     "metadata": {},
     "output_type": "execute_result"
    }
   ],
   "source": [
    "dtc = DecisionTreeClassifier(max_depth=8)\n",
    "dtc"
   ]
  },
  {
   "cell_type": "code",
   "execution_count": 89,
   "id": "83dc6b31-adcd-41e1-9d48-18e0fbac3fc5",
   "metadata": {},
   "outputs": [
    {
     "data": {
      "text/html": [
       "<style>#sk-container-id-5 {color: black;background-color: white;}#sk-container-id-5 pre{padding: 0;}#sk-container-id-5 div.sk-toggleable {background-color: white;}#sk-container-id-5 label.sk-toggleable__label {cursor: pointer;display: block;width: 100%;margin-bottom: 0;padding: 0.3em;box-sizing: border-box;text-align: center;}#sk-container-id-5 label.sk-toggleable__label-arrow:before {content: \"▸\";float: left;margin-right: 0.25em;color: #696969;}#sk-container-id-5 label.sk-toggleable__label-arrow:hover:before {color: black;}#sk-container-id-5 div.sk-estimator:hover label.sk-toggleable__label-arrow:before {color: black;}#sk-container-id-5 div.sk-toggleable__content {max-height: 0;max-width: 0;overflow: hidden;text-align: left;background-color: #f0f8ff;}#sk-container-id-5 div.sk-toggleable__content pre {margin: 0.2em;color: black;border-radius: 0.25em;background-color: #f0f8ff;}#sk-container-id-5 input.sk-toggleable__control:checked~div.sk-toggleable__content {max-height: 200px;max-width: 100%;overflow: auto;}#sk-container-id-5 input.sk-toggleable__control:checked~label.sk-toggleable__label-arrow:before {content: \"▾\";}#sk-container-id-5 div.sk-estimator input.sk-toggleable__control:checked~label.sk-toggleable__label {background-color: #d4ebff;}#sk-container-id-5 div.sk-label input.sk-toggleable__control:checked~label.sk-toggleable__label {background-color: #d4ebff;}#sk-container-id-5 input.sk-hidden--visually {border: 0;clip: rect(1px 1px 1px 1px);clip: rect(1px, 1px, 1px, 1px);height: 1px;margin: -1px;overflow: hidden;padding: 0;position: absolute;width: 1px;}#sk-container-id-5 div.sk-estimator {font-family: monospace;background-color: #f0f8ff;border: 1px dotted black;border-radius: 0.25em;box-sizing: border-box;margin-bottom: 0.5em;}#sk-container-id-5 div.sk-estimator:hover {background-color: #d4ebff;}#sk-container-id-5 div.sk-parallel-item::after {content: \"\";width: 100%;border-bottom: 1px solid gray;flex-grow: 1;}#sk-container-id-5 div.sk-label:hover label.sk-toggleable__label {background-color: #d4ebff;}#sk-container-id-5 div.sk-serial::before {content: \"\";position: absolute;border-left: 1px solid gray;box-sizing: border-box;top: 0;bottom: 0;left: 50%;z-index: 0;}#sk-container-id-5 div.sk-serial {display: flex;flex-direction: column;align-items: center;background-color: white;padding-right: 0.2em;padding-left: 0.2em;position: relative;}#sk-container-id-5 div.sk-item {position: relative;z-index: 1;}#sk-container-id-5 div.sk-parallel {display: flex;align-items: stretch;justify-content: center;background-color: white;position: relative;}#sk-container-id-5 div.sk-item::before, #sk-container-id-5 div.sk-parallel-item::before {content: \"\";position: absolute;border-left: 1px solid gray;box-sizing: border-box;top: 0;bottom: 0;left: 50%;z-index: -1;}#sk-container-id-5 div.sk-parallel-item {display: flex;flex-direction: column;z-index: 1;position: relative;background-color: white;}#sk-container-id-5 div.sk-parallel-item:first-child::after {align-self: flex-end;width: 50%;}#sk-container-id-5 div.sk-parallel-item:last-child::after {align-self: flex-start;width: 50%;}#sk-container-id-5 div.sk-parallel-item:only-child::after {width: 0;}#sk-container-id-5 div.sk-dashed-wrapped {border: 1px dashed gray;margin: 0 0.4em 0.5em 0.4em;box-sizing: border-box;padding-bottom: 0.4em;background-color: white;}#sk-container-id-5 div.sk-label label {font-family: monospace;font-weight: bold;display: inline-block;line-height: 1.2em;}#sk-container-id-5 div.sk-label-container {text-align: center;}#sk-container-id-5 div.sk-container {/* jupyter's `normalize.less` sets `[hidden] { display: none; }` but bootstrap.min.css set `[hidden] { display: none !important; }` so we also need the `!important` here to be able to override the default hidden behavior on the sphinx rendered scikit-learn.org. See: https://github.com/scikit-learn/scikit-learn/issues/21755 */display: inline-block !important;position: relative;}#sk-container-id-5 div.sk-text-repr-fallback {display: none;}</style><div id=\"sk-container-id-5\" class=\"sk-top-container\"><div class=\"sk-text-repr-fallback\"><pre>DecisionTreeClassifier(max_depth=8)</pre><b>In a Jupyter environment, please rerun this cell to show the HTML representation or trust the notebook. <br />On GitHub, the HTML representation is unable to render, please try loading this page with nbviewer.org.</b></div><div class=\"sk-container\" hidden><div class=\"sk-item\"><div class=\"sk-estimator sk-toggleable\"><input class=\"sk-toggleable__control sk-hidden--visually\" id=\"sk-estimator-id-5\" type=\"checkbox\" checked><label for=\"sk-estimator-id-5\" class=\"sk-toggleable__label sk-toggleable__label-arrow\">DecisionTreeClassifier</label><div class=\"sk-toggleable__content\"><pre>DecisionTreeClassifier(max_depth=8)</pre></div></div></div></div></div>"
      ],
      "text/plain": [
       "DecisionTreeClassifier(max_depth=8)"
      ]
     },
     "execution_count": 89,
     "metadata": {},
     "output_type": "execute_result"
    }
   ],
   "source": [
    "dtm_model = dtc.fit(X,y)\n",
    "dtm_model"
   ]
  },
  {
   "cell_type": "code",
   "execution_count": 90,
   "id": "6cc0c1bf-2505-4364-964a-b82511744099",
   "metadata": {},
   "outputs": [
    {
     "data": {
      "text/plain": [
       "0.8343287827076223"
      ]
     },
     "execution_count": 90,
     "metadata": {},
     "output_type": "execute_result"
    }
   ],
   "source": [
    "dtm_model.score(X,y)"
   ]
  },
  {
   "cell_type": "code",
   "execution_count": 91,
   "id": "24c9163a-8d2e-4363-a2ef-4241cf48ac80",
   "metadata": {},
   "outputs": [],
   "source": [
    "from sklearn.model_selection import cross_val_score"
   ]
  },
  {
   "cell_type": "code",
   "execution_count": 92,
   "id": "e524b0d5-45ce-4fcb-a321-a4ae7324256d",
   "metadata": {},
   "outputs": [
    {
     "data": {
      "text/plain": [
       "array([0.78322672, 0.78109453, 0.76031294, 0.76458037, 0.78307255])"
      ]
     },
     "execution_count": 92,
     "metadata": {},
     "output_type": "execute_result"
    }
   ],
   "source": [
    "cross_val_score(dtc, X, y)"
   ]
  },
  {
   "cell_type": "code",
   "execution_count": 93,
   "id": "6e3f883e-d574-4396-803c-d1f66e849ffb",
   "metadata": {},
   "outputs": [
    {
     "data": {
      "text/plain": [
       "0.77488457"
      ]
     },
     "execution_count": 93,
     "metadata": {},
     "output_type": "execute_result"
    }
   ],
   "source": [
    "np.mean([0.7803838 , 0.78109453, 0.76173542, 0.76600284, 0.78520626])"
   ]
  },
  {
   "cell_type": "code",
   "execution_count": 94,
   "id": "9ac0766e-b422-4784-8001-367564400c67",
   "metadata": {},
   "outputs": [
    {
     "data": {
      "text/plain": [
       "array([1, 0, 0, ..., 0, 1, 0])"
      ]
     },
     "execution_count": 94,
     "metadata": {},
     "output_type": "execute_result"
    }
   ],
   "source": [
    "dtm_pred = dtm_model.predict(X)\n",
    "dtm_pred"
   ]
  },
  {
   "cell_type": "code",
   "execution_count": 95,
   "id": "b126a1ac-1ef1-426d-8598-0e0c187a997c",
   "metadata": {},
   "outputs": [
    {
     "data": {
      "text/html": [
       "<div>\n",
       "<style scoped>\n",
       "    .dataframe tbody tr th:only-of-type {\n",
       "        vertical-align: middle;\n",
       "    }\n",
       "\n",
       "    .dataframe tbody tr th {\n",
       "        vertical-align: top;\n",
       "    }\n",
       "\n",
       "    .dataframe thead th {\n",
       "        text-align: right;\n",
       "    }\n",
       "</style>\n",
       "<table border=\"1\" class=\"dataframe\">\n",
       "  <thead>\n",
       "    <tr style=\"text-align: right;\">\n",
       "      <th>col_0</th>\n",
       "      <th>0</th>\n",
       "      <th>1</th>\n",
       "    </tr>\n",
       "    <tr>\n",
       "      <th>row_0</th>\n",
       "      <th></th>\n",
       "      <th></th>\n",
       "    </tr>\n",
       "  </thead>\n",
       "  <tbody>\n",
       "    <tr>\n",
       "      <th>0</th>\n",
       "      <td>4689</td>\n",
       "      <td>474</td>\n",
       "    </tr>\n",
       "    <tr>\n",
       "      <th>1</th>\n",
       "      <td>691</td>\n",
       "      <td>1178</td>\n",
       "    </tr>\n",
       "  </tbody>\n",
       "</table>\n",
       "</div>"
      ],
      "text/plain": [
       "col_0     0     1\n",
       "row_0            \n",
       "0      4689   474\n",
       "1       691  1178"
      ]
     },
     "execution_count": 95,
     "metadata": {},
     "output_type": "execute_result"
    }
   ],
   "source": [
    "pd.crosstab(y, dtm_pred)  ## confusion matrix"
   ]
  },
  {
   "cell_type": "code",
   "execution_count": 96,
   "id": "9f15a2e6-d2c0-471f-84b9-252593abccf5",
   "metadata": {},
   "outputs": [
    {
     "data": {
      "text/plain": [
       "0.8343287827076223"
      ]
     },
     "execution_count": 96,
     "metadata": {},
     "output_type": "execute_result"
    }
   ],
   "source": [
    "(4689+1178)/(4689+474+691+1178)"
   ]
  },
  {
   "cell_type": "code",
   "execution_count": 97,
   "id": "98ca0324-2b7d-4c16-9b2d-59f3cedf936b",
   "metadata": {},
   "outputs": [
    {
     "name": "stdout",
     "output_type": "stream",
     "text": [
      "              precision    recall  f1-score   support\n",
      "\n",
      "           0       0.87      0.91      0.89      5163\n",
      "           1       0.71      0.63      0.67      1869\n",
      "\n",
      "    accuracy                           0.83      7032\n",
      "   macro avg       0.79      0.77      0.78      7032\n",
      "weighted avg       0.83      0.83      0.83      7032\n",
      "\n"
     ]
    }
   ],
   "source": [
    "print(classification_report(y,dtm_pred))"
   ]
  },
  {
   "cell_type": "code",
   "execution_count": 98,
   "id": "05ae347f-5728-4dbd-b75d-4e68c5eadde9",
   "metadata": {},
   "outputs": [
    {
     "data": {
      "text/plain": [
       "<sklearn.metrics._plot.roc_curve.RocCurveDisplay at 0x1cda0db1410>"
      ]
     },
     "execution_count": 98,
     "metadata": {},
     "output_type": "execute_result"
    },
    {
     "data": {
      "image/png": "[encoded data removed]",
      "text/plain": [
       "<Figure size 640x480 with 1 Axes>"
      ]
     },
     "metadata": {},
     "output_type": "display_data"
    }
   ],
   "source": [
    "RocCurveDisplay.from_predictions(y,dtm_pred)  ## AUC -- 0.77"
   ]
  },
  {
   "cell_type": "code",
   "execution_count": 99,
   "id": "11b0fb78-717c-46f3-9099-e11c9e9263cc",
   "metadata": {},
   "outputs": [],
   "source": [
    "from sklearn.tree import plot_tree, export_text"
   ]
  },
  {
   "cell_type": "code",
   "execution_count": 100,
   "id": "06df6097-533b-477a-a960-4f054ffa2ca8",
   "metadata": {},
   "outputs": [
    {
     "name": "stdout",
     "output_type": "stream",
     "text": [
      "|--- Contract_Month-to-month <= 0.50\n",
      "|   |--- MonthlyCharges <= 93.67\n",
      "|   |   |--- Contract_Two year <= 0.50\n",
      "|   |   |   |--- StreamingMovies_Yes <= 0.50\n",
      "|   |   |   |   |--- PaymentMethod_Electronic check <= 0.50\n",
      "|   |   |   |   |   |--- TotalCharges <= 37.08\n",
      "|   |   |   |   |   |   |--- TotalCharges <= 35.35\n",
      "|   |   |   |   |   |   |   |--- PaymentMethod_Mailed check <= 0.50\n",
      "|   |   |   |   |   |   |   |   |--- class: 0\n",
      "|   |   |   |   |   |   |   |--- PaymentMethod_Mailed check >  0.50\n",
      "|   |   |   |   |   |   |   |   |--- class: 0\n",
      "|   |   |   |   |   |   |--- TotalCharges >  35.35\n",
      "|   |   |   |   |   |   |   |--- class: 1\n",
      "|   |   |   |   |   |--- TotalCharges >  37.08\n",
      "|   |   |   |   |   |   |--- OnlineSecurity_No <= 0.50\n",
      "|   |   |   |   |   |   |   |--- MonthlyCharges <= 60.27\n",
      "|   |   |   |   |   |   |   |   |--- class: 0\n",
      "|   |   |   |   |   |   |   |--- MonthlyCharges >  60.27\n",
      "|   |   |   |   |   |   |   |   |--- class: 0\n",
      "|   |   |   |   |   |   |--- OnlineSecurity_No >  0.50\n",
      "|   |   |   |   |   |   |   |--- MonthlyCharges <= 24.23\n",
      "|   |   |   |   |   |   |   |   |--- class: 1\n",
      "|   |   |   |   |   |   |   |--- MonthlyCharges >  24.23\n",
      "|   |   |   |   |   |   |   |   |--- class: 0\n",
      "|   |   |   |   |--- PaymentMethod_Electronic check >  0.50\n",
      "|   |   |   |   |   |--- TotalCharges <= 5353.68\n",
      "|   |   |   |   |   |   |--- PhoneService_Yes <= 0.50\n",
      "|   |   |   |   |   |   |   |--- tenure <= 22.00\n",
      "|   |   |   |   |   |   |   |   |--- class: 1\n",
      "|   |   |   |   |   |   |   |--- tenure >  22.00\n",
      "|   |   |   |   |   |   |   |   |--- class: 0\n",
      "|   |   |   |   |   |   |--- PhoneService_Yes >  0.50\n",
      "|   |   |   |   |   |   |   |--- OnlineBackup_No <= 0.50\n",
      "|   |   |   |   |   |   |   |   |--- class: 0\n",
      "|   |   |   |   |   |   |   |--- OnlineBackup_No >  0.50\n",
      "|   |   |   |   |   |   |   |   |--- class: 0\n",
      "|   |   |   |   |   |--- TotalCharges >  5353.68\n",
      "|   |   |   |   |   |   |--- TechSupport_No <= 0.50\n",
      "|   |   |   |   |   |   |   |--- class: 0\n",
      "|   |   |   |   |   |   |--- TechSupport_No >  0.50\n",
      "|   |   |   |   |   |   |   |--- PaperlessBilling_No <= 0.50\n",
      "|   |   |   |   |   |   |   |   |--- class: 0\n",
      "|   |   |   |   |   |   |   |--- PaperlessBilling_No >  0.50\n",
      "|   |   |   |   |   |   |   |   |--- class: 1\n",
      "|   |   |   |--- StreamingMovies_Yes >  0.50\n",
      "|   |   |   |   |--- TotalCharges <= 1166.33\n",
      "|   |   |   |   |   |--- tenure <= 18.00\n",
      "|   |   |   |   |   |   |--- TotalCharges <= 970.10\n",
      "|   |   |   |   |   |   |   |--- PaymentMethod_Electronic check <= 0.50\n",
      "|   |   |   |   |   |   |   |   |--- class: 0\n",
      "|   |   |   |   |   |   |   |--- PaymentMethod_Electronic check >  0.50\n",
      "|   |   |   |   |   |   |   |   |--- class: 0\n",
      "|   |   |   |   |   |   |--- TotalCharges >  970.10\n",
      "|   |   |   |   |   |   |   |--- class: 1\n",
      "|   |   |   |   |   |--- tenure >  18.00\n",
      "|   |   |   |   |   |   |--- tenure <= 21.50\n",
      "|   |   |   |   |   |   |   |--- class: 1\n",
      "|   |   |   |   |   |   |--- tenure >  21.50\n",
      "|   |   |   |   |   |   |   |--- Dependents_Yes <= 0.50\n",
      "|   |   |   |   |   |   |   |   |--- class: 1\n",
      "|   |   |   |   |   |   |   |--- Dependents_Yes >  0.50\n",
      "|   |   |   |   |   |   |   |   |--- class: 0\n",
      "|   |   |   |   |--- TotalCharges >  1166.33\n",
      "|   |   |   |   |   |--- TotalCharges <= 2351.62\n",
      "|   |   |   |   |   |   |--- MonthlyCharges <= 81.85\n",
      "|   |   |   |   |   |   |   |--- tenure <= 22.50\n",
      "|   |   |   |   |   |   |   |   |--- class: 0\n",
      "|   |   |   |   |   |   |   |--- tenure >  22.50\n",
      "|   |   |   |   |   |   |   |   |--- class: 0\n",
      "|   |   |   |   |   |   |--- MonthlyCharges >  81.85\n",
      "|   |   |   |   |   |   |   |--- PaymentMethod_Electronic check <= 0.50\n",
      "|   |   |   |   |   |   |   |   |--- class: 0\n",
      "|   |   |   |   |   |   |   |--- PaymentMethod_Electronic check >  0.50\n",
      "|   |   |   |   |   |   |   |   |--- class: 1\n",
      "|   |   |   |   |   |--- TotalCharges >  2351.62\n",
      "|   |   |   |   |   |   |--- TotalCharges <= 2414.75\n",
      "|   |   |   |   |   |   |   |--- tenure <= 49.00\n",
      "|   |   |   |   |   |   |   |   |--- class: 1\n",
      "|   |   |   |   |   |   |   |--- tenure >  49.00\n",
      "|   |   |   |   |   |   |   |   |--- class: 0\n",
      "|   |   |   |   |   |   |--- TotalCharges >  2414.75\n",
      "|   |   |   |   |   |   |   |--- TotalCharges <= 3185.95\n",
      "|   |   |   |   |   |   |   |   |--- class: 0\n",
      "|   |   |   |   |   |   |   |--- TotalCharges >  3185.95\n",
      "|   |   |   |   |   |   |   |   |--- class: 0\n",
      "|   |   |--- Contract_Two year >  0.50\n",
      "|   |   |   |--- PaymentMethod_Electronic check <= 0.50\n",
      "|   |   |   |   |--- SeniorCitizen_0 <= 0.50\n",
      "|   |   |   |   |   |--- Dependents_Yes <= 0.50\n",
      "|   |   |   |   |   |   |--- tenure <= 66.50\n",
      "|   |   |   |   |   |   |   |--- tenure <= 65.50\n",
      "|   |   |   |   |   |   |   |   |--- class: 0\n",
      "|   |   |   |   |   |   |   |--- tenure >  65.50\n",
      "|   |   |   |   |   |   |   |   |--- class: 1\n",
      "|   |   |   |   |   |   |--- tenure >  66.50\n",
      "|   |   |   |   |   |   |   |--- class: 0\n",
      "|   |   |   |   |   |--- Dependents_Yes >  0.50\n",
      "|   |   |   |   |   |   |--- PaperlessBilling_No <= 0.50\n",
      "|   |   |   |   |   |   |   |--- class: 0\n",
      "|   |   |   |   |   |   |--- PaperlessBilling_No >  0.50\n",
      "|   |   |   |   |   |   |   |--- DeviceProtection_Yes <= 0.50\n",
      "|   |   |   |   |   |   |   |   |--- class: 0\n",
      "|   |   |   |   |   |   |   |--- DeviceProtection_Yes >  0.50\n",
      "|   |   |   |   |   |   |   |   |--- class: 1\n",
      "|   |   |   |   |--- SeniorCitizen_0 >  0.50\n",
      "|   |   |   |   |   |--- tenure <= 59.50\n",
      "|   |   |   |   |   |   |--- tenure <= 52.50\n",
      "|   |   |   |   |   |   |   |--- MonthlyCharges <= 24.48\n",
      "|   |   |   |   |   |   |   |   |--- class: 0\n",
      "|   |   |   |   |   |   |   |--- MonthlyCharges >  24.48\n",
      "|   |   |   |   |   |   |   |   |--- class: 0\n",
      "|   |   |   |   |   |   |--- tenure >  52.50\n",
      "|   |   |   |   |   |   |   |--- gender_Male <= 0.50\n",
      "|   |   |   |   |   |   |   |   |--- class: 0\n",
      "|   |   |   |   |   |   |   |--- gender_Male >  0.50\n",
      "|   |   |   |   |   |   |   |   |--- class: 0\n",
      "|   |   |   |   |   |--- tenure >  59.50\n",
      "|   |   |   |   |   |   |--- OnlineBackup_No <= 0.50\n",
      "|   |   |   |   |   |   |   |--- class: 0\n",
      "|   |   |   |   |   |   |--- OnlineBackup_No >  0.50\n",
      "|   |   |   |   |   |   |   |--- TotalCharges <= 4839.43\n",
      "|   |   |   |   |   |   |   |   |--- class: 0\n",
      "|   |   |   |   |   |   |   |--- TotalCharges >  4839.43\n",
      "|   |   |   |   |   |   |   |   |--- class: 0\n",
      "|   |   |   |--- PaymentMethod_Electronic check >  0.50\n",
      "|   |   |   |   |--- PhoneService_Yes <= 0.50\n",
      "|   |   |   |   |   |--- Dependents_No <= 0.50\n",
      "|   |   |   |   |   |   |--- class: 0\n",
      "|   |   |   |   |   |--- Dependents_No >  0.50\n",
      "|   |   |   |   |   |   |--- MonthlyCharges <= 47.45\n",
      "|   |   |   |   |   |   |   |--- class: 0\n",
      "|   |   |   |   |   |   |--- MonthlyCharges >  47.45\n",
      "|   |   |   |   |   |   |   |--- OnlineSecurity_Yes <= 0.50\n",
      "|   |   |   |   |   |   |   |   |--- class: 1\n",
      "|   |   |   |   |   |   |   |--- OnlineSecurity_Yes >  0.50\n",
      "|   |   |   |   |   |   |   |   |--- class: 0\n",
      "|   |   |   |   |--- PhoneService_Yes >  0.50\n",
      "|   |   |   |   |   |--- OnlineBackup_No <= 0.50\n",
      "|   |   |   |   |   |   |--- class: 0\n",
      "|   |   |   |   |   |--- OnlineBackup_No >  0.50\n",
      "|   |   |   |   |   |   |--- MonthlyCharges <= 80.52\n",
      "|   |   |   |   |   |   |   |--- MonthlyCharges <= 79.25\n",
      "|   |   |   |   |   |   |   |   |--- class: 0\n",
      "|   |   |   |   |   |   |   |--- MonthlyCharges >  79.25\n",
      "|   |   |   |   |   |   |   |   |--- class: 1\n",
      "|   |   |   |   |   |   |--- MonthlyCharges >  80.52\n",
      "|   |   |   |   |   |   |   |--- class: 0\n",
      "|   |--- MonthlyCharges >  93.67\n",
      "|   |   |--- Contract_Two year <= 0.50\n",
      "|   |   |   |--- StreamingMovies_No <= 0.50\n",
      "|   |   |   |   |--- TotalCharges <= 8072.88\n",
      "|   |   |   |   |   |--- tenure <= 70.50\n",
      "|   |   |   |   |   |   |--- tenure <= 19.50\n",
      "|   |   |   |   |   |   |   |--- TechSupport_Yes <= 0.50\n",
      "|   |   |   |   |   |   |   |   |--- class: 0\n",
      "|   |   |   |   |   |   |   |--- TechSupport_Yes >  0.50\n",
      "|   |   |   |   |   |   |   |   |--- class: 1\n",
      "|   |   |   |   |   |   |--- tenure >  19.50\n",
      "|   |   |   |   |   |   |   |--- MonthlyCharges <= 101.45\n",
      "|   |   |   |   |   |   |   |   |--- class: 0\n",
      "|   |   |   |   |   |   |   |--- MonthlyCharges >  101.45\n",
      "|   |   |   |   |   |   |   |   |--- class: 0\n",
      "|   |   |   |   |   |--- tenure >  70.50\n",
      "|   |   |   |   |   |   |--- class: 0\n",
      "|   |   |   |   |--- TotalCharges >  8072.88\n",
      "|   |   |   |   |   |--- Partner_Yes <= 0.50\n",
      "|   |   |   |   |   |   |--- PaperlessBilling_No <= 0.50\n",
      "|   |   |   |   |   |   |   |--- class: 0\n",
      "|   |   |   |   |   |   |--- PaperlessBilling_No >  0.50\n",
      "|   |   |   |   |   |   |   |--- class: 1\n",
      "|   |   |   |   |   |--- Partner_Yes >  0.50\n",
      "|   |   |   |   |   |   |--- class: 1\n",
      "|   |   |   |--- StreamingMovies_No >  0.50\n",
      "|   |   |   |   |--- PaymentMethod_Electronic check <= 0.50\n",
      "|   |   |   |   |   |--- class: 0\n",
      "|   |   |   |   |--- PaymentMethod_Electronic check >  0.50\n",
      "|   |   |   |   |   |--- Partner_No <= 0.50\n",
      "|   |   |   |   |   |   |--- class: 0\n",
      "|   |   |   |   |   |--- Partner_No >  0.50\n",
      "|   |   |   |   |   |   |--- OnlineSecurity_Yes <= 0.50\n",
      "|   |   |   |   |   |   |   |--- class: 0\n",
      "|   |   |   |   |   |   |--- OnlineSecurity_Yes >  0.50\n",
      "|   |   |   |   |   |   |   |--- class: 1\n",
      "|   |   |--- Contract_Two year >  0.50\n",
      "|   |   |   |--- MonthlyCharges <= 94.17\n",
      "|   |   |   |   |--- tenure <= 68.50\n",
      "|   |   |   |   |   |--- PaperlessBilling_Yes <= 0.50\n",
      "|   |   |   |   |   |   |--- class: 0\n",
      "|   |   |   |   |   |--- PaperlessBilling_Yes >  0.50\n",
      "|   |   |   |   |   |   |--- class: 1\n",
      "|   |   |   |   |--- tenure >  68.50\n",
      "|   |   |   |   |   |--- class: 1\n",
      "|   |   |   |--- MonthlyCharges >  94.17\n",
      "|   |   |   |   |--- TotalCharges <= 7862.52\n",
      "|   |   |   |   |   |--- TotalCharges <= 7855.45\n",
      "|   |   |   |   |   |   |--- MonthlyCharges <= 116.17\n",
      "|   |   |   |   |   |   |   |--- MonthlyCharges <= 105.92\n",
      "|   |   |   |   |   |   |   |   |--- class: 0\n",
      "|   |   |   |   |   |   |   |--- MonthlyCharges >  105.92\n",
      "|   |   |   |   |   |   |   |   |--- class: 0\n",
      "|   |   |   |   |   |   |--- MonthlyCharges >  116.17\n",
      "|   |   |   |   |   |   |   |--- class: 1\n",
      "|   |   |   |   |   |--- TotalCharges >  7855.45\n",
      "|   |   |   |   |   |   |--- class: 1\n",
      "|   |   |   |   |--- TotalCharges >  7862.52\n",
      "|   |   |   |   |   |--- class: 0\n",
      "|--- Contract_Month-to-month >  0.50\n",
      "|   |--- InternetService_Fiber optic <= 0.50\n",
      "|   |   |--- tenure <= 5.50\n",
      "|   |   |   |--- TechSupport_No <= 0.50\n",
      "|   |   |   |   |--- tenure <= 1.50\n",
      "|   |   |   |   |   |--- SeniorCitizen_0 <= 0.50\n",
      "|   |   |   |   |   |   |--- class: 1\n",
      "|   |   |   |   |   |--- SeniorCitizen_0 >  0.50\n",
      "|   |   |   |   |   |   |--- PaperlessBilling_No <= 0.50\n",
      "|   |   |   |   |   |   |   |--- MonthlyCharges <= 19.80\n",
      "|   |   |   |   |   |   |   |   |--- class: 0\n",
      "|   |   |   |   |   |   |   |--- MonthlyCharges >  19.80\n",
      "|   |   |   |   |   |   |   |   |--- class: 1\n",
      "|   |   |   |   |   |   |--- PaperlessBilling_No >  0.50\n",
      "|   |   |   |   |   |   |   |--- MonthlyCharges <= 57.57\n",
      "|   |   |   |   |   |   |   |   |--- class: 0\n",
      "|   |   |   |   |   |   |   |--- MonthlyCharges >  57.57\n",
      "|   |   |   |   |   |   |   |   |--- class: 1\n",
      "|   |   |   |   |--- tenure >  1.50\n",
      "|   |   |   |   |   |--- MonthlyCharges <= 25.68\n",
      "|   |   |   |   |   |   |--- MonthlyCharges <= 19.88\n",
      "|   |   |   |   |   |   |   |--- TotalCharges <= 100.75\n",
      "|   |   |   |   |   |   |   |   |--- class: 0\n",
      "|   |   |   |   |   |   |   |--- TotalCharges >  100.75\n",
      "|   |   |   |   |   |   |   |   |--- class: 1\n",
      "|   |   |   |   |   |   |--- MonthlyCharges >  19.88\n",
      "|   |   |   |   |   |   |   |--- MonthlyCharges <= 20.32\n",
      "|   |   |   |   |   |   |   |   |--- class: 0\n",
      "|   |   |   |   |   |   |   |--- MonthlyCharges >  20.32\n",
      "|   |   |   |   |   |   |   |   |--- class: 0\n",
      "|   |   |   |   |   |--- MonthlyCharges >  25.68\n",
      "|   |   |   |   |   |   |--- gender_Male <= 0.50\n",
      "|   |   |   |   |   |   |   |--- TotalCharges <= 162.18\n",
      "|   |   |   |   |   |   |   |   |--- class: 1\n",
      "|   |   |   |   |   |   |   |--- TotalCharges >  162.18\n",
      "|   |   |   |   |   |   |   |   |--- class: 0\n",
      "|   |   |   |   |   |   |--- gender_Male >  0.50\n",
      "|   |   |   |   |   |   |   |--- TotalCharges <= 79.65\n",
      "|   |   |   |   |   |   |   |   |--- class: 1\n",
      "|   |   |   |   |   |   |   |--- TotalCharges >  79.65\n",
      "|   |   |   |   |   |   |   |   |--- class: 0\n",
      "|   |   |   |--- TechSupport_No >  0.50\n",
      "|   |   |   |   |--- SeniorCitizen_1 <= 0.50\n",
      "|   |   |   |   |   |--- OnlineSecurity_Yes <= 0.50\n",
      "|   |   |   |   |   |   |--- PaperlessBilling_Yes <= 0.50\n",
      "|   |   |   |   |   |   |   |--- MonthlyCharges <= 24.55\n",
      "|   |   |   |   |   |   |   |   |--- class: 0\n",
      "|   |   |   |   |   |   |   |--- MonthlyCharges >  24.55\n",
      "|   |   |   |   |   |   |   |   |--- class: 0\n",
      "|   |   |   |   |   |   |--- PaperlessBilling_Yes >  0.50\n",
      "|   |   |   |   |   |   |   |--- PhoneService_Yes <= 0.50\n",
      "|   |   |   |   |   |   |   |   |--- class: 1\n",
      "|   |   |   |   |   |   |   |--- PhoneService_Yes >  0.50\n",
      "|   |   |   |   |   |   |   |   |--- class: 1\n",
      "|   |   |   |   |   |--- OnlineSecurity_Yes >  0.50\n",
      "|   |   |   |   |   |   |--- MonthlyCharges <= 49.48\n",
      "|   |   |   |   |   |   |   |--- OnlineBackup_No <= 0.50\n",
      "|   |   |   |   |   |   |   |   |--- class: 1\n",
      "|   |   |   |   |   |   |   |--- OnlineBackup_No >  0.50\n",
      "|   |   |   |   |   |   |   |   |--- class: 0\n",
      "|   |   |   |   |   |   |--- MonthlyCharges >  49.48\n",
      "|   |   |   |   |   |   |   |--- MonthlyCharges <= 53.82\n",
      "|   |   |   |   |   |   |   |   |--- class: 0\n",
      "|   |   |   |   |   |   |   |--- MonthlyCharges >  53.82\n",
      "|   |   |   |   |   |   |   |   |--- class: 0\n",
      "|   |   |   |   |--- SeniorCitizen_1 >  0.50\n",
      "|   |   |   |   |   |--- MonthlyCharges <= 29.18\n",
      "|   |   |   |   |   |   |--- class: 1\n",
      "|   |   |   |   |   |--- MonthlyCharges >  29.18\n",
      "|   |   |   |   |   |   |--- OnlineSecurity_Yes <= 0.50\n",
      "|   |   |   |   |   |   |   |--- MonthlyCharges <= 50.75\n",
      "|   |   |   |   |   |   |   |   |--- class: 1\n",
      "|   |   |   |   |   |   |   |--- MonthlyCharges >  50.75\n",
      "|   |   |   |   |   |   |   |   |--- class: 0\n",
      "|   |   |   |   |   |   |--- OnlineSecurity_Yes >  0.50\n",
      "|   |   |   |   |   |   |   |--- class: 1\n",
      "|   |   |--- tenure >  5.50\n",
      "|   |   |   |--- PhoneService_Yes <= 0.50\n",
      "|   |   |   |   |--- TotalCharges <= 330.30\n",
      "|   |   |   |   |   |--- TotalCharges <= 205.32\n",
      "|   |   |   |   |   |   |--- class: 0\n",
      "|   |   |   |   |   |--- TotalCharges >  205.32\n",
      "|   |   |   |   |   |   |--- PaperlessBilling_Yes <= 0.50\n",
      "|   |   |   |   |   |   |   |--- OnlineSecurity_Yes <= 0.50\n",
      "|   |   |   |   |   |   |   |   |--- class: 1\n",
      "|   |   |   |   |   |   |   |--- OnlineSecurity_Yes >  0.50\n",
      "|   |   |   |   |   |   |   |   |--- class: 0\n",
      "|   |   |   |   |   |   |--- PaperlessBilling_Yes >  0.50\n",
      "|   |   |   |   |   |   |   |--- MonthlyCharges <= 42.25\n",
      "|   |   |   |   |   |   |   |   |--- class: 1\n",
      "|   |   |   |   |   |   |   |--- MonthlyCharges >  42.25\n",
      "|   |   |   |   |   |   |   |   |--- class: 0\n",
      "|   |   |   |   |--- TotalCharges >  330.30\n",
      "|   |   |   |   |   |--- MonthlyCharges <= 38.95\n",
      "|   |   |   |   |   |   |--- PaymentMethod_Mailed check <= 0.50\n",
      "|   |   |   |   |   |   |   |--- TotalCharges <= 1401.58\n",
      "|   |   |   |   |   |   |   |   |--- class: 0\n",
      "|   |   |   |   |   |   |   |--- TotalCharges >  1401.58\n",
      "|   |   |   |   |   |   |   |   |--- class: 0\n",
      "|   |   |   |   |   |   |--- PaymentMethod_Mailed check >  0.50\n",
      "|   |   |   |   |   |   |   |--- class: 0\n",
      "|   |   |   |   |   |--- MonthlyCharges >  38.95\n",
      "|   |   |   |   |   |   |--- TotalCharges <= 984.07\n",
      "|   |   |   |   |   |   |   |--- OnlineBackup_Yes <= 0.50\n",
      "|   |   |   |   |   |   |   |   |--- class: 1\n",
      "|   |   |   |   |   |   |   |--- OnlineBackup_Yes >  0.50\n",
      "|   |   |   |   |   |   |   |   |--- class: 0\n",
      "|   |   |   |   |   |   |--- TotalCharges >  984.07\n",
      "|   |   |   |   |   |   |   |--- MonthlyCharges <= 54.05\n",
      "|   |   |   |   |   |   |   |   |--- class: 0\n",
      "|   |   |   |   |   |   |   |--- MonthlyCharges >  54.05\n",
      "|   |   |   |   |   |   |   |   |--- class: 0\n",
      "|   |   |   |--- PhoneService_Yes >  0.50\n",
      "|   |   |   |   |--- OnlineBackup_No <= 0.50\n",
      "|   |   |   |   |   |--- TotalCharges <= 411.45\n",
      "|   |   |   |   |   |   |--- MonthlyCharges <= 55.23\n",
      "|   |   |   |   |   |   |   |--- TotalCharges <= 407.97\n",
      "|   |   |   |   |   |   |   |   |--- class: 0\n",
      "|   |   |   |   |   |   |   |--- TotalCharges >  407.97\n",
      "|   |   |   |   |   |   |   |   |--- class: 1\n",
      "|   |   |   |   |   |   |--- MonthlyCharges >  55.23\n",
      "|   |   |   |   |   |   |   |--- PaymentMethod_Bank transfer (automatic) <= 0.50\n",
      "|   |   |   |   |   |   |   |   |--- class: 1\n",
      "|   |   |   |   |   |   |   |--- PaymentMethod_Bank transfer (automatic) >  0.50\n",
      "|   |   |   |   |   |   |   |   |--- class: 0\n",
      "|   |   |   |   |   |--- TotalCharges >  411.45\n",
      "|   |   |   |   |   |   |--- TotalCharges <= 619.10\n",
      "|   |   |   |   |   |   |   |--- class: 0\n",
      "|   |   |   |   |   |   |--- TotalCharges >  619.10\n",
      "|   |   |   |   |   |   |   |--- tenure <= 9.50\n",
      "|   |   |   |   |   |   |   |   |--- class: 1\n",
      "|   |   |   |   |   |   |   |--- tenure >  9.50\n",
      "|   |   |   |   |   |   |   |   |--- class: 0\n",
      "|   |   |   |   |--- OnlineBackup_No >  0.50\n",
      "|   |   |   |   |   |--- TotalCharges <= 272.10\n",
      "|   |   |   |   |   |   |--- class: 1\n",
      "|   |   |   |   |   |--- TotalCharges >  272.10\n",
      "|   |   |   |   |   |   |--- TotalCharges <= 1236.73\n",
      "|   |   |   |   |   |   |   |--- Partner_Yes <= 0.50\n",
      "|   |   |   |   |   |   |   |   |--- class: 0\n",
      "|   |   |   |   |   |   |   |--- Partner_Yes >  0.50\n",
      "|   |   |   |   |   |   |   |   |--- class: 0\n",
      "|   |   |   |   |   |   |--- TotalCharges >  1236.73\n",
      "|   |   |   |   |   |   |   |--- PaymentMethod_Electronic check <= 0.50\n",
      "|   |   |   |   |   |   |   |   |--- class: 0\n",
      "|   |   |   |   |   |   |   |--- PaymentMethod_Electronic check >  0.50\n",
      "|   |   |   |   |   |   |   |   |--- class: 0\n",
      "|   |--- InternetService_Fiber optic >  0.50\n",
      "|   |   |--- tenure <= 15.50\n",
      "|   |   |   |--- TotalCharges <= 120.00\n",
      "|   |   |   |   |--- TechSupport_No <= 0.50\n",
      "|   |   |   |   |   |--- TotalCharges <= 75.30\n",
      "|   |   |   |   |   |   |--- class: 0\n",
      "|   |   |   |   |   |--- TotalCharges >  75.30\n",
      "|   |   |   |   |   |   |--- gender_Male <= 0.50\n",
      "|   |   |   |   |   |   |   |--- PaperlessBilling_Yes <= 0.50\n",
      "|   |   |   |   |   |   |   |   |--- class: 1\n",
      "|   |   |   |   |   |   |   |--- PaperlessBilling_Yes >  0.50\n",
      "|   |   |   |   |   |   |   |   |--- class: 0\n",
      "|   |   |   |   |   |   |--- gender_Male >  0.50\n",
      "|   |   |   |   |   |   |   |--- class: 1\n",
      "|   |   |   |   |--- TechSupport_No >  0.50\n",
      "|   |   |   |   |   |--- MonthlyCharges <= 69.88\n",
      "|   |   |   |   |   |   |--- class: 1\n",
      "|   |   |   |   |   |--- MonthlyCharges >  69.88\n",
      "|   |   |   |   |   |   |--- TotalCharges <= 70.72\n",
      "|   |   |   |   |   |   |   |--- PaymentMethod_Credit card (automatic) <= 0.50\n",
      "|   |   |   |   |   |   |   |   |--- class: 1\n",
      "|   |   |   |   |   |   |   |--- PaymentMethod_Credit card (automatic) >  0.50\n",
      "|   |   |   |   |   |   |   |   |--- class: 0\n",
      "|   |   |   |   |   |   |--- TotalCharges >  70.72\n",
      "|   |   |   |   |   |   |   |--- TotalCharges <= 90.33\n",
      "|   |   |   |   |   |   |   |   |--- class: 1\n",
      "|   |   |   |   |   |   |   |--- TotalCharges >  90.33\n",
      "|   |   |   |   |   |   |   |   |--- class: 1\n",
      "|   |   |   |--- TotalCharges >  120.00\n",
      "|   |   |   |   |--- MonthlyCharges <= 74.12\n",
      "|   |   |   |   |   |--- TotalCharges <= 336.75\n",
      "|   |   |   |   |   |   |--- PaymentMethod_Bank transfer (automatic) <= 0.50\n",
      "|   |   |   |   |   |   |   |--- TotalCharges <= 322.50\n",
      "|   |   |   |   |   |   |   |   |--- class: 0\n",
      "|   |   |   |   |   |   |   |--- TotalCharges >  322.50\n",
      "|   |   |   |   |   |   |   |   |--- class: 1\n",
      "|   |   |   |   |   |   |--- PaymentMethod_Bank transfer (automatic) >  0.50\n",
      "|   |   |   |   |   |   |   |--- class: 1\n",
      "|   |   |   |   |   |--- TotalCharges >  336.75\n",
      "|   |   |   |   |   |   |--- TotalCharges <= 409.85\n",
      "|   |   |   |   |   |   |   |--- class: 0\n",
      "|   |   |   |   |   |   |--- TotalCharges >  409.85\n",
      "|   |   |   |   |   |   |   |--- MonthlyCharges <= 73.95\n",
      "|   |   |   |   |   |   |   |   |--- class: 0\n",
      "|   |   |   |   |   |   |   |--- MonthlyCharges >  73.95\n",
      "|   |   |   |   |   |   |   |   |--- class: 0\n",
      "|   |   |   |   |--- MonthlyCharges >  74.12\n",
      "|   |   |   |   |   |--- OnlineSecurity_No <= 0.50\n",
      "|   |   |   |   |   |   |--- MonthlyCharges <= 94.10\n",
      "|   |   |   |   |   |   |   |--- MonthlyCharges <= 89.03\n",
      "|   |   |   |   |   |   |   |   |--- class: 0\n",
      "|   |   |   |   |   |   |   |--- MonthlyCharges >  89.03\n",
      "|   |   |   |   |   |   |   |   |--- class: 0\n",
      "|   |   |   |   |   |   |--- MonthlyCharges >  94.10\n",
      "|   |   |   |   |   |   |   |--- TotalCharges <= 242.95\n",
      "|   |   |   |   |   |   |   |   |--- class: 0\n",
      "|   |   |   |   |   |   |   |--- TotalCharges >  242.95\n",
      "|   |   |   |   |   |   |   |   |--- class: 1\n",
      "|   |   |   |   |   |--- OnlineSecurity_No >  0.50\n",
      "|   |   |   |   |   |   |--- MultipleLines_No <= 0.50\n",
      "|   |   |   |   |   |   |   |--- TotalCharges <= 483.00\n",
      "|   |   |   |   |   |   |   |   |--- class: 1\n",
      "|   |   |   |   |   |   |   |--- TotalCharges >  483.00\n",
      "|   |   |   |   |   |   |   |   |--- class: 1\n",
      "|   |   |   |   |   |   |--- MultipleLines_No >  0.50\n",
      "|   |   |   |   |   |   |   |--- MonthlyCharges <= 101.42\n",
      "|   |   |   |   |   |   |   |   |--- class: 1\n",
      "|   |   |   |   |   |   |   |--- MonthlyCharges >  101.42\n",
      "|   |   |   |   |   |   |   |   |--- class: 0\n",
      "|   |   |--- tenure >  15.50\n",
      "|   |   |   |--- PaymentMethod_Electronic check <= 0.50\n",
      "|   |   |   |   |--- tenure <= 51.50\n",
      "|   |   |   |   |   |--- SeniorCitizen_1 <= 0.50\n",
      "|   |   |   |   |   |   |--- MonthlyCharges <= 101.33\n",
      "|   |   |   |   |   |   |   |--- TechSupport_Yes <= 0.50\n",
      "|   |   |   |   |   |   |   |   |--- class: 0\n",
      "|   |   |   |   |   |   |   |--- TechSupport_Yes >  0.50\n",
      "|   |   |   |   |   |   |   |   |--- class: 0\n",
      "|   |   |   |   |   |   |--- MonthlyCharges >  101.33\n",
      "|   |   |   |   |   |   |   |--- MultipleLines_Yes <= 0.50\n",
      "|   |   |   |   |   |   |   |   |--- class: 0\n",
      "|   |   |   |   |   |   |   |--- MultipleLines_Yes >  0.50\n",
      "|   |   |   |   |   |   |   |   |--- class: 1\n",
      "|   |   |   |   |   |--- SeniorCitizen_1 >  0.50\n",
      "|   |   |   |   |   |   |--- TotalCharges <= 2623.93\n",
      "|   |   |   |   |   |   |   |--- TotalCharges <= 1390.17\n",
      "|   |   |   |   |   |   |   |   |--- class: 1\n",
      "|   |   |   |   |   |   |   |--- TotalCharges >  1390.17\n",
      "|   |   |   |   |   |   |   |   |--- class: 0\n",
      "|   |   |   |   |   |   |--- TotalCharges >  2623.93\n",
      "|   |   |   |   |   |   |   |--- TotalCharges <= 2836.82\n",
      "|   |   |   |   |   |   |   |   |--- class: 1\n",
      "|   |   |   |   |   |   |   |--- TotalCharges >  2836.82\n",
      "|   |   |   |   |   |   |   |   |--- class: 1\n",
      "|   |   |   |   |--- tenure >  51.50\n",
      "|   |   |   |   |   |--- TotalCharges <= 6783.25\n",
      "|   |   |   |   |   |   |--- TotalCharges <= 5143.80\n",
      "|   |   |   |   |   |   |   |--- StreamingTV_No <= 0.50\n",
      "|   |   |   |   |   |   |   |   |--- class: 0\n",
      "|   |   |   |   |   |   |   |--- StreamingTV_No >  0.50\n",
      "|   |   |   |   |   |   |   |   |--- class: 0\n",
      "|   |   |   |   |   |   |--- TotalCharges >  5143.80\n",
      "|   |   |   |   |   |   |   |--- TotalCharges <= 5260.03\n",
      "|   |   |   |   |   |   |   |   |--- class: 1\n",
      "|   |   |   |   |   |   |   |--- TotalCharges >  5260.03\n",
      "|   |   |   |   |   |   |   |   |--- class: 0\n",
      "|   |   |   |   |   |--- TotalCharges >  6783.25\n",
      "|   |   |   |   |   |   |--- MonthlyCharges <= 107.03\n",
      "|   |   |   |   |   |   |   |--- Partner_No <= 0.50\n",
      "|   |   |   |   |   |   |   |   |--- class: 1\n",
      "|   |   |   |   |   |   |   |--- Partner_No >  0.50\n",
      "|   |   |   |   |   |   |   |   |--- class: 0\n",
      "|   |   |   |   |   |   |--- MonthlyCharges >  107.03\n",
      "|   |   |   |   |   |   |   |--- class: 0\n",
      "|   |   |   |--- PaymentMethod_Electronic check >  0.50\n",
      "|   |   |   |   |--- tenure <= 55.50\n",
      "|   |   |   |   |   |--- MultipleLines_No <= 0.50\n",
      "|   |   |   |   |   |   |--- PaperlessBilling_No <= 0.50\n",
      "|   |   |   |   |   |   |   |--- MonthlyCharges <= 106.45\n",
      "|   |   |   |   |   |   |   |   |--- class: 1\n",
      "|   |   |   |   |   |   |   |--- MonthlyCharges >  106.45\n",
      "|   |   |   |   |   |   |   |   |--- class: 0\n",
      "|   |   |   |   |   |   |--- PaperlessBilling_No >  0.50\n",
      "|   |   |   |   |   |   |   |--- MonthlyCharges <= 77.08\n",
      "|   |   |   |   |   |   |   |   |--- class: 1\n",
      "|   |   |   |   |   |   |   |--- MonthlyCharges >  77.08\n",
      "|   |   |   |   |   |   |   |   |--- class: 0\n",
      "|   |   |   |   |   |--- MultipleLines_No >  0.50\n",
      "|   |   |   |   |   |   |--- TotalCharges <= 2585.95\n",
      "|   |   |   |   |   |   |   |--- Dependents_Yes <= 0.50\n",
      "|   |   |   |   |   |   |   |   |--- class: 0\n",
      "|   |   |   |   |   |   |   |--- Dependents_Yes >  0.50\n",
      "|   |   |   |   |   |   |   |   |--- class: 1\n",
      "|   |   |   |   |   |   |--- TotalCharges >  2585.95\n",
      "|   |   |   |   |   |   |   |--- MonthlyCharges <= 87.58\n",
      "|   |   |   |   |   |   |   |   |--- class: 0\n",
      "|   |   |   |   |   |   |   |--- MonthlyCharges >  87.58\n",
      "|   |   |   |   |   |   |   |   |--- class: 0\n",
      "|   |   |   |   |--- tenure >  55.50\n",
      "|   |   |   |   |   |--- TotalCharges <= 5715.68\n",
      "|   |   |   |   |   |   |--- MonthlyCharges <= 74.08\n",
      "|   |   |   |   |   |   |   |--- class: 1\n",
      "|   |   |   |   |   |   |--- MonthlyCharges >  74.08\n",
      "|   |   |   |   |   |   |   |--- TechSupport_No <= 0.50\n",
      "|   |   |   |   |   |   |   |   |--- class: 0\n",
      "|   |   |   |   |   |   |   |--- TechSupport_No >  0.50\n",
      "|   |   |   |   |   |   |   |   |--- class: 0\n",
      "|   |   |   |   |   |--- TotalCharges >  5715.68\n",
      "|   |   |   |   |   |   |--- StreamingTV_Yes <= 0.50\n",
      "|   |   |   |   |   |   |   |--- class: 0\n",
      "|   |   |   |   |   |   |--- StreamingTV_Yes >  0.50\n",
      "|   |   |   |   |   |   |   |--- MonthlyCharges <= 104.10\n",
      "|   |   |   |   |   |   |   |   |--- class: 1\n",
      "|   |   |   |   |   |   |   |--- MonthlyCharges >  104.10\n",
      "|   |   |   |   |   |   |   |   |--- class: 0\n",
      "\n"
     ]
    }
   ],
   "source": [
    "print(export_text(dtm_model, feature_names=list(X.columns)))"
   ]
  },
  {
   "cell_type": "markdown",
   "id": "e092bb69-b96c-4ba7-9125-80a2883574b4",
   "metadata": {},
   "source": [
    "###  Decision Tree Regressor"
   ]
  },
  {
   "cell_type": "code",
   "execution_count": 101,
   "id": "b0c77135-10e5-4a08-ae3d-581a3dc6ce33",
   "metadata": {},
   "outputs": [],
   "source": [
    "from sklearn.tree import DecisionTreeRegressor"
   ]
  },
  {
   "cell_type": "code",
   "execution_count": 102,
   "id": "c046d634-3d7a-43e3-9afd-bdd11eae28ad",
   "metadata": {},
   "outputs": [
    {
     "data": {
      "text/html": [
       "<style>#sk-container-id-6 {color: black;background-color: white;}#sk-container-id-6 pre{padding: 0;}#sk-container-id-6 div.sk-toggleable {background-color: white;}#sk-container-id-6 label.sk-toggleable__label {cursor: pointer;display: block;width: 100%;margin-bottom: 0;padding: 0.3em;box-sizing: border-box;text-align: center;}#sk-container-id-6 label.sk-toggleable__label-arrow:before {content: \"▸\";float: left;margin-right: 0.25em;color: #696969;}#sk-container-id-6 label.sk-toggleable__label-arrow:hover:before {color: black;}#sk-container-id-6 div.sk-estimator:hover label.sk-toggleable__label-arrow:before {color: black;}#sk-container-id-6 div.sk-toggleable__content {max-height: 0;max-width: 0;overflow: hidden;text-align: left;background-color: #f0f8ff;}#sk-container-id-6 div.sk-toggleable__content pre {margin: 0.2em;color: black;border-radius: 0.25em;background-color: #f0f8ff;}#sk-container-id-6 input.sk-toggleable__control:checked~div.sk-toggleable__content {max-height: 200px;max-width: 100%;overflow: auto;}#sk-container-id-6 input.sk-toggleable__control:checked~label.sk-toggleable__label-arrow:before {content: \"▾\";}#sk-container-id-6 div.sk-estimator input.sk-toggleable__control:checked~label.sk-toggleable__label {background-color: #d4ebff;}#sk-container-id-6 div.sk-label input.sk-toggleable__control:checked~label.sk-toggleable__label {background-color: #d4ebff;}#sk-container-id-6 input.sk-hidden--visually {border: 0;clip: rect(1px 1px 1px 1px);clip: rect(1px, 1px, 1px, 1px);height: 1px;margin: -1px;overflow: hidden;padding: 0;position: absolute;width: 1px;}#sk-container-id-6 div.sk-estimator {font-family: monospace;background-color: #f0f8ff;border: 1px dotted black;border-radius: 0.25em;box-sizing: border-box;margin-bottom: 0.5em;}#sk-container-id-6 div.sk-estimator:hover {background-color: #d4ebff;}#sk-container-id-6 div.sk-parallel-item::after {content: \"\";width: 100%;border-bottom: 1px solid gray;flex-grow: 1;}#sk-container-id-6 div.sk-label:hover label.sk-toggleable__label {background-color: #d4ebff;}#sk-container-id-6 div.sk-serial::before {content: \"\";position: absolute;border-left: 1px solid gray;box-sizing: border-box;top: 0;bottom: 0;left: 50%;z-index: 0;}#sk-container-id-6 div.sk-serial {display: flex;flex-direction: column;align-items: center;background-color: white;padding-right: 0.2em;padding-left: 0.2em;position: relative;}#sk-container-id-6 div.sk-item {position: relative;z-index: 1;}#sk-container-id-6 div.sk-parallel {display: flex;align-items: stretch;justify-content: center;background-color: white;position: relative;}#sk-container-id-6 div.sk-item::before, #sk-container-id-6 div.sk-parallel-item::before {content: \"\";position: absolute;border-left: 1px solid gray;box-sizing: border-box;top: 0;bottom: 0;left: 50%;z-index: -1;}#sk-container-id-6 div.sk-parallel-item {display: flex;flex-direction: column;z-index: 1;position: relative;background-color: white;}#sk-container-id-6 div.sk-parallel-item:first-child::after {align-self: flex-end;width: 50%;}#sk-container-id-6 div.sk-parallel-item:last-child::after {align-self: flex-start;width: 50%;}#sk-container-id-6 div.sk-parallel-item:only-child::after {width: 0;}#sk-container-id-6 div.sk-dashed-wrapped {border: 1px dashed gray;margin: 0 0.4em 0.5em 0.4em;box-sizing: border-box;padding-bottom: 0.4em;background-color: white;}#sk-container-id-6 div.sk-label label {font-family: monospace;font-weight: bold;display: inline-block;line-height: 1.2em;}#sk-container-id-6 div.sk-label-container {text-align: center;}#sk-container-id-6 div.sk-container {/* jupyter's `normalize.less` sets `[hidden] { display: none; }` but bootstrap.min.css set `[hidden] { display: none !important; }` so we also need the `!important` here to be able to override the default hidden behavior on the sphinx rendered scikit-learn.org. See: https://github.com/scikit-learn/scikit-learn/issues/21755 */display: inline-block !important;position: relative;}#sk-container-id-6 div.sk-text-repr-fallback {display: none;}</style><div id=\"sk-container-id-6\" class=\"sk-top-container\"><div class=\"sk-text-repr-fallback\"><pre>DecisionTreeRegressor(max_depth=8)</pre><b>In a Jupyter environment, please rerun this cell to show the HTML representation or trust the notebook. <br />On GitHub, the HTML representation is unable to render, please try loading this page with nbviewer.org.</b></div><div class=\"sk-container\" hidden><div class=\"sk-item\"><div class=\"sk-estimator sk-toggleable\"><input class=\"sk-toggleable__control sk-hidden--visually\" id=\"sk-estimator-id-6\" type=\"checkbox\" checked><label for=\"sk-estimator-id-6\" class=\"sk-toggleable__label sk-toggleable__label-arrow\">DecisionTreeRegressor</label><div class=\"sk-toggleable__content\"><pre>DecisionTreeRegressor(max_depth=8)</pre></div></div></div></div></div>"
      ],
      "text/plain": [
       "DecisionTreeRegressor(max_depth=8)"
      ]
     },
     "execution_count": 102,
     "metadata": {},
     "output_type": "execute_result"
    }
   ],
   "source": [
    "dtr = DecisionTreeRegressor(max_depth=8)\n",
    "dtr"
   ]
  },
  {
   "cell_type": "code",
   "execution_count": 103,
   "id": "973fd524-d450-4679-8bdb-4e69894a4d20",
   "metadata": {},
   "outputs": [
    {
     "data": {
      "text/html": [
       "<style>#sk-container-id-7 {color: black;background-color: white;}#sk-container-id-7 pre{padding: 0;}#sk-container-id-7 div.sk-toggleable {background-color: white;}#sk-container-id-7 label.sk-toggleable__label {cursor: pointer;display: block;width: 100%;margin-bottom: 0;padding: 0.3em;box-sizing: border-box;text-align: center;}#sk-container-id-7 label.sk-toggleable__label-arrow:before {content: \"▸\";float: left;margin-right: 0.25em;color: #696969;}#sk-container-id-7 label.sk-toggleable__label-arrow:hover:before {color: black;}#sk-container-id-7 div.sk-estimator:hover label.sk-toggleable__label-arrow:before {color: black;}#sk-container-id-7 div.sk-toggleable__content {max-height: 0;max-width: 0;overflow: hidden;text-align: left;background-color: #f0f8ff;}#sk-container-id-7 div.sk-toggleable__content pre {margin: 0.2em;color: black;border-radius: 0.25em;background-color: #f0f8ff;}#sk-container-id-7 input.sk-toggleable__control:checked~div.sk-toggleable__content {max-height: 200px;max-width: 100%;overflow: auto;}#sk-container-id-7 input.sk-toggleable__control:checked~label.sk-toggleable__label-arrow:before {content: \"▾\";}#sk-container-id-7 div.sk-estimator input.sk-toggleable__control:checked~label.sk-toggleable__label {background-color: #d4ebff;}#sk-container-id-7 div.sk-label input.sk-toggleable__control:checked~label.sk-toggleable__label {background-color: #d4ebff;}#sk-container-id-7 input.sk-hidden--visually {border: 0;clip: rect(1px 1px 1px 1px);clip: rect(1px, 1px, 1px, 1px);height: 1px;margin: -1px;overflow: hidden;padding: 0;position: absolute;width: 1px;}#sk-container-id-7 div.sk-estimator {font-family: monospace;background-color: #f0f8ff;border: 1px dotted black;border-radius: 0.25em;box-sizing: border-box;margin-bottom: 0.5em;}#sk-container-id-7 div.sk-estimator:hover {background-color: #d4ebff;}#sk-container-id-7 div.sk-parallel-item::after {content: \"\";width: 100%;border-bottom: 1px solid gray;flex-grow: 1;}#sk-container-id-7 div.sk-label:hover label.sk-toggleable__label {background-color: #d4ebff;}#sk-container-id-7 div.sk-serial::before {content: \"\";position: absolute;border-left: 1px solid gray;box-sizing: border-box;top: 0;bottom: 0;left: 50%;z-index: 0;}#sk-container-id-7 div.sk-serial {display: flex;flex-direction: column;align-items: center;background-color: white;padding-right: 0.2em;padding-left: 0.2em;position: relative;}#sk-container-id-7 div.sk-item {position: relative;z-index: 1;}#sk-container-id-7 div.sk-parallel {display: flex;align-items: stretch;justify-content: center;background-color: white;position: relative;}#sk-container-id-7 div.sk-item::before, #sk-container-id-7 div.sk-parallel-item::before {content: \"\";position: absolute;border-left: 1px solid gray;box-sizing: border-box;top: 0;bottom: 0;left: 50%;z-index: -1;}#sk-container-id-7 div.sk-parallel-item {display: flex;flex-direction: column;z-index: 1;position: relative;background-color: white;}#sk-container-id-7 div.sk-parallel-item:first-child::after {align-self: flex-end;width: 50%;}#sk-container-id-7 div.sk-parallel-item:last-child::after {align-self: flex-start;width: 50%;}#sk-container-id-7 div.sk-parallel-item:only-child::after {width: 0;}#sk-container-id-7 div.sk-dashed-wrapped {border: 1px dashed gray;margin: 0 0.4em 0.5em 0.4em;box-sizing: border-box;padding-bottom: 0.4em;background-color: white;}#sk-container-id-7 div.sk-label label {font-family: monospace;font-weight: bold;display: inline-block;line-height: 1.2em;}#sk-container-id-7 div.sk-label-container {text-align: center;}#sk-container-id-7 div.sk-container {/* jupyter's `normalize.less` sets `[hidden] { display: none; }` but bootstrap.min.css set `[hidden] { display: none !important; }` so we also need the `!important` here to be able to override the default hidden behavior on the sphinx rendered scikit-learn.org. See: https://github.com/scikit-learn/scikit-learn/issues/21755 */display: inline-block !important;position: relative;}#sk-container-id-7 div.sk-text-repr-fallback {display: none;}</style><div id=\"sk-container-id-7\" class=\"sk-top-container\"><div class=\"sk-text-repr-fallback\"><pre>DecisionTreeRegressor(max_depth=8)</pre><b>In a Jupyter environment, please rerun this cell to show the HTML representation or trust the notebook. <br />On GitHub, the HTML representation is unable to render, please try loading this page with nbviewer.org.</b></div><div class=\"sk-container\" hidden><div class=\"sk-item\"><div class=\"sk-estimator sk-toggleable\"><input class=\"sk-toggleable__control sk-hidden--visually\" id=\"sk-estimator-id-7\" type=\"checkbox\" checked><label for=\"sk-estimator-id-7\" class=\"sk-toggleable__label sk-toggleable__label-arrow\">DecisionTreeRegressor</label><div class=\"sk-toggleable__content\"><pre>DecisionTreeRegressor(max_depth=8)</pre></div></div></div></div></div>"
      ],
      "text/plain": [
       "DecisionTreeRegressor(max_depth=8)"
      ]
     },
     "execution_count": 103,
     "metadata": {},
     "output_type": "execute_result"
    }
   ],
   "source": [
    "dtr_model = dtr.fit(X,y)\n",
    "dtr_model"
   ]
  },
  {
   "cell_type": "code",
   "execution_count": 104,
   "id": "5930203b-0e70-4180-b5f4-b5acc03c8d4c",
   "metadata": {},
   "outputs": [
    {
     "data": {
      "text/plain": [
       "0.41588449923208537"
      ]
     },
     "execution_count": 104,
     "metadata": {},
     "output_type": "execute_result"
    }
   ],
   "source": [
    "dtr_model.score(X,y)"
   ]
  },
  {
   "cell_type": "code",
   "execution_count": 105,
   "id": "316e032e-fb8f-49af-ba0b-c104677b956d",
   "metadata": {},
   "outputs": [],
   "source": [
    "from sklearn.model_selection import cross_val_score"
   ]
  },
  {
   "cell_type": "code",
   "execution_count": 106,
   "id": "365cf222-58b6-4212-a9bf-c5a422d2bb52",
   "metadata": {},
   "outputs": [
    {
     "data": {
      "text/plain": [
       "array([0.78251599, 0.78109453, 0.76173542, 0.76386913, 0.78378378])"
      ]
     },
     "execution_count": 106,
     "metadata": {},
     "output_type": "execute_result"
    }
   ],
   "source": [
    "cross_val_score(dtc, X, y)"
   ]
  },
  {
   "cell_type": "code",
   "execution_count": 107,
   "id": "2b247be7-a97c-4094-b4da-5b62cb59b52b",
   "metadata": {},
   "outputs": [
    {
     "data": {
      "text/plain": [
       "0.77488457"
      ]
     },
     "execution_count": 107,
     "metadata": {},
     "output_type": "execute_result"
    }
   ],
   "source": [
    "np.mean([0.7803838 , 0.78109453, 0.76173542, 0.76600284, 0.78520626])"
   ]
  },
  {
   "cell_type": "code",
   "execution_count": 108,
   "id": "216622f0-20d7-4e89-aea0-9f1d68d888ca",
   "metadata": {},
   "outputs": [
    {
     "data": {
      "text/plain": [
       "array([0.74418605, 0.01201923, 0.31578947, ..., 0.26666667, 0.83464567,\n",
       "       0.0516129 ])"
      ]
     },
     "execution_count": 108,
     "metadata": {},
     "output_type": "execute_result"
    }
   ],
   "source": [
    "dtr_pred = dtr_model.predict(X)\n",
    "dtr_pred"
   ]
  },
  {
   "cell_type": "code",
   "execution_count": 109,
   "id": "8c5c4f3d-24e0-4848-9121-d977b6403bad",
   "metadata": {},
   "outputs": [],
   "source": [
    "from sklearn.tree import plot_tree, export_text"
   ]
  },
  {
   "cell_type": "code",
   "execution_count": 110,
   "id": "0f3a5960-9b9f-4c59-ae38-ce14adff0610",
   "metadata": {
    "scrolled": true
   },
   "outputs": [
    {
     "data": {
      "image/png": "[encoded data removed]",
      "text/plain": [
       "<Figure size 3000x1000 with 1 Axes>"
      ]
     },
     "metadata": {},
     "output_type": "display_data"
    }
   ],
   "source": [
    "plt.figure(figsize=(30,10))\n",
    "plot_tree(dtr_model, feature_names=X.columns.tolist(), class_names=None, filled=True, max_depth=5)\n",
    "plt.show()"
   ]
  },
  {
   "cell_type": "markdown",
   "id": "392011a7-609c-4d6a-b773-456ac5146756",
   "metadata": {},
   "source": [
    "### Random Forest Classifier"
   ]
  },
  {
   "cell_type": "code",
   "execution_count": 111,
   "id": "4c5cfe06-9d1e-43ae-8349-38da4f6930d6",
   "metadata": {},
   "outputs": [],
   "source": [
    "from sklearn.ensemble import RandomForestClassifier"
   ]
  },
  {
   "cell_type": "code",
   "execution_count": 112,
   "id": "35e40445-301e-42de-a773-1ffee37f7838",
   "metadata": {},
   "outputs": [
    {
     "data": {
      "text/html": [
       "<style>#sk-container-id-8 {color: black;background-color: white;}#sk-container-id-8 pre{padding: 0;}#sk-container-id-8 div.sk-toggleable {background-color: white;}#sk-container-id-8 label.sk-toggleable__label {cursor: pointer;display: block;width: 100%;margin-bottom: 0;padding: 0.3em;box-sizing: border-box;text-align: center;}#sk-container-id-8 label.sk-toggleable__label-arrow:before {content: \"▸\";float: left;margin-right: 0.25em;color: #696969;}#sk-container-id-8 label.sk-toggleable__label-arrow:hover:before {color: black;}#sk-container-id-8 div.sk-estimator:hover label.sk-toggleable__label-arrow:before {color: black;}#sk-container-id-8 div.sk-toggleable__content {max-height: 0;max-width: 0;overflow: hidden;text-align: left;background-color: #f0f8ff;}#sk-container-id-8 div.sk-toggleable__content pre {margin: 0.2em;color: black;border-radius: 0.25em;background-color: #f0f8ff;}#sk-container-id-8 input.sk-toggleable__control:checked~div.sk-toggleable__content {max-height: 200px;max-width: 100%;overflow: auto;}#sk-container-id-8 input.sk-toggleable__control:checked~label.sk-toggleable__label-arrow:before {content: \"▾\";}#sk-container-id-8 div.sk-estimator input.sk-toggleable__control:checked~label.sk-toggleable__label {background-color: #d4ebff;}#sk-container-id-8 div.sk-label input.sk-toggleable__control:checked~label.sk-toggleable__label {background-color: #d4ebff;}#sk-container-id-8 input.sk-hidden--visually {border: 0;clip: rect(1px 1px 1px 1px);clip: rect(1px, 1px, 1px, 1px);height: 1px;margin: -1px;overflow: hidden;padding: 0;position: absolute;width: 1px;}#sk-container-id-8 div.sk-estimator {font-family: monospace;background-color: #f0f8ff;border: 1px dotted black;border-radius: 0.25em;box-sizing: border-box;margin-bottom: 0.5em;}#sk-container-id-8 div.sk-estimator:hover {background-color: #d4ebff;}#sk-container-id-8 div.sk-parallel-item::after {content: \"\";width: 100%;border-bottom: 1px solid gray;flex-grow: 1;}#sk-container-id-8 div.sk-label:hover label.sk-toggleable__label {background-color: #d4ebff;}#sk-container-id-8 div.sk-serial::before {content: \"\";position: absolute;border-left: 1px solid gray;box-sizing: border-box;top: 0;bottom: 0;left: 50%;z-index: 0;}#sk-container-id-8 div.sk-serial {display: flex;flex-direction: column;align-items: center;background-color: white;padding-right: 0.2em;padding-left: 0.2em;position: relative;}#sk-container-id-8 div.sk-item {position: relative;z-index: 1;}#sk-container-id-8 div.sk-parallel {display: flex;align-items: stretch;justify-content: center;background-color: white;position: relative;}#sk-container-id-8 div.sk-item::before, #sk-container-id-8 div.sk-parallel-item::before {content: \"\";position: absolute;border-left: 1px solid gray;box-sizing: border-box;top: 0;bottom: 0;left: 50%;z-index: -1;}#sk-container-id-8 div.sk-parallel-item {display: flex;flex-direction: column;z-index: 1;position: relative;background-color: white;}#sk-container-id-8 div.sk-parallel-item:first-child::after {align-self: flex-end;width: 50%;}#sk-container-id-8 div.sk-parallel-item:last-child::after {align-self: flex-start;width: 50%;}#sk-container-id-8 div.sk-parallel-item:only-child::after {width: 0;}#sk-container-id-8 div.sk-dashed-wrapped {border: 1px dashed gray;margin: 0 0.4em 0.5em 0.4em;box-sizing: border-box;padding-bottom: 0.4em;background-color: white;}#sk-container-id-8 div.sk-label label {font-family: monospace;font-weight: bold;display: inline-block;line-height: 1.2em;}#sk-container-id-8 div.sk-label-container {text-align: center;}#sk-container-id-8 div.sk-container {/* jupyter's `normalize.less` sets `[hidden] { display: none; }` but bootstrap.min.css set `[hidden] { display: none !important; }` so we also need the `!important` here to be able to override the default hidden behavior on the sphinx rendered scikit-learn.org. See: https://github.com/scikit-learn/scikit-learn/issues/21755 */display: inline-block !important;position: relative;}#sk-container-id-8 div.sk-text-repr-fallback {display: none;}</style><div id=\"sk-container-id-8\" class=\"sk-top-container\"><div class=\"sk-text-repr-fallback\"><pre>RandomForestClassifier(max_depth=8)</pre><b>In a Jupyter environment, please rerun this cell to show the HTML representation or trust the notebook. <br />On GitHub, the HTML representation is unable to render, please try loading this page with nbviewer.org.</b></div><div class=\"sk-container\" hidden><div class=\"sk-item\"><div class=\"sk-estimator sk-toggleable\"><input class=\"sk-toggleable__control sk-hidden--visually\" id=\"sk-estimator-id-8\" type=\"checkbox\" checked><label for=\"sk-estimator-id-8\" class=\"sk-toggleable__label sk-toggleable__label-arrow\">RandomForestClassifier</label><div class=\"sk-toggleable__content\"><pre>RandomForestClassifier(max_depth=8)</pre></div></div></div></div></div>"
      ],
      "text/plain": [
       "RandomForestClassifier(max_depth=8)"
      ]
     },
     "execution_count": 112,
     "metadata": {},
     "output_type": "execute_result"
    }
   ],
   "source": [
    "rtc = RandomForestClassifier(max_depth=8)\n",
    "rtc"
   ]
  },
  {
   "cell_type": "code",
   "execution_count": 113,
   "id": "1a78ecb6-67c3-48c1-b0cd-8bafe5306f8b",
   "metadata": {},
   "outputs": [
    {
     "data": {
      "text/html": [
       "<style>#sk-container-id-9 {color: black;background-color: white;}#sk-container-id-9 pre{padding: 0;}#sk-container-id-9 div.sk-toggleable {background-color: white;}#sk-container-id-9 label.sk-toggleable__label {cursor: pointer;display: block;width: 100%;margin-bottom: 0;padding: 0.3em;box-sizing: border-box;text-align: center;}#sk-container-id-9 label.sk-toggleable__label-arrow:before {content: \"▸\";float: left;margin-right: 0.25em;color: #696969;}#sk-container-id-9 label.sk-toggleable__label-arrow:hover:before {color: black;}#sk-container-id-9 div.sk-estimator:hover label.sk-toggleable__label-arrow:before {color: black;}#sk-container-id-9 div.sk-toggleable__content {max-height: 0;max-width: 0;overflow: hidden;text-align: left;background-color: #f0f8ff;}#sk-container-id-9 div.sk-toggleable__content pre {margin: 0.2em;color: black;border-radius: 0.25em;background-color: #f0f8ff;}#sk-container-id-9 input.sk-toggleable__control:checked~div.sk-toggleable__content {max-height: 200px;max-width: 100%;overflow: auto;}#sk-container-id-9 input.sk-toggleable__control:checked~label.sk-toggleable__label-arrow:before {content: \"▾\";}#sk-container-id-9 div.sk-estimator input.sk-toggleable__control:checked~label.sk-toggleable__label {background-color: #d4ebff;}#sk-container-id-9 div.sk-label input.sk-toggleable__control:checked~label.sk-toggleable__label {background-color: #d4ebff;}#sk-container-id-9 input.sk-hidden--visually {border: 0;clip: rect(1px 1px 1px 1px);clip: rect(1px, 1px, 1px, 1px);height: 1px;margin: -1px;overflow: hidden;padding: 0;position: absolute;width: 1px;}#sk-container-id-9 div.sk-estimator {font-family: monospace;background-color: #f0f8ff;border: 1px dotted black;border-radius: 0.25em;box-sizing: border-box;margin-bottom: 0.5em;}#sk-container-id-9 div.sk-estimator:hover {background-color: #d4ebff;}#sk-container-id-9 div.sk-parallel-item::after {content: \"\";width: 100%;border-bottom: 1px solid gray;flex-grow: 1;}#sk-container-id-9 div.sk-label:hover label.sk-toggleable__label {background-color: #d4ebff;}#sk-container-id-9 div.sk-serial::before {content: \"\";position: absolute;border-left: 1px solid gray;box-sizing: border-box;top: 0;bottom: 0;left: 50%;z-index: 0;}#sk-container-id-9 div.sk-serial {display: flex;flex-direction: column;align-items: center;background-color: white;padding-right: 0.2em;padding-left: 0.2em;position: relative;}#sk-container-id-9 div.sk-item {position: relative;z-index: 1;}#sk-container-id-9 div.sk-parallel {display: flex;align-items: stretch;justify-content: center;background-color: white;position: relative;}#sk-container-id-9 div.sk-item::before, #sk-container-id-9 div.sk-parallel-item::before {content: \"\";position: absolute;border-left: 1px solid gray;box-sizing: border-box;top: 0;bottom: 0;left: 50%;z-index: -1;}#sk-container-id-9 div.sk-parallel-item {display: flex;flex-direction: column;z-index: 1;position: relative;background-color: white;}#sk-container-id-9 div.sk-parallel-item:first-child::after {align-self: flex-end;width: 50%;}#sk-container-id-9 div.sk-parallel-item:last-child::after {align-self: flex-start;width: 50%;}#sk-container-id-9 div.sk-parallel-item:only-child::after {width: 0;}#sk-container-id-9 div.sk-dashed-wrapped {border: 1px dashed gray;margin: 0 0.4em 0.5em 0.4em;box-sizing: border-box;padding-bottom: 0.4em;background-color: white;}#sk-container-id-9 div.sk-label label {font-family: monospace;font-weight: bold;display: inline-block;line-height: 1.2em;}#sk-container-id-9 div.sk-label-container {text-align: center;}#sk-container-id-9 div.sk-container {/* jupyter's `normalize.less` sets `[hidden] { display: none; }` but bootstrap.min.css set `[hidden] { display: none !important; }` so we also need the `!important` here to be able to override the default hidden behavior on the sphinx rendered scikit-learn.org. See: https://github.com/scikit-learn/scikit-learn/issues/21755 */display: inline-block !important;position: relative;}#sk-container-id-9 div.sk-text-repr-fallback {display: none;}</style><div id=\"sk-container-id-9\" class=\"sk-top-container\"><div class=\"sk-text-repr-fallback\"><pre>RandomForestClassifier(max_depth=8)</pre><b>In a Jupyter environment, please rerun this cell to show the HTML representation or trust the notebook. <br />On GitHub, the HTML representation is unable to render, please try loading this page with nbviewer.org.</b></div><div class=\"sk-container\" hidden><div class=\"sk-item\"><div class=\"sk-estimator sk-toggleable\"><input class=\"sk-toggleable__control sk-hidden--visually\" id=\"sk-estimator-id-9\" type=\"checkbox\" checked><label for=\"sk-estimator-id-9\" class=\"sk-toggleable__label sk-toggleable__label-arrow\">RandomForestClassifier</label><div class=\"sk-toggleable__content\"><pre>RandomForestClassifier(max_depth=8)</pre></div></div></div></div></div>"
      ],
      "text/plain": [
       "RandomForestClassifier(max_depth=8)"
      ]
     },
     "execution_count": 113,
     "metadata": {},
     "output_type": "execute_result"
    }
   ],
   "source": [
    "rtmmodel = rtc.fit(X,y)\n",
    "rtmmodel"
   ]
  },
  {
   "cell_type": "code",
   "execution_count": 114,
   "id": "230b6b68-192a-4d1f-a777-8a9a70b2e949",
   "metadata": {},
   "outputs": [
    {
     "data": {
      "text/plain": [
       "0.8276450511945392"
      ]
     },
     "execution_count": 114,
     "metadata": {},
     "output_type": "execute_result"
    }
   ],
   "source": [
    "rtmmodel.score(X,y)"
   ]
  },
  {
   "cell_type": "code",
   "execution_count": 115,
   "id": "a57da4b6-d1e3-4590-a38f-25bb97093c2a",
   "metadata": {},
   "outputs": [],
   "source": [
    "from sklearn.model_selection import cross_val_score"
   ]
  },
  {
   "cell_type": "code",
   "execution_count": 116,
   "id": "af6062ea-b89e-4f5c-b5f9-4802deec4b66",
   "metadata": {
    "scrolled": true
   },
   "outputs": [
    {
     "data": {
      "text/plain": [
       "array([0.80810235, 0.80739161, 0.78378378, 0.81365576, 0.80369844])"
      ]
     },
     "execution_count": 116,
     "metadata": {},
     "output_type": "execute_result"
    }
   ],
   "source": [
    "cross_val_score(rtc, X, y)"
   ]
  },
  {
   "cell_type": "code",
   "execution_count": 117,
   "id": "be1f9952-7d27-4c37-aa7c-99327b96d656",
   "metadata": {},
   "outputs": [
    {
     "data": {
      "text/plain": [
       "0.77488457"
      ]
     },
     "execution_count": 117,
     "metadata": {},
     "output_type": "execute_result"
    }
   ],
   "source": [
    "np.mean([0.7803838 , 0.78109453, 0.76173542, 0.76600284, 0.78520626])"
   ]
  },
  {
   "cell_type": "code",
   "execution_count": 118,
   "id": "9be620fb-40fa-4132-b5ec-63cf2fb7447a",
   "metadata": {},
   "outputs": [
    {
     "data": {
      "text/plain": [
       "array([1, 0, 0, ..., 0, 1, 0])"
      ]
     },
     "execution_count": 118,
     "metadata": {},
     "output_type": "execute_result"
    }
   ],
   "source": [
    "rtm_pred = rtmmodel.predict(X)\n",
    "rtm_pred"
   ]
  },
  {
   "cell_type": "code",
   "execution_count": 119,
   "id": "dc437719-3666-4801-bd59-a8ce66faa773",
   "metadata": {},
   "outputs": [
    {
     "data": {
      "text/html": [
       "<div>\n",
       "<style scoped>\n",
       "    .dataframe tbody tr th:only-of-type {\n",
       "        vertical-align: middle;\n",
       "    }\n",
       "\n",
       "    .dataframe tbody tr th {\n",
       "        vertical-align: top;\n",
       "    }\n",
       "\n",
       "    .dataframe thead th {\n",
       "        text-align: right;\n",
       "    }\n",
       "</style>\n",
       "<table border=\"1\" class=\"dataframe\">\n",
       "  <thead>\n",
       "    <tr style=\"text-align: right;\">\n",
       "      <th>col_0</th>\n",
       "      <th>0</th>\n",
       "      <th>1</th>\n",
       "    </tr>\n",
       "    <tr>\n",
       "      <th>row_0</th>\n",
       "      <th></th>\n",
       "      <th></th>\n",
       "    </tr>\n",
       "  </thead>\n",
       "  <tbody>\n",
       "    <tr>\n",
       "      <th>0</th>\n",
       "      <td>4773</td>\n",
       "      <td>390</td>\n",
       "    </tr>\n",
       "    <tr>\n",
       "      <th>1</th>\n",
       "      <td>822</td>\n",
       "      <td>1047</td>\n",
       "    </tr>\n",
       "  </tbody>\n",
       "</table>\n",
       "</div>"
      ],
      "text/plain": [
       "col_0     0     1\n",
       "row_0            \n",
       "0      4773   390\n",
       "1       822  1047"
      ]
     },
     "execution_count": 119,
     "metadata": {},
     "output_type": "execute_result"
    }
   ],
   "source": [
    "pd.crosstab(y, rtm_pred)  ## confusion matrix"
   ]
  },
  {
   "cell_type": "code",
   "execution_count": 120,
   "id": "4a346990-ac89-4341-8873-f7604d37f342",
   "metadata": {},
   "outputs": [
    {
     "data": {
      "text/plain": [
       "0.8270762229806599"
      ]
     },
     "execution_count": 120,
     "metadata": {},
     "output_type": "execute_result"
    }
   ],
   "source": [
    "(4774+1042)/(4774+389+827+1042)"
   ]
  },
  {
   "cell_type": "code",
   "execution_count": 121,
   "id": "dc3154b2-875f-4aad-bd96-52ee7d49fce0",
   "metadata": {},
   "outputs": [
    {
     "name": "stdout",
     "output_type": "stream",
     "text": [
      "              precision    recall  f1-score   support\n",
      "\n",
      "           0       0.85      0.92      0.89      5163\n",
      "           1       0.73      0.56      0.63      1869\n",
      "\n",
      "    accuracy                           0.83      7032\n",
      "   macro avg       0.79      0.74      0.76      7032\n",
      "weighted avg       0.82      0.83      0.82      7032\n",
      "\n"
     ]
    }
   ],
   "source": [
    "print(classification_report(y,rtm_pred))"
   ]
  },
  {
   "cell_type": "code",
   "execution_count": 122,
   "id": "91ef1dd8-60de-440a-8f5f-d136a2b5a648",
   "metadata": {
    "scrolled": true
   },
   "outputs": [
    {
     "data": {
      "text/plain": [
       "<sklearn.metrics._plot.roc_curve.RocCurveDisplay at 0x1cda0d60390>"
      ]
     },
     "execution_count": 122,
     "metadata": {},
     "output_type": "execute_result"
    },
    {
     "data": {
      "image/png": "[encoded data removed]",
      "text/plain": [
       "<Figure size 640x480 with 1 Axes>"
      ]
     },
     "metadata": {},
     "output_type": "display_data"
    }
   ],
   "source": [
    "RocCurveDisplay.from_predictions(y,rtm_pred)  ## AUC -- 0.77"
   ]
  },
  {
   "cell_type": "code",
   "execution_count": 123,
   "id": "f62f4302-36fa-4ffd-9cf1-4bf5ddfbf03a",
   "metadata": {},
   "outputs": [],
   "source": [
    "from sklearn.linear_model import LinearRegression"
   ]
  },
  {
   "cell_type": "code",
   "execution_count": 124,
   "id": "bedea771-5dbf-4282-835d-c71d91f2f061",
   "metadata": {},
   "outputs": [],
   "source": [
    "reg_mod = LinearRegression().fit(X,y)"
   ]
  },
  {
   "cell_type": "code",
   "execution_count": 125,
   "id": "377029e0-979a-485d-a498-d68aad2f4e03",
   "metadata": {},
   "outputs": [
    {
     "data": {
      "text/plain": [
       "0.2840573969042246"
      ]
     },
     "execution_count": 125,
     "metadata": {},
     "output_type": "execute_result"
    }
   ],
   "source": [
    "reg_mod.score(X,y) # R-square"
   ]
  },
  {
   "cell_type": "code",
   "execution_count": 126,
   "id": "bc3f9968-c38c-439d-b23d-879bc8a9d1fe",
   "metadata": {},
   "outputs": [],
   "source": [
    "reg_pred = reg_mod.predict(X)"
   ]
  },
  {
   "cell_type": "code",
   "execution_count": 127,
   "id": "5d94e0d2-c527-404c-8b72-624fd10278e6",
   "metadata": {},
   "outputs": [
    {
     "data": {
      "text/plain": [
       "array([0.47087868, 0.02826054, 0.30887206, ..., 0.3860801 , 0.6354899 ,\n",
       "       0.06452489])"
      ]
     },
     "execution_count": 127,
     "metadata": {},
     "output_type": "execute_result"
    }
   ],
   "source": [
    "reg_pred"
   ]
  },
  {
   "cell_type": "code",
   "execution_count": 128,
   "id": "48af2214-5478-4dd3-bb7e-81288378c5cd",
   "metadata": {},
   "outputs": [],
   "source": [
    "reg_resid = y - reg_pred"
   ]
  },
  {
   "cell_type": "code",
   "execution_count": 129,
   "id": "db6d981b-ebe3-4fbd-8886-562dc68c6ab0",
   "metadata": {},
   "outputs": [
    {
     "data": {
      "text/plain": [
       "0.3737799093539415"
      ]
     },
     "execution_count": 129,
     "metadata": {},
     "output_type": "execute_result"
    }
   ],
   "source": [
    "np.sqrt(np.mean(reg_resid**2) )  # RMSE"
   ]
  },
  {
   "cell_type": "markdown",
   "id": "6d123a5c-85a2-4c4f-9a6a-5a8fc61e677d",
   "metadata": {},
   "source": [
    "### Ensemble method -- Gradient Boosting Regressor"
   ]
  },
  {
   "cell_type": "code",
   "execution_count": 130,
   "id": "193480d6-d88f-44ab-8050-02ecff19004b",
   "metadata": {},
   "outputs": [],
   "source": [
    "from sklearn.ensemble import GradientBoostingRegressor"
   ]
  },
  {
   "cell_type": "code",
   "execution_count": 131,
   "id": "3c404604-2421-4823-9f1a-a089881f3bbc",
   "metadata": {},
   "outputs": [],
   "source": [
    "gbm = GradientBoostingRegressor(n_estimators=500)"
   ]
  },
  {
   "cell_type": "code",
   "execution_count": 132,
   "id": "04ac0e91-0edd-4356-8b86-176899149aef",
   "metadata": {},
   "outputs": [],
   "source": [
    "gbmmod = gbm.fit(X,y)"
   ]
  },
  {
   "cell_type": "code",
   "execution_count": 133,
   "id": "3d0f17a2-8c6b-4ae6-94b7-a01bdb55c7e1",
   "metadata": {},
   "outputs": [
    {
     "data": {
      "text/plain": [
       "0.49206231930481503"
      ]
     },
     "execution_count": 133,
     "metadata": {},
     "output_type": "execute_result"
    }
   ],
   "source": [
    "gbmmod.score(X,y) # R -square"
   ]
  },
  {
   "cell_type": "code",
   "execution_count": 134,
   "id": "a53e074f-2cdb-4702-819a-6ecc826cb7d6",
   "metadata": {},
   "outputs": [],
   "source": [
    "gbm_pre = gbmmod.predict(X)"
   ]
  },
  {
   "cell_type": "code",
   "execution_count": 135,
   "id": "8f272bae-c2ec-407f-8966-4488cbff31e5",
   "metadata": {},
   "outputs": [],
   "source": [
    "gbm_resid = y - gbm_pre"
   ]
  },
  {
   "cell_type": "code",
   "execution_count": 136,
   "id": "22565e2a-f0b8-4845-ba2b-190484d55fae",
   "metadata": {},
   "outputs": [
    {
     "data": {
      "text/plain": [
       "0.3148343188099185"
      ]
     },
     "execution_count": 136,
     "metadata": {},
     "output_type": "execute_result"
    }
   ],
   "source": [
    "np.sqrt(np.mean(gbm_resid**2)) ## RMSE"
   ]
  },
  {
   "cell_type": "markdown",
   "id": "ae549998-5ad5-472d-8b02-6a2245d104d4",
   "metadata": {},
   "source": [
    "### Gardient Boosting Classifier"
   ]
  },
  {
   "cell_type": "code",
   "execution_count": 137,
   "id": "79dc8242-2954-4035-86c7-bb6fb88730b9",
   "metadata": {},
   "outputs": [],
   "source": [
    "from sklearn.ensemble import GradientBoostingClassifier"
   ]
  },
  {
   "cell_type": "code",
   "execution_count": 138,
   "id": "00b6593e-c408-48d7-b6fe-904a7939aaf1",
   "metadata": {},
   "outputs": [],
   "source": [
    "gbc = GradientBoostingClassifier(n_estimators=500)"
   ]
  },
  {
   "cell_type": "code",
   "execution_count": 139,
   "id": "34d09753-9c69-47da-bd33-2e9b852fc913",
   "metadata": {},
   "outputs": [],
   "source": [
    "gbcmodel = gbc.fit(X,y)"
   ]
  },
  {
   "cell_type": "code",
   "execution_count": 140,
   "id": "3f98a901-fb61-42cd-a97d-29a9c0efa467",
   "metadata": {},
   "outputs": [
    {
     "data": {
      "text/plain": [
       "0.8670364050056882"
      ]
     },
     "execution_count": 140,
     "metadata": {},
     "output_type": "execute_result"
    }
   ],
   "source": [
    "gbcmodel.score(X,y) ## R square"
   ]
  },
  {
   "cell_type": "code",
   "execution_count": 141,
   "id": "63aea3b5-e9cb-4626-8e6e-f449e3fa6ffe",
   "metadata": {},
   "outputs": [],
   "source": [
    "gbc_pre = gbcmodel.predict(X)"
   ]
  },
  {
   "cell_type": "code",
   "execution_count": 142,
   "id": "5572eb13-6a38-45f4-8f65-05041b3905ec",
   "metadata": {},
   "outputs": [],
   "source": [
    "gbc_resid = y - gbc_pre"
   ]
  },
  {
   "cell_type": "code",
   "execution_count": 143,
   "id": "7a6c0848-611e-43ec-adb1-be2bed03a076",
   "metadata": {},
   "outputs": [
    {
     "data": {
      "text/html": [
       "<div>\n",
       "<style scoped>\n",
       "    .dataframe tbody tr th:only-of-type {\n",
       "        vertical-align: middle;\n",
       "    }\n",
       "\n",
       "    .dataframe tbody tr th {\n",
       "        vertical-align: top;\n",
       "    }\n",
       "\n",
       "    .dataframe thead th {\n",
       "        text-align: right;\n",
       "    }\n",
       "</style>\n",
       "<table border=\"1\" class=\"dataframe\">\n",
       "  <thead>\n",
       "    <tr style=\"text-align: right;\">\n",
       "      <th>col_0</th>\n",
       "      <th>0</th>\n",
       "      <th>1</th>\n",
       "    </tr>\n",
       "    <tr>\n",
       "      <th>row_0</th>\n",
       "      <th></th>\n",
       "      <th></th>\n",
       "    </tr>\n",
       "  </thead>\n",
       "  <tbody>\n",
       "    <tr>\n",
       "      <th>0</th>\n",
       "      <td>4852</td>\n",
       "      <td>311</td>\n",
       "    </tr>\n",
       "    <tr>\n",
       "      <th>1</th>\n",
       "      <td>624</td>\n",
       "      <td>1245</td>\n",
       "    </tr>\n",
       "  </tbody>\n",
       "</table>\n",
       "</div>"
      ],
      "text/plain": [
       "col_0     0     1\n",
       "row_0            \n",
       "0      4852   311\n",
       "1       624  1245"
      ]
     },
     "execution_count": 143,
     "metadata": {},
     "output_type": "execute_result"
    }
   ],
   "source": [
    "pd.crosstab(y, gbc_pre)"
   ]
  },
  {
   "cell_type": "code",
   "execution_count": 144,
   "id": "62c62d5c-38ea-476f-a7d0-88a21487e300",
   "metadata": {},
   "outputs": [
    {
     "data": {
      "text/plain": [
       "0.8670364050056882"
      ]
     },
     "execution_count": 144,
     "metadata": {},
     "output_type": "execute_result"
    }
   ],
   "source": [
    "(4852+1245)/(4852+311+624+1245)"
   ]
  },
  {
   "cell_type": "code",
   "execution_count": 145,
   "id": "88f2bf91-f049-4fea-849a-0a0f09bb80d9",
   "metadata": {},
   "outputs": [
    {
     "name": "stdout",
     "output_type": "stream",
     "text": [
      "              precision    recall  f1-score   support\n",
      "\n",
      "           0       0.89      0.94      0.91      5163\n",
      "           1       0.80      0.67      0.73      1869\n",
      "\n",
      "    accuracy                           0.87      7032\n",
      "   macro avg       0.84      0.80      0.82      7032\n",
      "weighted avg       0.86      0.87      0.86      7032\n",
      "\n"
     ]
    }
   ],
   "source": [
    "print(classification_report(y,gbc_pre))"
   ]
  },
  {
   "cell_type": "code",
   "execution_count": 146,
   "id": "cccf22c3-7535-4479-bed5-1d93326757ea",
   "metadata": {},
   "outputs": [
    {
     "data": {
      "text/plain": [
       "<sklearn.metrics._plot.roc_curve.RocCurveDisplay at 0x1cda0daa890>"
      ]
     },
     "execution_count": 146,
     "metadata": {},
     "output_type": "execute_result"
    },
    {
     "data": {
      "image/png": "[encoded data removed]",
      "text/plain": [
       "<Figure size 640x480 with 1 Axes>"
      ]
     },
     "metadata": {},
     "output_type": "display_data"
    }
   ],
   "source": [
    "RocCurveDisplay.from_predictions(y,gbc_pre)  ## AUC -- 0.77"
   ]
  },
  {
   "cell_type": "code",
   "execution_count": 147,
   "id": "27aa9a26-4eda-45fc-81bf-ec1da69e440a",
   "metadata": {},
   "outputs": [],
   "source": [
    "import pickle"
   ]
  },
  {
   "cell_type": "code",
   "execution_count": 148,
   "id": "e4d44165-71d8-4303-9fda-04ddab95c757",
   "metadata": {},
   "outputs": [],
   "source": [
    "pickle.dump(gbcmodel,open('gbcmodel.pkl', 'wb')) ### wb indicates write "
   ]
  },
  {
   "cell_type": "code",
   "execution_count": 151,
   "id": "59152c63-6441-4aed-9e5b-88c9e8b2fbfc",
   "metadata": {},
   "outputs": [],
   "source": [
    "pkl_model = pickle.load(open('gbcmodel.pkl', 'rb')) ### rb indicates read"
   ]
  }
 ],
 "metadata": {
  "kernelspec": {
   "display_name": "Python 3 (ipykernel)",
   "language": "python",
   "name": "python3"
  },
  "language_info": {
   "codemirror_mode": {
    "name": "ipython",
    "version": 3
   },
   "file_extension": ".py",
   "mimetype": "text/x-python",
   "name": "python",
   "nbconvert_exporter": "python",
   "pygments_lexer": "ipython3",
   "version": "3.11.7"
  }
 },
 "nbformat": 4,
 "nbformat_minor": 5
}
