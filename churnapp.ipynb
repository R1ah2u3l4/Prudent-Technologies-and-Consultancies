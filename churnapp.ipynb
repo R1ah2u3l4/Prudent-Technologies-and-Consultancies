{
 "cells": [
  {
   "cell_type": "code",
   "execution_count": 1,
   "id": "1b1ab778-582f-4a08-b5c1-bc6355439ffc",
   "metadata": {},
   "outputs": [],
   "source": [
    "import pandas as pd\n",
    "import streamlit as st\n",
    "import numpy as np\n",
    "import pickle"
   ]
  },
  {
   "cell_type": "code",
   "execution_count": 2,
   "id": "b364dc36-4f57-4a97-85da-e2ba7cef00c1",
   "metadata": {},
   "outputs": [],
   "source": [
    "col1,col2,col3,col4,col5,col6,col7 = st.columns(7)"
   ]
  },
  {
   "cell_type": "code",
   "execution_count": 8,
   "id": "c31e08e0-b667-46d9-9966-10b6fa7efd9c",
   "metadata": {},
   "outputs": [],
   "source": [
    "import warnings    ## To surpass the warnings from the data\n",
    "warnings.filterwarnings(\"ignore\")"
   ]
  },
  {
   "cell_type": "code",
   "execution_count": 9,
   "id": "25b92de8-748b-43cc-b40e-41d7e2b8ffcd",
   "metadata": {},
   "outputs": [
    {
     "data": {
      "text/plain": [
       "DeltaGenerator()"
      ]
     },
     "execution_count": 9,
     "metadata": {},
     "output_type": "execute_result"
    }
   ],
   "source": [
    "# Define Streamlit app layout and widgets\n",
    "st.title('Customer Churn Prediction')"
   ]
  },
  {
   "cell_type": "code",
   "execution_count": 5,
   "id": "de408c2d-4866-4ab7-80ea-6fbbc0b0846f",
   "metadata": {},
   "outputs": [
    {
     "name": "stderr",
     "output_type": "stream",
     "text": [
      "2024-06-09 17:24:10.545 Session state does not function when running a script without `streamlit run`\n"
     ]
    }
   ],
   "source": [
    "with col1:\n",
    "    ##Tenure, Monthlycharges, Total_charges\n",
    "    tenure = st.slider('tenure', min_value = 1, max_value =72, value=24)\n",
    "    MonthlyCharges = st.slider('MonthlyCharges', min_value=18.0, max_value=119.0, value=70.0, step=0.25)\n",
    "    TotalCharges = st.number_input('TotalCharges', min_value=0.0, max_value=8465.0, value=3547.0, step=1.0)  "
   ]
  },
  {
   "cell_type": "code",
   "execution_count": 6,
   "id": "78b477a1-c0da-4505-9e61-26719547ab55",
   "metadata": {},
   "outputs": [],
   "source": [
    "with col2:\n",
    "    #Gender\n",
    "    gender_display = ('gender_Female', 'gender_Male')\n",
    "    gender_options = list(range(len(gender_display)))\n",
    "    gender = st.selectbox('gender', gender_options, format_func=lambda x:gender_display[x])\n",
    "    \n",
    "    #Senior Citizen\n",
    "    senior_citizen_display=('SeniorCitizen_0', 'SeniorCitizen_1')\n",
    "    senior_citizen_options=list(range(len(senior_citizen_display)))\n",
    "    SeniorCitizen=st.selectbox('SeniorCitizen',senior_citizen_options,format_func=lambda x:senior_citizen_display[x])\n",
    "    \n",
    "    #Partner display\n",
    "    partner_display=('Partner_No', 'Partner_Yes')\n",
    "    partner_options=list(range(len(partner_display)))\n",
    "    Partner=st.selectbox('Partner',partner_options,format_func=lambda x:partner_display[x])"
   ]
  },
  {
   "cell_type": "code",
   "execution_count": 7,
   "id": "988d89ce-92fa-4450-aad1-094544d037fb",
   "metadata": {},
   "outputs": [
    {
     "ename": "SyntaxError",
     "evalue": "unterminated string literal (detected at line 8) (3317702531.py, line 8)",
     "output_type": "error",
     "traceback": [
      "\u001b[1;36m  Cell \u001b[1;32mIn[7], line 8\u001b[1;36m\u001b[0m\n\u001b[1;33m    phoneservice_display=('PhoneService_No', 'PhoneService_Yes'')\u001b[0m\n\u001b[1;37m                                                               ^\u001b[0m\n\u001b[1;31mSyntaxError\u001b[0m\u001b[1;31m:\u001b[0m unterminated string literal (detected at line 8)\n"
     ]
    }
   ],
   "source": [
    "with col3:\n",
    "    #Dependents\n",
    "    dependents_display=('Dependents_No', 'Dependents_Yes')\n",
    "    dependents_options=list(range(len(dependents_display)))\n",
    "    Dependents=st.selectbox('Dependents',dependents_options,format_func=lambda x:dependents_display[x])\n",
    "    \n",
    "    #Phoneservice\n",
    "    phoneservice_display=('PhoneService_No', 'PhoneService_Yes'')\n",
    "    phoneservice_options=list(range(len(phoneservice_display)))\n",
    "    PhoneService=st.selectbox('PhoneService',phoneservice_options,format_func=lambda x:phoneservice_display[x])\n",
    "    \n",
    "    #Multiple Lines\n",
    "    multiplelines_display=('MultipleLines_No', 'MultipleLines_No phone service', 'MultipleLines_Yes')\n",
    "    multiplelines_options=list(range(len(multiplelines_display)))\n",
    "    MultipleLines=st.selectbox('MultipleLines',multiplelines_options,format_func=lambda x:multiplelines_display[x])"
   ]
  },
  {
   "cell_type": "code",
   "execution_count": null,
   "id": "43d653de-be48-4889-8810-b67128b989bc",
   "metadata": {},
   "outputs": [],
   "source": [
    "with col4:\n",
    "    #Internet Service\n",
    "    internetservice_display=('InternetService_DSL', 'InternetService_Fiber optic', 'InternetService_No')\n",
    "    internetservice_options=list(range(len(internetservice_display)))\n",
    "    InternetService=st.selectbox('InternetService',internetservice_options,format_func=lambda x:internetservice_display[x])\n",
    "    \n",
    "    #Online security\n",
    "    onlinesecurity_display=('OnlineSecurity_No', 'OnlineSecurity_No internet service', 'OnlineSecurity_Yes'')\n",
    "    onlinesecurity_options=list(range(len(onlinesecurity_display)))\n",
    "    OnlineSecurity=st.selectbox('OnlineSecurity',onlinesecurity_options,format_func=lambda x:onlinesecurity_display[x])\n",
    "    \n",
    "    #online backup\n",
    "    onlinebackup_display=('OnlineBackup_No', 'OnlineBackup_No internet service', 'OnlineBackup_Yes',)\n",
    "    onlinebackup_options=list(range(len(onlinebackup_display)))\n",
    "    OnlineBackup=st.selectbox('OnlineBackup',onlinebackup_options,format_func=lambda x:onlinebackup_display[x])"
   ]
  },
  {
   "cell_type": "code",
   "execution_count": null,
   "id": "e2cab48c-eeec-47fc-aa68-f16cbb9d13c8",
   "metadata": {},
   "outputs": [],
   "source": [
    "with col5:\n",
    "    # Device Protection\n",
    "     deviceprotection_display=('DeviceProtection_No', 'DeviceProtection_No internet service', 'DeviceProtection_Yes')\n",
    "     deviceprotection_options=list(range(len(deviceprotection_display)))\n",
    "     DeviceProtection=st.selectbox('DeviceProtection',deviceprotection_options,format_func=lambda x:deviceprotection_display[x])\n",
    "    \n",
    "    # Tech support \n",
    "     techsupport_display=('TechSupport_No', 'TechSupport_No internet service', 'TechSupport_Yes')\n",
    "     techsupport_options=list(range(len(techsupport_display)))\n",
    "     TechSupport=st.selectbox('TechSupport',techsupport_options,format_func=lambda x:techsupport_display[x])\n",
    "    \n",
    "    # streaming Tv\n",
    "     streamingtv_display=('StreamingTV_No', 'StreamingTV_No internet service', 'StreamingTV_Yes')\n",
    "     streamingtv_options=list(range(len(streamingtv_display)))\n",
    "     StreamingTV=st.selectbox('StreamingTV',streamingtv_options,format_func=lambda x:streamingtv_display[x])"
   ]
  },
  {
   "cell_type": "code",
   "execution_count": null,
   "id": "de90c7b0-f5b8-46a4-aec4-f3dd9dd8cf58",
   "metadata": {},
   "outputs": [],
   "source": [
    "with col6:\n",
    "    # Streaming movies\n",
    "     streamingmovies_display=('StreamingMovies_No', 'StreamingMovies_No internet service',  'StreamingMovies_Yes')\n",
    "     streamingmovies_options=list(range(len(streamingmovies_display)))\n",
    "     StreamingMovies=st.selectbox('StreamingMovies',streamingmovies_options,format_func=lambda x:streamingmovies_display[x])\n",
    "\n",
    "    # Payment \n",
    "     paymentmethod_display=('PaymentMethod_Bank transfer (automatic)', 'PaymentMethod_Credit card (automatic)', 'PaymentMethod_Electronic check', 'PaymentMethod_Mailed check')\n",
    "     paymentmethod_options=list(range(len(paymentmethod_display)))\n",
    "     PaymentMethod=st.selectbox('PaymentMethod',paymentmethod_options,format_func=lambda x:paymentmethod_display[x])\n",
    "\n",
    "    # Paperless billing\n",
    "     paperless_billing_display=('PaperlessBilling_No', 'PaperlessBilling_Yes')\n",
    "     paperless_billing_options=list(range(len(paperless_billing_display)))\n",
    "     PaperlessBilling=st.selectbox('PaperlessBilling',paperless_billing_options,format_func=lambda x:paperless_billing_display[x])\n"
   ]
  },
  {
   "cell_type": "code",
   "execution_count": null,
   "id": "6da286a2-5ce4-412f-bbe2-49060d2b1dfe",
   "metadata": {},
   "outputs": [],
   "source": [
    "with col7:\n",
    "    # contract \n",
    "     contract_display=('Contract_Month-to-month', 'Contract_One year', 'Contract_Two year')\n",
    "     contract_options=list(range(len(contract_display)))\n",
    "     Contract=st.selectbox('Contract',contract_options,format_func=lambda x:contract_display[x])\n",
    "\n",
    "    # Churn\n",
    "     churn_display=('Churn_No', 'Churn_Yes')\n",
    "     churn_options=list(range(len(churn_display)))\n",
    "     Churn=st.selectbox('Churn',churn_options,format_func=lambda x:churn_display[x])\n"
   ]
  },
  {
   "cell_type": "code",
   "execution_count": null,
   "id": "907bf49f-ef47-4132-963b-1f23a77398bc",
   "metadata": {},
   "outputs": [],
   "source": [
    "import os\n",
    "file_path = os.path.join(\"C:\\\\Users\\\\hp\\\\Desktop\\\\1.2 Customer churn\", \"gbcmodel.pkl\")"
   ]
  },
  {
   "cell_type": "code",
   "execution_count": null,
   "id": "0befba46-9b2b-4d43-a5d5-79fda4ef5350",
   "metadata": {},
   "outputs": [],
   "source": [
    "model = pickle.load(open(file_path, 'rb'))"
   ]
  },
  {
   "cell_type": "code",
   "execution_count": null,
   "id": "c6ffa277-759a-4b41-85b2-fa6247b15f12",
   "metadata": {},
   "outputs": [],
   "source": [
    "## Create a dictionary \n",
    "my_dict = {\n",
    "    'tenure': tenure,\n",
    "    'MonthlyCharges': MonthlyCharges,\n",
    "    'TotalCharges': TotalCharges,\n",
    "    'gender': gender,\n",
    "    'SeniorCitizen': SeniorCitizen,\n",
    "    'Partner': Partner,\n",
    "    'Dependents': Dependents,\n",
    "    'PhoneService': PhoneService,\n",
    "    'MultipleLines': MultipleLines,\n",
    "    'InternetService': InternetService,\n",
    "    'OnlineSecurity': OnlineSecurity,\n",
    "    'OnlineBackup': OnlineBackup,\n",
    "    'DeviceProtection': DeviceProtection,\n",
    "    'TechSupport': TechSupport,\n",
    "    'StreamingTV': StreamingTV,\n",
    "    'StreamingMovies': StreamingMovies,\n",
    "    'Contract': Contract,\n",
    "    'PaperlessBilling': PaperlessBilling,\n",
    "    'PaymentMethod': PaymentMethod,\n",
    "    'Churn': Churn,\n",
    "}"
   ]
  },
  {
   "cell_type": "code",
   "execution_count": null,
   "id": "5170591e-c987-4dd3-a7f2-832872a0c104",
   "metadata": {},
   "outputs": [],
   "source": [
    "df = pd.DataFrame([my_dict])\n",
    "df = pd.get_dummies(df).reindex(columns=df.columns, fill_value=0)"
   ]
  },
  {
   "cell_type": "code",
   "execution_count": null,
   "id": "33bcb2ea-d129-4af1-a539-fbf0869da529",
   "metadata": {},
   "outputs": [],
   "source": [
    "if st.button(\"Predict\"):\n",
    "    result = model.predict(df)\n",
    "    probability =model.predict_proba(df)\n",
    "    st.text(result[0])\n",
    "    st.text(probability[0])"
   ]
  }
 ],
 "metadata": {
  "kernelspec": {
   "display_name": "Python 3 (ipykernel)",
   "language": "python",
   "name": "python3"
  },
  "language_info": {
   "codemirror_mode": {
    "name": "ipython",
    "version": 3
   },
   "file_extension": ".py",
   "mimetype": "text/x-python",
   "name": "python",
   "nbconvert_exporter": "python",
   "pygments_lexer": "ipython3",
   "version": "3.11.7"
  }
 },
 "nbformat": 4,
 "nbformat_minor": 5
}
